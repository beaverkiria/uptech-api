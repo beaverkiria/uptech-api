{
 "cells": [
  {
   "cell_type": "code",
   "execution_count": 1,
   "metadata": {
    "collapsed": true
   },
   "outputs": [],
   "source": [
    "import os\n",
    "import re\n",
    "from time import sleep, time\n",
    "\n",
    "import bs4\n",
    "import grequests\n",
    "import requests\n",
    "import json\n",
    "from uptech.utils import chunks\n",
    "import os\n",
    "import re"
   ]
  },
  {
   "cell_type": "code",
   "execution_count": 2,
   "outputs": [],
   "source": [
    "letters = [\n",
    "    \"A\",\n",
    "    \"B\",\n",
    "    \"V\",\n",
    "    \"G\",\n",
    "    \"D\",\n",
    "    \"E\",\n",
    "    \"ZH\",\n",
    "    \"Z\",\n",
    "    \"I\",\n",
    "    \"Y\",\n",
    "    \"K\",\n",
    "    \"L\",\n",
    "    \"M\",\n",
    "    \"N\",\n",
    "    \"O\",\n",
    "    \"P\",\n",
    "    \"R\",\n",
    "    \"S\",\n",
    "    \"T\",\n",
    "    \"U\",\n",
    "    \"F\",\n",
    "    \"H\",\n",
    "    \"C\",\n",
    "    \"CH\",\n",
    "    \"SH\",\n",
    "    \"AE\",\n",
    "    \"YU\",\n",
    "    \"YA\",\n",
    "]\n",
    "base_url = 'https://meds.is'"
   ],
   "metadata": {
    "collapsed": false,
    "pycharm": {
     "name": "#%%\n"
    }
   }
  },
  {
   "cell_type": "code",
   "execution_count": 5,
   "outputs": [],
   "source": [
    "resp = requests.get('https://meds.is/alphabet/A')\n"
   ],
   "metadata": {
    "collapsed": false,
    "pycharm": {
     "name": "#%%\n"
    }
   }
  },
  {
   "cell_type": "code",
   "execution_count": 10,
   "outputs": [],
   "source": [
    "soup = bs4.BeautifulSoup(resp.content, 'html.parser')"
   ],
   "metadata": {
    "collapsed": false,
    "pycharm": {
     "name": "#%%\n"
    }
   }
  },
  {
   "cell_type": "code",
   "execution_count": 15,
   "outputs": [],
   "source": [
    "items = soup.find_all(href=lambda h: h and h.startswith('/drugs/'))"
   ],
   "metadata": {
    "collapsed": false,
    "pycharm": {
     "name": "#%%\n"
    }
   }
  },
  {
   "cell_type": "code",
   "execution_count": 21,
   "outputs": [
    {
     "data": {
      "text/plain": "('Абаджио', '/drugs/24188-abadzhio')"
     },
     "execution_count": 21,
     "metadata": {},
     "output_type": "execute_result"
    }
   ],
   "source": [
    "items[0].text.strip(), items[0]['href']"
   ],
   "metadata": {
    "collapsed": false,
    "pycharm": {
     "name": "#%%\n"
    }
   }
  },
  {
   "cell_type": "code",
   "execution_count": 25,
   "outputs": [],
   "source": [
    "def parse_letter_page(html):\n",
    "    soup = bs4.BeautifulSoup(resp.content, 'html.parser')\n",
    "    items = soup.find_all(href=lambda h: h and h.startswith('/drugs/'))\n",
    "    return [{'name': it.text.strip(), 'url': base_url + it['href']} for it in items]"
   ],
   "metadata": {
    "collapsed": false,
    "pycharm": {
     "name": "#%%\n"
    }
   }
  },
  {
   "cell_type": "code",
   "execution_count": 32,
   "outputs": [],
   "source": [
    "data = []"
   ],
   "metadata": {
    "collapsed": false,
    "pycharm": {
     "name": "#%%\n"
    }
   }
  },
  {
   "cell_type": "code",
   "execution_count": 33,
   "outputs": [
    {
     "name": "stdout",
     "output_type": "stream",
     "text": [
      "A\n",
      "B\n",
      "V\n",
      "G\n",
      "D\n",
      "E\n",
      "ZH\n",
      "Z\n",
      "I\n",
      "Y\n",
      "K\n",
      "L\n",
      "M\n",
      "N\n",
      "O\n",
      "P\n",
      "R\n",
      "S\n",
      "T\n",
      "U\n",
      "F\n",
      "H\n",
      "C\n",
      "CH\n",
      "SH\n",
      "AE\n",
      "YU\n",
      "YA\n"
     ]
    }
   ],
   "source": [
    "for l in letters:\n",
    "    resp = requests.get(f'https://meds.is/alphabet/{l}')\n",
    "    data.extend(parse_letter_page(resp.content))\n",
    "    print(l)\n",
    "    sleep(3)"
   ],
   "metadata": {
    "collapsed": false,
    "pycharm": {
     "name": "#%%\n"
    }
   }
  },
  {
   "cell_type": "code",
   "execution_count": 28,
   "outputs": [
    {
     "name": "stdout",
     "output_type": "stream",
     "text": [
      "kek\n",
      "kek\n"
     ]
    }
   ],
   "source": [
    "print('kek')\n",
    "print('kek')\n"
   ],
   "metadata": {
    "collapsed": false,
    "pycharm": {
     "name": "#%%\n"
    }
   }
  },
  {
   "cell_type": "code",
   "execution_count": 36,
   "outputs": [],
   "source": [
    "with open('drugs.json', 'w') as f:\n",
    "    f.write(json.dumps(data, indent=2))"
   ],
   "metadata": {
    "collapsed": false,
    "pycharm": {
     "name": "#%%\n"
    }
   }
  },
  {
   "cell_type": "code",
   "execution_count": 10,
   "outputs": [],
   "source": [
    "with open(f'medsis_dump/{data[0][\"url\"].split(\"/\")[-1]}.html', 'wb') as f:\n",
    "    f.write(requests.get(data[0]['url']).content)"
   ],
   "metadata": {
    "collapsed": false,
    "pycharm": {
     "name": "#%%\n"
    }
   }
  },
  {
   "cell_type": "code",
   "execution_count": 42,
   "outputs": [
    {
     "data": {
      "text/plain": "359583"
     },
     "execution_count": 42,
     "metadata": {},
     "output_type": "execute_result"
    }
   ],
   "source": [
    "len(resp.content)"
   ],
   "metadata": {
    "collapsed": false,
    "pycharm": {
     "name": "#%%\n"
    }
   }
  },
  {
   "cell_type": "code",
   "execution_count": 2,
   "outputs": [],
   "source": [
    "def exception_handler(request, excepetion):\n",
    "    raise print(type(excepetion))\n",
    "\n",
    "\n",
    "rs = [grequests.get('https://meds.is/drugs/25530-ashlev', timeout=10)]\n",
    "resps = grequests.map(rs, exception_handler=exception_handler)"
   ],
   "metadata": {
    "collapsed": false,
    "pycharm": {
     "name": "#%%\n"
    }
   }
  },
  {
   "cell_type": "code",
   "execution_count": 8,
   "outputs": [],
   "source": [
    "failed_urls = []\n",
    "success_urls = []\n",
    "with open('drugs.json', 'r') as f:\n",
    "    drugs = json.load(f)\n",
    "\n",
    "\n",
    "def exception_handler(request, exception):\n",
    "    failed_urls.append(request.url)"
   ],
   "metadata": {
    "collapsed": false,
    "pycharm": {
     "name": "#%%\n"
    }
   }
  },
  {
   "cell_type": "code",
   "execution_count": 9,
   "outputs": [
    {
     "name": "stdout",
     "output_type": "stream",
     "text": [
      "Successes: 100, fails: 0\n",
      "Successes: 200, fails: 0\n",
      "Successes: 300, fails: 0\n",
      "Successes: 400, fails: 0\n",
      "Successes: 500, fails: 0\n",
      "Successes: 600, fails: 0\n",
      "Successes: 700, fails: 0\n",
      "Successes: 800, fails: 0\n",
      "Successes: 900, fails: 0\n",
      "Successes: 1000, fails: 0\n",
      "Successes: 1100, fails: 0\n",
      "Successes: 1200, fails: 0\n",
      "Successes: 1300, fails: 0\n",
      "Successes: 1400, fails: 0\n",
      "Successes: 1500, fails: 0\n",
      "Successes: 1600, fails: 0\n",
      "Successes: 1700, fails: 0\n",
      "Successes: 1800, fails: 0\n",
      "Successes: 1900, fails: 0\n",
      "Successes: 2000, fails: 0\n",
      "Successes: 2100, fails: 0\n",
      "Successes: 2200, fails: 0\n",
      "Successes: 2300, fails: 0\n",
      "Successes: 2400, fails: 0\n",
      "Successes: 2500, fails: 0\n",
      "Successes: 2600, fails: 0\n",
      "Successes: 2700, fails: 0\n",
      "Successes: 2800, fails: 0\n",
      "Successes: 2900, fails: 0\n",
      "Successes: 3000, fails: 0\n",
      "Successes: 3100, fails: 0\n",
      "Successes: 3200, fails: 0\n",
      "Successes: 3300, fails: 0\n",
      "Successes: 3400, fails: 0\n",
      "Successes: 3500, fails: 0\n",
      "Successes: 3600, fails: 0\n",
      "Successes: 3700, fails: 0\n",
      "Successes: 3800, fails: 0\n",
      "Successes: 3900, fails: 0\n",
      "Successes: 4000, fails: 0\n",
      "Successes: 4100, fails: 0\n",
      "Successes: 4200, fails: 0\n",
      "Successes: 4300, fails: 0\n",
      "Successes: 4400, fails: 0\n",
      "Successes: 4500, fails: 0\n",
      "Successes: 4600, fails: 0\n",
      "Successes: 4700, fails: 0\n",
      "Successes: 4800, fails: 0\n",
      "Successes: 4900, fails: 0\n",
      "Successes: 5000, fails: 0\n",
      "Successes: 5100, fails: 0\n",
      "Successes: 5200, fails: 0\n",
      "Successes: 5300, fails: 0\n",
      "Successes: 5400, fails: 0\n",
      "Successes: 5500, fails: 0\n",
      "Successes: 5600, fails: 0\n",
      "Successes: 5700, fails: 0\n",
      "Successes: 5800, fails: 0\n",
      "Successes: 5900, fails: 0\n",
      "Successes: 6000, fails: 0\n",
      "Successes: 6100, fails: 0\n",
      "Successes: 6200, fails: 0\n",
      "Successes: 6300, fails: 0\n",
      "Successes: 6400, fails: 0\n",
      "Successes: 6500, fails: 0\n",
      "Successes: 6600, fails: 0\n",
      "Successes: 6700, fails: 0\n",
      "Successes: 6800, fails: 0\n",
      "Successes: 6900, fails: 0\n",
      "Successes: 7000, fails: 0\n",
      "Successes: 7100, fails: 0\n",
      "Successes: 7200, fails: 0\n",
      "Successes: 7300, fails: 0\n",
      "Successes: 7400, fails: 0\n",
      "Successes: 7500, fails: 0\n",
      "Successes: 7600, fails: 0\n",
      "Successes: 7700, fails: 0\n",
      "Successes: 7800, fails: 0\n",
      "Successes: 7900, fails: 0\n",
      "Successes: 8000, fails: 0\n",
      "Successes: 8100, fails: 0\n",
      "Successes: 8200, fails: 0\n",
      "Successes: 8300, fails: 0\n",
      "Successes: 8400, fails: 0\n",
      "Successes: 8500, fails: 0\n",
      "Successes: 8600, fails: 0\n",
      "Successes: 8700, fails: 0\n",
      "Successes: 8800, fails: 0\n",
      "Successes: 8900, fails: 0\n",
      "Successes: 9000, fails: 0\n",
      "Successes: 9100, fails: 0\n",
      "Successes: 9200, fails: 0\n",
      "Successes: 9300, fails: 0\n",
      "Successes: 9400, fails: 0\n",
      "Successes: 9500, fails: 0\n",
      "Successes: 9600, fails: 0\n",
      "Successes: 9700, fails: 0\n",
      "Successes: 9800, fails: 0\n",
      "Successes: 9900, fails: 0\n",
      "Successes: 10000, fails: 0\n",
      "Successes: 10100, fails: 0\n",
      "Successes: 10200, fails: 0\n",
      "Successes: 10300, fails: 0\n",
      "Successes: 10400, fails: 0\n",
      "Successes: 10500, fails: 0\n",
      "Successes: 10600, fails: 0\n",
      "Successes: 10700, fails: 0\n",
      "Successes: 10800, fails: 0\n",
      "Successes: 10900, fails: 0\n",
      "Successes: 11000, fails: 0\n",
      "Successes: 11100, fails: 0\n",
      "Successes: 11200, fails: 0\n",
      "Successes: 11299, fails: 1\n",
      "Successes: 11399, fails: 1\n",
      "Successes: 11499, fails: 1\n",
      "Successes: 11599, fails: 1\n",
      "Successes: 11699, fails: 1\n",
      "Successes: 11799, fails: 1\n",
      "Successes: 11899, fails: 1\n",
      "Successes: 11999, fails: 1\n",
      "Successes: 12099, fails: 1\n",
      "Successes: 12199, fails: 1\n",
      "Successes: 12299, fails: 1\n",
      "Successes: 12399, fails: 1\n",
      "Successes: 12499, fails: 1\n",
      "Successes: 12599, fails: 1\n",
      "Successes: 12699, fails: 1\n",
      "Successes: 12799, fails: 1\n",
      "Successes: 12899, fails: 1\n",
      "Successes: 12999, fails: 1\n",
      "Successes: 13099, fails: 1\n",
      "Successes: 13199, fails: 1\n",
      "Successes: 13299, fails: 1\n",
      "Successes: 13399, fails: 1\n",
      "Successes: 13499, fails: 1\n",
      "Successes: 13599, fails: 1\n",
      "Successes: 13699, fails: 1\n",
      "Successes: 13799, fails: 1\n",
      "Successes: 13899, fails: 1\n",
      "Successes: 13999, fails: 1\n",
      "Successes: 14099, fails: 1\n",
      "Successes: 14199, fails: 1\n",
      "Successes: 14299, fails: 1\n",
      "Successes: 14399, fails: 1\n",
      "Successes: 14499, fails: 1\n"
     ]
    }
   ],
   "source": [
    "cnt = 0\n",
    "for drug_chunk in chunks(drugs, 10):\n",
    "    rs = [grequests.get(d['url'], timeout=10) for d in drug_chunk]\n",
    "    resps = grequests.map(rs, exception_handler=exception_handler)\n",
    "    for resp in resps:\n",
    "        if resp and resp.status_code == 200:\n",
    "            with open(f'medsis_dump/{resp.url.split(\"/\")[-1]}.html', 'wb') as f:\n",
    "                f.write(resp.content)\n",
    "            success_urls.append(resp.url)\n",
    "\n",
    "    cnt += len(drug_chunk)\n",
    "    if cnt % 100 == 0:\n",
    "        print(f'Successes: {len(success_urls)}, fails: {len(failed_urls)}')\n",
    "        sleep(3)"
   ],
   "metadata": {
    "collapsed": false,
    "pycharm": {
     "name": "#%%\n"
    }
   }
  },
  {
   "cell_type": "code",
   "execution_count": 46,
   "outputs": [],
   "source": [
    "drug_url_to_name = {d['url']: d['name'] for d in drugs}"
   ],
   "metadata": {
    "collapsed": false,
    "pycharm": {
     "name": "#%%\n"
    }
   }
  },
  {
   "cell_type": "code",
   "execution_count": 47,
   "outputs": [],
   "source": [
    "def parse_drug(file_name):\n",
    "    with open(f'medsis_dump/{file_name}', 'rb') as f:\n",
    "        soup = bs4.BeautifulSoup(f.read(), 'html.parser')\n",
    "\n",
    "    result = {\n",
    "        'medsis_id': int(file_name.split('-')[0]),\n",
    "        'medsis_url': f'https://meds.is/drugs/{file_name.split(\".\")[0]}'\n",
    "    }\n",
    "    result['name'] = drug_url_to_name[result['medsis_url']]\n",
    "    stat_fields = [\n",
    "        'effectiveness',\n",
    "        'safety',\n",
    "        'convenience',\n",
    "        'contraindications',\n",
    "        'side_effects',\n",
    "        'tolerance',\n",
    "    ]\n",
    "    progress_values = soup.find_all('progress')\n",
    "    assert len(progress_values) == 6, f'Invalid parsed progress values: {file_name}'\n",
    "\n",
    "    for stat, tag in zip(stat_fields, progress_values):\n",
    "        try:\n",
    "            result[stat] = int(tag['value'])\n",
    "        except:\n",
    "            assert False, f'Cannot parse stat {stat} at tag {tag}'\n",
    "\n",
    "    score_div = soup.find('div', {'class': 'level-item digits'})\n",
    "    assert score_div is not None, f'Score div not found in {file_name}'\n",
    "    score_parts = score_div.findChildren('div', {'class': 'num'})\n",
    "    assert len(score_parts) == 2, f'Score parts are invalid at div {score_div} at file {file_name}'\n",
    "    try:\n",
    "        float(score_parts[0].text)\n",
    "    except:\n",
    "        assert False, f'Invalid score: {score_parts[0].text} at div {score_div} at file {file_name}'\n",
    "    result['score'] = score_parts[0].text\n",
    "\n",
    "    analogues_hrefs = [item['href'] for item in soup.findAll('a', {'style': 'position:relative;display:none;'})]\n",
    "    analogue_medsis_ids = []\n",
    "    for href in analogues_hrefs:\n",
    "        try:\n",
    "            medsis_id = int(href.split('/')[-1].split('-')[0])\n",
    "        except:\n",
    "            assert False, f'Bad analogue href: {href} at file {file_name}'\n",
    "        analogue_medsis_ids.append(medsis_id)\n",
    "\n",
    "    result['analogue_medsis_ids'] = analogue_medsis_ids\n",
    "    return result"
   ],
   "metadata": {
    "collapsed": false,
    "pycharm": {
     "name": "#%%\n"
    }
   }
  },
  {
   "cell_type": "code",
   "execution_count": 49,
   "outputs": [
    {
     "data": {
      "text/plain": "{'medsis_id': 1,\n 'medsis_url': 'https://meds.is/drugs/1-siofor',\n 'name': 'Сиофор 500',\n 'effectiveness': 82,\n 'safety': 79,\n 'convenience': 81,\n 'contraindications': 24,\n 'side_effects': 23,\n 'tolerance': 0,\n 'score': '7.3',\n 'analogue_medsis_ids': [31452,\n  31460,\n  31461,\n  31453,\n  27469,\n  34921,\n  31457,\n  31329,\n  31455,\n  31454,\n  32356,\n  31456,\n  31458,\n  31459]}"
     },
     "execution_count": 49,
     "metadata": {},
     "output_type": "execute_result"
    }
   ],
   "source": [
    "parse_drug('1-siofor.html')"
   ],
   "metadata": {
    "collapsed": false,
    "pycharm": {
     "name": "#%%\n"
    }
   }
  },
  {
   "cell_type": "code",
   "execution_count": 53,
   "outputs": [
    {
     "name": "stdout",
     "output_type": "stream",
     "text": [
      "0\n",
      "200\n",
      "400\n",
      "600\n",
      "800\n",
      "1000\n",
      "1200\n",
      "1400\n",
      "1600\n",
      "1800\n",
      "2000\n",
      "2200\n",
      "2400\n",
      "2600\n",
      "2800\n",
      "3000\n",
      "3200\n",
      "3400\n",
      "3600\n",
      "3800\n",
      "4000\n",
      "4200\n",
      "4400\n",
      "4600\n",
      "4800\n",
      "5000\n",
      "5200\n",
      "5400\n",
      "5600\n",
      "5800\n",
      "6000\n",
      "6200\n",
      "6400\n",
      "6600\n",
      "6800\n",
      "7000\n",
      "7200\n",
      "7400\n",
      "7600\n",
      "7800\n",
      "8000\n",
      "8200\n",
      "8400\n",
      "8600\n",
      "8800\n",
      "9000\n",
      "9200\n",
      "9400\n",
      "9600\n",
      "9800\n",
      "10000\n",
      "10200\n",
      "10400\n",
      "10600\n",
      "10800\n",
      "11000\n",
      "11200\n",
      "11400\n",
      "11600\n",
      "11800\n",
      "12000\n",
      "12200\n",
      "12400\n",
      "12600\n",
      "12800\n",
      "13000\n",
      "13200\n",
      "13400\n",
      "13600\n",
      "13800\n",
      "14000\n",
      "14200\n",
      "14400\n"
     ]
    }
   ],
   "source": [
    "parsed_drug_data = []\n",
    "for cnt, file_name in enumerate(os.listdir('./medsis_dump')):\n",
    "    parsed_drug_data.append(parse_drug(file_name))\n",
    "    if cnt % 200 == 0:\n",
    "        print(cnt)"
   ],
   "metadata": {
    "collapsed": false,
    "pycharm": {
     "name": "#%%\n"
    }
   }
  },
  {
   "cell_type": "code",
   "execution_count": 55,
   "outputs": [],
   "source": [
    "with open('parsed_drub_data.json', 'w') as f:\n",
    "    json.dump(parsed_drug_data, f, indent=2)"
   ],
   "metadata": {
    "collapsed": false,
    "pycharm": {
     "name": "#%%\n"
    }
   }
  },
  {
   "cell_type": "code",
   "execution_count": 18,
   "outputs": [],
   "source": [
    "with open('HackData/products.json', 'r') as f:\n",
    "    products = json.load(f)\n",
    "with open('parsed_drub_data.json', 'r') as f:\n",
    "    parsed_drug_data = json.load(f)"
   ],
   "metadata": {
    "collapsed": false,
    "pycharm": {
     "name": "#%%\n"
    }
   }
  },
  {
   "cell_type": "code",
   "execution_count": 19,
   "outputs": [],
   "source": [
    "pattern = re.compile(r', ?| ?- ?|\\. ?| +')\n",
    "sber_cache = {}\n",
    "medsis_cache = {}\n",
    "def check_name(sber, medsis):\n",
    "    if sber not in sber_cache:\n",
    "        v = [s.strip() for s in re.sub(pattern, ' ', sber.lower()).split() if s.strip()]\n",
    "        sber_cache[sber] = v\n",
    "        sber = v\n",
    "    else:\n",
    "        sber = sber_cache[sber]\n",
    "    if medsis not in medsis_cache:\n",
    "        v = [s.strip() for s in re.sub(pattern, ' ', medsis.lower()).split() if s.strip()]\n",
    "        medsis_cache[medsis] = v\n",
    "        medsis = v\n",
    "    else:\n",
    "        medsis = medsis_cache[medsis]\n",
    "\n",
    "    for cnt, (s, m) in enumerate(zip(sber, medsis), start=1):\n",
    "        if s == m:\n",
    "            continue\n",
    "        return cnt - 1, False\n",
    "    else:\n",
    "        return min(len(sber), len(medsis)), True\n",
    "\n",
    "    return 0, False"
   ],
   "metadata": {
    "collapsed": false,
    "pycharm": {
     "name": "#%%\n"
    }
   }
  },
  {
   "cell_type": "code",
   "execution_count": 20,
   "outputs": [
    {
     "name": "stdout",
     "output_type": "stream",
     "text": [
      "0\n",
      "100\n",
      "200\n",
      "300\n",
      "400\n",
      "500\n",
      "600\n",
      "700\n",
      "800\n",
      "900\n",
      "1000\n",
      "1100\n",
      "1200\n",
      "1300\n",
      "1400\n",
      "1500\n",
      "1600\n",
      "1700\n",
      "1800\n",
      "1900\n",
      "2000\n",
      "2100\n",
      "2200\n",
      "2300\n",
      "2400\n",
      "2500\n",
      "2600\n",
      "2700\n",
      "2800\n",
      "2900\n",
      "3000\n",
      "3100\n",
      "3200\n",
      "3300\n",
      "3400\n",
      "3500\n",
      "3600\n",
      "3700\n",
      "3800\n",
      "3900\n",
      "4000\n",
      "4100\n",
      "4200\n",
      "4300\n",
      "4400\n",
      "4500\n",
      "4600\n",
      "4700\n",
      "4800\n",
      "4900\n",
      "5000\n",
      "5100\n",
      "5200\n",
      "5300\n",
      "5400\n",
      "5500\n",
      "5600\n",
      "5700\n",
      "5800\n",
      "5900\n",
      "6000\n",
      "6100\n",
      "6200\n",
      "6300\n",
      "6400\n",
      "6500\n",
      "6600\n",
      "6700\n",
      "6800\n",
      "6900\n",
      "7000\n",
      "7100\n",
      "7200\n",
      "7300\n",
      "7400\n",
      "7500\n",
      "7600\n",
      "7700\n",
      "7800\n",
      "7900\n",
      "8000\n",
      "8100\n",
      "8200\n",
      "8300\n",
      "8400\n",
      "8500\n",
      "8600\n",
      "8700\n",
      "8800\n",
      "8900\n",
      "9000\n",
      "9100\n",
      "9200\n",
      "9300\n",
      "9400\n",
      "9500\n",
      "9600\n",
      "9700\n",
      "9800\n",
      "9900\n",
      "10000\n",
      "10100\n",
      "10200\n",
      "10300\n",
      "10400\n",
      "10500\n",
      "10600\n",
      "10700\n",
      "10800\n",
      "10900\n",
      "11000\n",
      "11100\n",
      "11200\n",
      "11300\n",
      "11400\n",
      "11500\n",
      "11600\n",
      "11700\n",
      "11800\n",
      "11900\n",
      "12000\n",
      "12100\n",
      "12200\n",
      "12300\n",
      "12400\n",
      "12500\n",
      "12600\n",
      "12700\n",
      "12800\n",
      "12900\n",
      "13000\n",
      "13100\n",
      "13200\n",
      "13300\n",
      "13400\n",
      "13500\n",
      "13600\n",
      "13700\n",
      "13800\n",
      "13900\n",
      "14000\n",
      "14100\n",
      "14200\n",
      "14300\n",
      "14400\n",
      "14500\n"
     ]
    }
   ],
   "source": [
    "for cnt, parsed_drug in enumerate(parsed_drug_data):\n",
    "    for p in products:\n",
    "        score, full = check_name(p['NAME'], parsed_drug['name'])\n",
    "        if score:\n",
    "            if not p.get('medsis') or p['medsis']['score'] < score or p['medsis']['score'] == score and full:\n",
    "                p['medsis'] = {'ids': [parsed_drug['medsis_id']], 'score': score, 'full': full}\n",
    "            elif p.get('medsis') and p['medsis']['score'] == score and not p['medsis']['full']:\n",
    "                p['medsis']['ids'].append(parsed_drug['medsis_id'])\n",
    "\n",
    "    if cnt % 100 == 0:\n",
    "        print(cnt)"
   ],
   "metadata": {
    "collapsed": false,
    "pycharm": {
     "name": "#%%\n"
    }
   }
  },
  {
   "cell_type": "code",
   "execution_count": 21,
   "outputs": [
    {
     "name": "stdout",
     "output_type": "stream",
     "text": [
      "40022\n",
      "29788\n",
      "9097\n",
      "1137\n"
     ]
    }
   ],
   "source": [
    "print(len(products))\n",
    "print(sum(1 for p in products if not p.get('medsis')))\n",
    "print(sum(1 for p in products if len(p.get('medsis', {}).get('ids', [])) == 1))\n",
    "print(sum(1 for p in products if len(p.get('medsis', {}).get('ids', [])) > 1))"
   ],
   "metadata": {
    "collapsed": false,
    "pycharm": {
     "name": "#%%\n"
    }
   }
  },
  {
   "cell_type": "code",
   "execution_count": 27,
   "outputs": [],
   "source": [
    "medsis_id_map = [{'sber_id': p['ID'], 'medsis_ids': p.get('medsis', {}).get('ids', [])} for p in products]\n",
    "with open('medsis_id_map.json', 'w') as f:\n",
    "    json.dump(medsis_id_map, f)"
   ],
   "metadata": {
    "collapsed": false,
    "pycharm": {
     "name": "#%%\n"
    }
   }
  },
  {
   "cell_type": "code",
   "execution_count": 60,
   "outputs": [
    {
     "name": "stdout",
     "output_type": "stream",
     "text": [
      "40022\n",
      "0\n",
      "0\n",
      "3205\n"
     ]
    },
    {
     "data": {
      "text/plain": "[{'ID': 461374,\n  'NAME': 'Далацин, крем вагинальный 2% , 20 г+3 аппликатора',\n  'medsis_ids': [1119, 25390]},\n {'ID': 461375,\n  'NAME': 'Далацин, крем вагинальный 2% , 40 г+7 аппликаторов',\n  'medsis_ids': [1119, 25390]},\n {'ID': 461395,\n  'NAME': 'Тамоксифен, таблетки 10 мг, 30 шт.',\n  'medsis_ids': [2700, 31666]},\n {'ID': 461396,\n  'NAME': 'Тамоксифен, таблетки 20 мг, 30 шт.',\n  'medsis_ids': [2700, 31666]},\n {'ID': 461397,\n  'NAME': 'Тамоксифен, таблетки 20 мг, 100 шт.',\n  'medsis_ids': [2700, 31666]},\n {'ID': 461399,\n  'NAME': 'Офтан Дексаметазон капли глазные 1 мг/мл, 5 мл',\n  'medsis_ids': [1123, 32911]},\n {'ID': 461402,\n  'NAME': 'Фотил форте капли глазные 40 мг/мл + 5 мг/мл, 5 мл',\n  'medsis_ids': [1651, 1650]},\n {'ID': 461404,\n  'NAME': 'Офтан Тимолол капли глазные 5 мг/мл, 5 мл',\n  'medsis_ids': [1916, 254, 35824]},\n {'ID': 461415,\n  'NAME': 'Дульколакс таблетки покрыт.об. 5 мг, 30 шт.',\n  'medsis_ids': [551, 1176]},\n {'ID': 461429,\n  'NAME': 'Флюдитек, сироп 5% , 125 мл',\n  'medsis_ids': [28179, 2989, 543]},\n {'ID': 461430,\n  'NAME': 'Флюдитек, сироп 2% , 125 мл',\n  'medsis_ids': [28179, 2989, 543]},\n {'ID': 461440,\n  'NAME': 'Стимол, р-р для приема внутрь 100 мг/10 мл пакетики 18 шт.',\n  'medsis_ids': [35824, 2234]},\n {'ID': 461488,\n  'NAME': 'Депакин, сироп 5.7% , 150 мл',\n  'medsis_ids': [28, 2989]},\n {'ID': 461490,\n  'NAME': 'Депакин хроно, таблетки ретард 300 мг, 100 шт.',\n  'medsis_ids': [28, 29]},\n {'ID': 461491,\n  'NAME': 'Депакин хроно 500, таблетки, 30 шт.',\n  'medsis_ids': [28, 29]},\n {'ID': 461519,\n  'NAME': 'Сумамед форте, пор.д/сус.д/пр.внут банан.200мг/5 мл 16,74г/15 мл',\n  'medsis_ids': [665, 35313]},\n {'ID': 461522,\n  'NAME': 'Санорин с маслом эвкалипта капли назальные 0,1%, 10 мл',\n  'medsis_ids': [1537, 294]},\n {'ID': 461523,\n  'NAME': 'Нитрофунгин-Тева, р-р для наружнего применения 25 мл флаконы',\n  'medsis_ids': [1414, 2886, 32318]},\n {'ID': 461528,\n  'NAME': 'Хлорпротиксен Санофи таблетки покрыт.плен. об. 50 мг, 30 шт.',\n  'medsis_ids': [41, 37148]},\n {'ID': 461532,\n  'NAME': 'Йокс-Тева, спрей для местного применения 30 мл',\n  'medsis_ids': [29191, 219]},\n {'ID': 461535,\n  'NAME': 'Стоптуссин-Фито, сироп 100 мл',\n  'medsis_ids': [232, 541, 2989, 3128]},\n {'ID': 461564,\n  'NAME': 'Ко-диован, таблетки 80/12,5 мг, 28 шт.',\n  'medsis_ids': [29895, 1139]},\n {'ID': 461573,\n  'NAME': 'Сирдалуд МР, капсулы с модифициров.высвобождением 6 мг 30 шт.',\n  'medsis_ids': [34927, 757]},\n {'ID': 461574,\n  'NAME': 'Сандиммун Неорал капсулы мягкие 25 мг, 50 шт.',\n  'medsis_ids': [34622, 34621]},\n {'ID': 461575,\n  'NAME': 'Сандиммун Неорал капсулы мягкие 50 мг, 50 шт.',\n  'medsis_ids': [34622, 34621]},\n {'ID': 461576,\n  'NAME': 'Сандиммун Неорал капсулы мягкие 100 мг, 50 шт.',\n  'medsis_ids': [34622, 34621]},\n {'ID': 461577,\n  'NAME': 'Тегретол ЦР, таблетки ретард 200 мг, 50 шт.',\n  'medsis_ids': [35558, 35559]},\n {'ID': 461578,\n  'NAME': 'Тегретол ЦР, таблетки ретард 400 мг, 30 шт.',\n  'medsis_ids': [35558, 35559]},\n {'ID': 461579,\n  'NAME': 'Вольтарен Эмульгель при боли в спине, мышцах и суставах, гель 1% , 20 г',\n  'medsis_ids': [1974, 1975]},\n {'ID': 461580,\n  'NAME': 'Вольтарен Эмульгель при боли в спине, мышцах и суставах, гель 1% , 50 г',\n  'medsis_ids': [1974, 1975]},\n {'ID': 461594,\n  'NAME': 'Синекод при сухом кашле, сироп 1,5 мг/мл, 200 мл',\n  'medsis_ids': [2989, 231]},\n {'ID': 461601,\n  'NAME': 'Мальтофер, сироп 10 мг/мл , 150 мл',\n  'medsis_ids': [455, 2989]},\n {'ID': 461602,\n  'NAME': 'Пульмикорт турбухалер, порошок для ингаляций 200 мкг/доза, 100 доз',\n  'medsis_ids': [33880, 68]},\n {'ID': 461612,\n  'NAME': 'Маркаин Спинал Хэви раствор для инъекций 5 мг/мл 4 мл ампулы, 5 шт.',\n  'medsis_ids': [31109, 31106, 31108]},\n {'ID': 461615,\n  'NAME': 'Пульмикорт турбухалер, порошок для ингаляций 100 мкг/доза, 200 доз',\n  'medsis_ids': [33880, 68]},\n {'ID': 461616,\n  'NAME': 'Лосек МАПС, таблетки 20 мг, 28 шт.',\n  'medsis_ids': [3383, 854]},\n {'ID': 461617,\n  'NAME': 'Лосек МАПС, таблетки 20 мг, 14 шт.',\n  'medsis_ids': [3383, 854]},\n {'ID': 461622,\n  'NAME': 'Беталок Зок, таблетки покрыт.об.с замедл.высв. 50 мг 30 шт.',\n  'medsis_ids': [403, 2800]},\n {'ID': 461623,\n  'NAME': 'Беталок Зок, таблетки покрыт.об.с замедл.высв. 100 мг 30 шт.',\n  'medsis_ids': [403, 2800]},\n {'ID': 461632,\n  'NAME': 'Амоксициллин, капсулы 500 мг, 16 шт.',\n  'medsis_ids': [798, 31666]},\n {'ID': 461633,\n  'NAME': 'Амоксициллин, капсулы 250 мг, 16 шт.',\n  'medsis_ids': [798, 31666]},\n {'ID': 461634,\n  'NAME': 'Амоксициллин, суспензия 250 мг/5 мл , флаконы 100 мл',\n  'medsis_ids': [798, 31666]},\n {'ID': 461635,\n  'NAME': 'Гепатромбин, крем 300ме+3 мг+4 мг/г 40 г',\n  'medsis_ids': [2818, 36191]},\n {'ID': 461636,\n  'NAME': 'Диклофенак, гель 1% , 40 г',\n  'medsis_ids': [1136, 28046]},\n {'ID': 461637,\n  'NAME': 'Диклофенак, таблетки покрыт.киш-раств.об. 50 мг  20 шт.',\n  'medsis_ids': [1136, 28046]},\n {'ID': 461638,\n  'NAME': 'Диклофенак р-р для в/мыш. введ.25 мг/мл 3 мл ампулы, 5 шт.',\n  'medsis_ids': [1136, 28046]},\n {'ID': 461639,\n  'NAME': 'Диклофенак, таблетки покрыт.киш-раств.об.пролонг.100 мг 20 шт.',\n  'medsis_ids': [1136, 28046]},\n {'ID': 461640,\n  'NAME': 'Индапамид, таблетки покрыт.плен.об. 2,5 мг 30 шт.',\n  'medsis_ids': [32984, 423, 421]},\n {'ID': 461649,\n  'NAME': 'Гепатромбин Г, мазь для ректального и наружного применения 20 г',\n  'medsis_ids': [2818, 1094, 36191]},\n {'ID': 461650,\n  'NAME': 'Гепатромбин Г, суппозитории ректальные 10 шт.',\n  'medsis_ids': [2818, 1094, 36191]},\n {'ID': 461654,\n  'NAME': 'Гепатромбин, гель 300 ме+2,5 мг+2,5 мг/г 40 г',\n  'medsis_ids': [2818, 36191]},\n {'ID': 461666,\n  'NAME': 'Мелипрамин, таблетки покрыт.плен.об. 25 мг 50 шт.',\n  'medsis_ids': [32943, 3231]},\n {'ID': 461672,\n  'NAME': 'Халиксол, сироп 30 мг/10 мл  100 мл флаконы',\n  'medsis_ids': [1659, 2989]},\n {'ID': 461674,\n  'NAME': 'Нитроминт, спрей подъязычный 0,4 мг/доза 180 доз 10 г',\n  'medsis_ids': [2886, 396]},\n {'ID': 461688,\n  'NAME': 'Индометацин, суппозитории ректальные 50 мг, 6 шт.',\n  'medsis_ids': [28303, 31341, 355]},\n {'ID': 461689,\n  'NAME': 'Индометацин, суппозитории ректальные 100 мг, 6 шт.',\n  'medsis_ids': [28303, 31341, 355]},\n {'ID': 461699,\n  'NAME': 'Диазолин, драже 100 мг, 10 шт.',\n  'medsis_ids': [49, 2335]},\n {'ID': 461700,\n  'NAME': 'Диазолин, драже 50 мг, 10 шт.',\n  'medsis_ids': [49, 2335]},\n {'ID': 461718,\n  'NAME': 'Солкосерил, паста дентальная , 5 г',\n  'medsis_ids': [27865, 1561]},\n {'ID': 461721,\n  'NAME': 'Флуифорт сироп 90 мг/мл, 120 мл',\n  'medsis_ids': [36737, 867, 2989]},\n {'ID': 461722,\n  'NAME': 'Флуифорт, пакеты 2.7 г , 5 г , 10 шт.',\n  'medsis_ids': [36737, 867]},\n {'ID': 461728,\n  'NAME': 'Дюфалак сироп 667 мг/мл, 500 мл',\n  'medsis_ids': [2989, 725]},\n {'ID': 461729,\n  'NAME': 'Дюфалак сироп 667 мг/мл, 200 мл',\n  'medsis_ids': [2989, 725]},\n {'ID': 461730,\n  'NAME': 'Дюфалак сироп 667 мг/мл, 1000 мл',\n  'medsis_ids': [2989, 725]},\n {'ID': 461736,\n  'NAME': 'Галазолин, капли в нос 0.05% , 10 мл',\n  'medsis_ids': [289, 2335]},\n {'ID': 461737,\n  'NAME': 'Галазолин, капли в нос 0.1% , 10 мл',\n  'medsis_ids': [289, 2335]},\n {'ID': 461745,\n  'NAME': 'Индометацин, мазь 10% , 40 г',\n  'medsis_ids': [28303, 31341, 355]},\n {'ID': 461749,\n  'NAME': 'Индометацин, таблетки 25 мг, 30 шт.',\n  'medsis_ids': [28303, 31341, 355]},\n {'ID': 461750, 'NAME': 'Кетотифен, сироп , 100 мл', 'medsis_ids': [52, 2989]},\n {'ID': 461778,\n  'NAME': 'Фемостон 1 таблетки покрыт.плен.об., 28 шт.',\n  'medsis_ids': [172, 36519]},\n {'ID': 461780,\n  'NAME': 'Клацид СР, таблетки пролонгир.покрыт.плен.об 500 мг 5 шт.',\n  'medsis_ids': [662, 661]},\n {'ID': 461789,\n  'NAME': 'Д-Пантенол, мазь 5 %  25 г',\n  'medsis_ids': [1804, 1873]},\n {'ID': 461798,\n  'NAME': 'Бактериофаг колипротейный раствор для перорального, местного и наружного применения фл, 100 мл',\n  'medsis_ids': [25586, 2337]},\n {'ID': 461801,\n  'NAME': 'Интести-бактериофаг жидкий, флаконы 20 мл, 4 шт.',\n  'medsis_ids': [1198, 29028]},\n {'ID': 461802,\n  'NAME': 'Интести-бактериофаг жидкий, флаконы , 100 мл',\n  'medsis_ids': [1198, 29028]},\n {'ID': 461814,\n  'NAME': 'Йохимбина гидрохлорид, таблетки 5 мг 50 шт.',\n  'medsis_ids': [519, 29202]},\n {'ID': 461821,\n  'NAME': 'Прокто-гливенол, свечи ректальные, 10 шт.',\n  'medsis_ids': [2820, 1493]},\n {'ID': 461822,\n  'NAME': 'Прокто-гливенол, крем , 30 г',\n  'medsis_ids': [2820, 1493]},\n {'ID': 461829,\n  'NAME': 'Колдрекс ХотРем при простуде и гриппе со вкусом лимона, порошок, 5 г, 10 пак.',\n  'medsis_ids': [1983, 318]},\n {'ID': 461850,\n  'NAME': 'Слеза натуральная раствор офтальмологический глазные капли, 15 мл',\n  'medsis_ids': [32909, 1902]},\n {'ID': 461852,\n  'NAME': 'Вентолин Небулы, раствор для ингаляций 2.5 мг , 2,5 мл , 20 шт.',\n  'medsis_ids': [67, 26566]},\n {'ID': 461855,\n  'NAME': 'Коккулин таблетки гомеопатические, 30 шт.',\n  'medsis_ids': [1250, 29941]},\n {'ID': 461856,\n  'NAME': 'Коризалия таблетки гомеопатические, 40 шт.',\n  'medsis_ids': [1266, 30101]},\n {'ID': 461857,\n  'NAME': 'Оциллококцинум гранулы гомеопатические, 6 шт.',\n  'medsis_ids': [2037, 27615]},\n {'ID': 461858,\n  'NAME': 'Стодаль сироп гомеопатический, 200 мл',\n  'medsis_ids': [2989, 2000]},\n {'ID': 461860,\n  'NAME': 'Алмагель А, суспензия 170 мл',\n  'medsis_ids': [713, 714]},\n {'ID': 461861,\n  'NAME': 'Клотримазол, таблетки вагинальные 100 мг, 6 шт.',\n  'medsis_ids': [1247, 1823]},\n {'ID': 461862,\n  'NAME': 'Клотримазол, крем 1% , 20 г',\n  'medsis_ids': [1247, 1823]},\n {'ID': 461863,\n  'NAME': 'Центрум Сильвер от A до Zn, таблетки 30 шт.',\n  'medsis_ids': [37255, 37254]},\n {'ID': 461877,\n  'NAME': 'Преднизолон, таблетки 5 мг, 100 шт.',\n  'medsis_ids': [2104, 33629]},\n {'ID': 461916,\n  'NAME': 'Полидекса с фенилэфрином, спрей , 15 мл',\n  'medsis_ids': [292, 273]},\n {'ID': 461964,\n  'NAME': 'Бетоптик С, глазные капли 0.25% , 5 мл',\n  'medsis_ids': [244, 25868]},\n {'ID': 461975,\n  'NAME': 'Визин Классический капли глазные 0,05%, 15 мл',\n  'medsis_ids': [264, 26709]},\n {'ID': 461981,\n  'NAME': 'Гентамицин мазь 0,1%, 15 г',\n  'medsis_ids': [2328, 35462]},\n {'ID': 461984,\n  'NAME': 'Гидрокортизон-Пос, мазь глазная 1% , 2,5 г',\n  'medsis_ids': [1790, 2519, 27287]},\n {'ID': 461991,\n  'NAME': 'Дентинокс гель стоматологический, 10 г',\n  'medsis_ids': [31883, 2276]},\n {'ID': 462001,\n  'NAME': 'Дюфалак сироп 667 мг/мл 15 мл, 10 шт.',\n  'medsis_ids': [2989, 725]},\n {'ID': 462005,\n  'NAME': 'Изопринозин, таблетки 500 мг 50 шт.',\n  'medsis_ids': [28950, 312]},\n {'ID': 462013, 'NAME': 'Кандид Б, крем , 15 г', 'medsis_ids': [1212, 2664]},\n {'ID': 462015,\n  'NAME': 'Кандид-В6, таблетки вагинальные 100 мг, 6 шт.',\n  'medsis_ids': [29416, 2664]},\n {'ID': 462023,\n  'NAME': 'Клопиксол депо раствор для в/мыш. введ. масляный 200 мг/мл 1 мл ампулы, 10 шт.',\n  'medsis_ids': [3211, 29874]},\n {'ID': 462025,\n  'NAME': 'Клотримазол крем 1%, 20 г',\n  'medsis_ids': [1247, 1823]},\n {'ID': 462042,\n  'NAME': 'Линкомицин-АКОС мазь 2%, 15 г',\n  'medsis_ids': [30741, 30743]},\n {'ID': 462055,\n  'NAME': 'Милдронат, ампулы 10% , 5 мл , 10 шт.',\n  'medsis_ids': [1850, 393]},\n {'ID': 462056,\n  'NAME': 'Миртикам, сироп гомеопатический , 100 мл',\n  'medsis_ids': [2989, 31621]},\n {'ID': 462063,\n  'NAME': 'Нафтизин капли назальные 0.05% флакон-капельница, 10 мл',\n  'medsis_ids': [35792, 1857]},\n {'ID': 462065,\n  'NAME': 'Нафтизин капли назальные 0.1% флакон-капельница, 10 мл',\n  'medsis_ids': [35792, 1857]},\n {'ID': 462076,\n  'NAME': 'Парацетамол-АКОС суспензия для приема внутрь 120мг/5мл для детей, 100 мл',\n  'medsis_ids': [24907, 33091, 2769]},\n {'ID': 462087,\n  'NAME': 'Порталак, сироп , 500 мл',\n  'medsis_ids': [3412, 3258, 2989]},\n {'ID': 462106,\n  'NAME': 'Стоптуссин, таблетки 20 шт.',\n  'medsis_ids': [232, 3128]},\n {'ID': 462107,\n  'NAME': 'Сульпирид Белупо, капсулы 50 мг 30 шт.',\n  'medsis_ids': [35265, 3280]},\n {'ID': 462114,\n  'NAME': 'Тиапридал, таблетки 100 мг, 20 шт.',\n  'medsis_ids': [35767, 3288]},\n {'ID': 462121,\n  'NAME': 'Троксерутин Врамед, гель 2% , 40 г',\n  'medsis_ids': [1921, 2943, 34495]},\n {'ID': 462144,\n  'NAME': 'Цинка сульфат-ДИА глазные капли 0,25%, 10 мл',\n  'medsis_ids': [37504, 37506]},\n {'ID': 462146,\n  'NAME': 'Ципрамил таблетки покрыт.плен.об.20 мг, 28 шт.',\n  'medsis_ids': [32943, 2154]},\n {'ID': 462150,\n  'NAME': 'Эвкалипта лист пачка, 50 г',\n  'medsis_ids': [37727, 1704]},\n {'ID': 462153,\n  'NAME': 'Эпиген интим, спрей для наружнего применения 0,1% 60 мл',\n  'medsis_ids': [2659, 1723]},\n {'ID': 462166,\n  'NAME': 'Паклитаксел-Эбеве конц. для р-ра для инфузий 6 мг/мл 5 мл флакон, 5 мл',\n  'medsis_ids': [32967, 2697, 29124]},\n {'ID': 462171,\n  'NAME': 'Конвулекс, сироп 50 мг/мл , 100 мл',\n  'medsis_ids': [2989, 42]},\n {'ID': 462173,\n  'NAME': 'Дилтиазем Ланнахер, таблетки покрыт.плен.об. пролонг.180 мг 30 шт.',\n  'medsis_ids': [446, 28087]},\n {'ID': 462174,\n  'NAME': 'Дилтиазем Ланнахер, таблетки покрыт.плен.об. пролонг. 90 мг 20 шт.',\n  'medsis_ids': [446, 28087]},\n {'ID': 462188,\n  'NAME': 'Афлубин, капли для приема внутрь , 20 мл',\n  'medsis_ids': [36737, 308]},\n {'ID': 462189,\n  'NAME': 'Афлубин, капли для приема внутрь , 50 мл',\n  'medsis_ids': [36737, 308]},\n {'ID': 462201,\n  'NAME': 'Ацидин-пепсин, таблетки 0.25 г, 50 шт.',\n  'medsis_ids': [33232, 25501]},\n {'ID': 462204,\n  'NAME': 'Реополиглюкин, флаконы , 200 мл',\n  'medsis_ids': [3145, 33543]},\n {'ID': 462221,\n  'NAME': 'Ибупрофен, таблетки 200 мг, 50 шт.',\n  'medsis_ids': [1807, 2739]},\n {'ID': 462230,\n  'NAME': 'Фуразолидон, таблетки 50 мг, 10 шт.',\n  'medsis_ids': [2152, 2378]},\n {'ID': 462231,\n  'NAME': 'Фуразолидон, таблетки 50 мг, 20 шт.',\n  'medsis_ids': [2152, 2378]},\n {'ID': 462234,\n  'NAME': 'Троксерутин-МИК, капсулы 200 мг, 50 шт.',\n  'medsis_ids': [2943, 34495, 36188]},\n {'ID': 462291,\n  'NAME': 'Вазобрал, таблетки, 30 шт.',\n  'medsis_ids': [1774, 337]},\n {'ID': 462295,\n  'NAME': 'Клотримазол-Акрихин, р-р для наружного применения 1% флакон 15 мл',\n  'medsis_ids': [29883, 29884, 1247, 1823]},\n {'ID': 462299, 'NAME': 'Кармолис капли, 20 мл', 'medsis_ids': [29565, 29563]},\n {'ID': 462300, 'NAME': 'Кармолис капли, 80 мл', 'medsis_ids': [29565, 29563]},\n {'ID': 462301, 'NAME': 'Кармолис капли, 40 мл', 'medsis_ids': [29565, 29563]},\n {'ID': 462302,\n  'NAME': 'Агри детский, гранулы 10 г,  2 шт.',\n  'medsis_ids': [24251, 2486]},\n {'ID': 462305,\n  'NAME': 'Пертуссин, флаконы , 100 г',\n  'medsis_ids': [3112, 3128]},\n {'ID': 462310,\n  'NAME': 'Доктор Тайсс эхинацеи настойка, 50 мл',\n  'medsis_ids': [28286, 38271]},\n {'ID': 462311,\n  'NAME': 'Декса-Гентамицин, глазные капли , 5 мл',\n  'medsis_ids': [27804, 2328, 35462]},\n {'ID': 462312,\n  'NAME': 'Декса-Гентамицин, мазь глазная , 2,5 г',\n  'medsis_ids': [27804, 2328, 35462]},\n {'ID': 462322,\n  'NAME': 'Пантокрин Пантея экстракт жидкий, 50 мл',\n  'medsis_ids': [3054, 33038]},\n {'ID': 462362,\n  'NAME': 'Милдронат, капсулы 250 мг, 40 шт.',\n  'medsis_ids': [1850, 393]},\n {'ID': 462363,\n  'NAME': 'Милдронат, капсулы 500 мг, 60 шт.',\n  'medsis_ids': [1850, 393]},\n {'ID': 462379,\n  'NAME': 'Аскорил экспекторант, сироп, 100 мл',\n  'medsis_ids': [224, 2989, 544]},\n {'ID': 462380,\n  'NAME': 'Гепатромбин, гель 500 ме+2,5 мг+2,5 мг/г 40 г',\n  'medsis_ids': [2818, 36191]},\n {'ID': 462381,\n  'NAME': 'Гепатромбин крем для наружного применения 500МЕ+3 мг+4 мг/г, 40 г',\n  'medsis_ids': [2818, 36191]},\n {'ID': 462431,\n  'NAME': 'Клопиксол депо раствор для в/мыш. введ. масляный 200 мг/мл 1 мл ампулы, 1 шт.',\n  'medsis_ids': [3211, 29874]},\n {'ID': 462432,\n  'NAME': 'Клопиксол-Акуфаз раствор в масле 50 мг/мл  1 мл, 5 шт.',\n  'medsis_ids': [3211, 29875]},\n {'ID': 462433,\n  'NAME': 'Серетид Мультидиск, порошок для ингаляций 50 мкг/500 мкг, 60 доз',\n  'medsis_ids': [1550, 2077]},\n {'ID': 462434,\n  'NAME': 'Серетид Мультидиск, порошок для ингаляций 50 мкг/100 мкг, 60 доз',\n  'medsis_ids': [1550, 2077]},\n {'ID': 462435,\n  'NAME': 'Серетид Мультидиск, порошок для ингаляций 50 мкг/250 мкг, 60 доз',\n  'medsis_ids': [1550, 2077]},\n {'ID': 462451,\n  'NAME': 'Бисакодил-Нижфарм, суппозитории ректальные 10 мг 10 шт.',\n  'medsis_ids': [25959, 1766]},\n {'ID': 462453,\n  'NAME': 'Ацикловир-Акрихин, таблетки 400 мг, 20 шт.',\n  'medsis_ids': [1755, 2658, 25517, 25516]},\n {'ID': 462459,\n  'NAME': 'Триган-Д, таблетки, 20 шт.',\n  'medsis_ids': [2782, 1598]},\n {'ID': 462470,\n  'NAME': 'Диферелин лиофилизат д/приг р-ра д/п/к введ.0,1 мг в компл. с раств-лем флаконы, 7 шт.',\n  'medsis_ids': [2685, 2751]},\n {'ID': 462486,\n  'NAME': 'Флуимуцил таблетки шипучие 600 мг, 10 шт.',\n  'medsis_ids': [36737, 868]},\n {'ID': 462487,\n  'NAME': 'Флуимуцил таблетки шипучие 600 мг, 20 шт.',\n  'medsis_ids': [36737, 868]},\n {'ID': 462488, 'NAME': 'Проспан, сироп , 100 мл', 'medsis_ids': [870, 2989]},\n {'ID': 462489, 'NAME': 'Проспан, сироп , 200 мл', 'medsis_ids': [870, 2989]},\n {'ID': 462512, 'NAME': 'Бадяга, порошок, 10 г', 'medsis_ids': [1080, 25569]},\n {'ID': 462515,\n  'NAME': 'Бифидумбактерин форте, пакетики, 5 доз, 30 шт.',\n  'medsis_ids': [843, 1767]},\n {'ID': 462520,\n  'NAME': 'Йокс-Тева, раствор для местного применения 50 мл флакон',\n  'medsis_ids': [29191, 219]},\n {'ID': 462526, 'NAME': 'Линкас, сироп, 90 мл', 'medsis_ids': [2989, 30734]},\n {'ID': 462540,\n  'NAME': 'Акатинол Мемантин, таблетки 10 мг, 30 шт.',\n  'medsis_ids': [1738, 31252]},\n {'ID': 462559,\n  'NAME': 'Акатинол Мемантин, таблетки 10 мг, 90 шт.',\n  'medsis_ids': [1738, 31252]},\n {'ID': 462574,\n  'NAME': 'Беродуал Н, аэрозоль для ингаляций, 200 доз, 10 мл',\n  'medsis_ids': [25790, 78]},\n {'ID': 462584, 'NAME': 'Кларитин, сироп, 60 мл', 'medsis_ids': [54, 2989]},\n {'ID': 462593,\n  'NAME': 'Мальтофер Фол, таблетки жевательные, 30 шт',\n  'medsis_ids': [455, 457]},\n {'ID': 462603,\n  'NAME': 'Паноксен, таблетки, 20 шт.',\n  'medsis_ids': [31883, 2768]},\n {'ID': 462606,\n  'NAME': 'Простамол Уно, капсулы 320 мг, 60 шт.',\n  'medsis_ids': [24907, 524]},\n {'ID': 462607,\n  'NAME': 'Простамол Уно, капсулы 320 мг, 30 шт.',\n  'medsis_ids': [24907, 524]},\n {'ID': 462617,\n  'NAME': 'Сенны листья, фильтрпакетики , 1,5 г , 20 шт.',\n  'medsis_ids': [34732, 34736]},\n {'ID': 462638,\n  'NAME': 'Феррум Лек, сироп 50 мг/5 мл, 100 мл',\n  'medsis_ids': [3072, 2989]},\n {'ID': 462648, 'NAME': 'Фуцидин Г, крем, 15 г', 'medsis_ids': [1656, 1655]},\n {'ID': 462651,\n  'NAME': 'Хлорпротиксен Санофи таблетки покрыт.плен. об. 15 мг, 30 шт.',\n  'medsis_ids': [41, 37148]},\n {'ID': 462652,\n  'NAME': 'Холосас сироп, 95 мл',\n  'medsis_ids': [2989, 37177, 1663]},\n {'ID': 462654,\n  'NAME': 'Эметрон, ампулы 8 мг, 4 мл, 5 шт.',\n  'medsis_ids': [37905, 31428]},\n {'ID': 462666,\n  'NAME': 'Флутамид, таблетки 250 мг, 84 шт.',\n  'medsis_ids': [36737, 36797]},\n {'ID': 462669,\n  'NAME': 'Колдакт Флю Плюс, капсулы пролонг. 10 шт.',\n  'medsis_ids': [298, 29949]},\n {'ID': 462672,\n  'NAME': 'Нитрокор, таблетки 0.5 мг, 40 шт.',\n  'medsis_ids': [2886, 1413]},\n {'ID': 462673,\n  'NAME': 'Иммуноглобулин человека антирезус Rh0(D) р-р для в/м введ 300 мкг/доза 1 мл ампулы, 1 шт.',\n  'medsis_ids': [35875, 28795]},\n {'ID': 462676,\n  'NAME': 'Кальций-Д3 Никомед форте таблетки жевательные лимон, 60 шт.',\n  'medsis_ids': [107, 29323]},\n {'ID': 462678,\n  'NAME': 'Кальций-Д3 Никомед форте таблетки жевательные лимон, 120 шт.',\n  'medsis_ids': [107, 29323]},\n {'ID': 462684,\n  'NAME': 'Дипроспан суспензия д/ин. 2мг+5мг/мл 1мл, ампулы 1 шт.',\n  'medsis_ids': [870, 1978]},\n {'ID': 462690,\n  'NAME': 'Фитонефрол урологический сбор, фильтрпакетики 2 г, 20 шт.',\n  'medsis_ids': [36681, 36347]},\n {'ID': 462691,\n  'NAME': 'Фитоседан №2 успокоительный сбор, фильтрпакетики 2 г, 20 шт.',\n  'medsis_ids': [36685, 36390]},\n {'ID': 462692,\n  'NAME': 'Фитоседан №3 успокоительный сбор, фильтрпакетики 2 г, 20 шт.',\n  'medsis_ids': [36390, 36686]},\n {'ID': 462699,\n  'NAME': 'Беклазон Эко Легкое Дыхание, аэрозоль для ингаляций 100 мкг/доза, 200 доз',\n  'medsis_ids': [2976, 25662, 66]},\n {'ID': 462700,\n  'NAME': 'Беклазон Эко Легкое Дыхание, аэрозоль для ингаляций 250 мкг/доза, 200 доз',\n  'medsis_ids': [2976, 25662, 66]},\n {'ID': 462723,\n  'NAME': 'Блемарен, таблетки шипучие, 80 шт.',\n  'medsis_ids': [2751, 1011]},\n {'ID': 462725,\n  'NAME': 'Инокаин, глазные капли 0,4%, 5 мл',\n  'medsis_ids': [1196, 31883]},\n {'ID': 462740,\n  'NAME': 'Гинкго Билоба Эвалар таблетки, 40 шт.',\n  'medsis_ids': [27342, 1102, 37711]},\n {'ID': 462746,\n  'NAME': 'Дальфаз СР, таблетки ретард 10 мг, 30 шт.',\n  'medsis_ids': [27729, 27728]},\n {'ID': 462747,\n  'NAME': 'Арфазетин-Э, фильтрпакетики 2 г , 20 шт.',\n  'medsis_ids': [25269, 25270]},\n {'ID': 462748,\n  'NAME': 'Арфазетин-Э, пачка, 50 г',\n  'medsis_ids': [25269, 25270]},\n {'ID': 462846,\n  'NAME': 'Алмагель Нео суспензия 10 мл пакетики, 10 шт.',\n  'medsis_ids': [768, 714]},\n {'ID': 462848,\n  'NAME': 'Алмагель Нео, суспензия 170 мл',\n  'medsis_ids': [768, 714]},\n {'ID': 462868,\n  'NAME': 'Рениприл ГТ таблетки 12.5 мг+10 мг, 20 шт.',\n  'medsis_ids': [491, 490]},\n {'ID': 462875,\n  'NAME': 'Дрожжи пивные с Селеном, таблетки 450 мг, 100 шт.',\n  'medsis_ids': [34711, 28375]},\n {'ID': 462897,\n  'NAME': 'Флуимуцил гранулы для р-ра для приема внутрь 200 мг саше, 20 шт.',\n  'medsis_ids': [36737, 868]},\n {'ID': 462953,\n  'NAME': 'Йодомарин 100, таблетки 0.1 мг, 100 шт.',\n  'medsis_ids': [11, 1808]},\n {'ID': 462954,\n  'NAME': 'Йодомарин 200, таблетки 0.2 мг, 100 шт.',\n  'medsis_ids': [11, 1808]},\n {'ID': 462955,\n  'NAME': 'Йодомарин 200, таблетки 0.2 мг, 50 шт.',\n  'medsis_ids': [11, 1808]},\n {'ID': 462956,\n  'NAME': 'Катеджель с лидокаином гель для местного применения 12,5 г шприц, 1 шт.',\n  'medsis_ids': [30652, 29596, 29597]},\n {'ID': 462969,\n  'NAME': 'Доктор Мом растительные пастилки от кашля Ананас, 20 шт.',\n  'medsis_ids': [28263, 2070]},\n {'ID': 462970,\n  'NAME': 'Доктор Мом растительные пастилки от кашля малина, 20 шт.',\n  'medsis_ids': [28263, 2070]},\n {'ID': 462971,\n  'NAME': 'Доктор Мом растительные пастилки от кашля лимон, 20 шт.',\n  'medsis_ids': [28263, 2070]},\n {'ID': 462995,\n  'NAME': 'Доктор Мом растительные пастилки от кашля Апельсин, 20 шт.',\n  'medsis_ids': [28263, 2070]},\n {'ID': 463009,\n  'NAME': 'Ламизил Дермгель для лечения грибка стопы, гель 1%, 15 г',\n  'medsis_ids': [1835, 1303]},\n {'ID': 463021,\n  'NAME': 'Колдрекс ХотРем при простуде и гриппе со вкусом меда и лимона, 5 г, 10 пак.',\n  'medsis_ids': [1983, 318]},\n {'ID': 463022,\n  'NAME': 'Колдрекс ХотРем при простуде и гриппе со вкусом меда и лимона, 5 г, 5 пак.',\n  'medsis_ids': [1983, 318]},\n {'ID': 463023,\n  'NAME': 'Доктор Мом растительные пастилки от кашля клубника, 20 шт.',\n  'medsis_ids': [28263, 2070]},\n {'ID': 463024,\n  'NAME': 'Беклазон Эко, аэрозоль для ингаляций 250 мкг/доза, 200 доз',\n  'medsis_ids': [2976, 66]},\n {'ID': 463040,\n  'NAME': 'Пиковит Д, пастилки, 30 шт.',\n  'medsis_ids': [2039, 1478]},\n {'ID': 463041,\n  'NAME': 'Пиковит форте таблетки покрыт.об, 30 шт.',\n  'medsis_ids': [2039, 1477]},\n {'ID': 463070,\n  'NAME': 'Антигриппин-АНВИ, капсулы, 20 шт.',\n  'medsis_ids': [327, 939]},\n {'ID': 463075,\n  'NAME': 'Акридерм ГК, крем 0.064%, 15 г',\n  'medsis_ids': [1739, 907]},\n {'ID': 463076, 'NAME': 'Акридерм СК, мазь, 30 г', 'medsis_ids': [909, 907]},\n {'ID': 463077, 'NAME': 'Акридерм СК, мазь, 15 г', 'medsis_ids': [909, 907]},\n {'ID': 463080,\n  'NAME': 'Орвирем, сироп 0.2%, 100 мл',\n  'medsis_ids': [325, 2989]},\n {'ID': 463087,\n  'NAME': 'Кларисенс, сироп 1 мг/мл, 100 мл',\n  'medsis_ids': [29756, 2989]},\n {'ID': 463099,\n  'NAME': 'Цифран ОД, таблетки 1000 мг, 10 шт.',\n  'medsis_ids': [652, 653]},\n {'ID': 463132,\n  'NAME': 'Аторис, таблетки 10 мг, 30 шт.',\n  'medsis_ids': [25390, 378]},\n {'ID': 463133,\n  'NAME': 'Аторис, таблетки 10 мг, 90 шт.',\n  'medsis_ids': [25390, 378]},\n {'ID': 463134,\n  'NAME': 'Аторис, таблетки 20 мг, 30 шт.',\n  'medsis_ids': [25390, 378]},\n {'ID': 463135,\n  'NAME': 'Аторис, таблетки 20 мг, 90 шт.',\n  'medsis_ids': [25390, 378]},\n {'ID': 463155,\n  'NAME': 'Колдрекс МаксГрипп при простуде и гриппе со вкусом лимона, 6 г, 10 пак.',\n  'medsis_ids': [318, 2065]},\n {'ID': 463156,\n  'NAME': 'Колдрекс МаксГрипп при простуде и гриппе со вкусом лимона, 6 г, 5 пак.',\n  'medsis_ids': [318, 2065]},\n {'ID': 463169,\n  'NAME': 'Люффель Н таблетки гомеопатические, 50 шт',\n  'medsis_ids': [30932, 30933]},\n {'ID': 463174,\n  'NAME': 'Пентафлуцин гранулы 5 г пакетики, 5 шт.',\n  'medsis_ids': [36737, 2770]},\n {'ID': 463175,\n  'NAME': 'Пентафлуцин гранули 5 г пакетики, 10 шт.',\n  'medsis_ids': [36737, 2770]},\n {'ID': 463177,\n  'NAME': 'Релиф Адванс, свечи ректальные, 12 шт.',\n  'medsis_ids': [1996, 34131]},\n {'ID': 463178,\n  'NAME': 'Рисполепт Конста, флакон, 25 мг',\n  'medsis_ids': [2217, 34345]},\n {'ID': 463186,\n  'NAME': 'ТераФлю ЭкстраТаб от гриппа и простуды, таблетки, 10 шт.',\n  'medsis_ids': [35650, 2993, 301]},\n {'ID': 463201,\n  'NAME': 'Дексалгин 25, таблетки 25 мг, 10 шт.',\n  'medsis_ids': [1796, 352]},\n {'ID': 463220,\n  'NAME': 'Амоксиклав, таблетки покрыт.плен.об. 875 мг+125 мг 14 шт.',\n  'medsis_ids': [31666, 669]},\n {'ID': 463221,\n  'NAME': 'Анальгин-хинин, таблетки, 20 шт.',\n  'medsis_ids': [1743, 348]},\n {'ID': 463224,\n  'NAME': 'Бусерелин-депо лиофилизат для сусп. для в/мыш. введ. пролонг. 3,75 мг, флакон 1 шт.',\n  'medsis_ids': [2503, 26247]},\n {'ID': 463233, 'NAME': 'Залаин, крем 2%  20 г', 'medsis_ids': [1187, 1186]},\n {'ID': 463245,\n  'NAME': 'Йодоксид, суппозитории вагинальные 200 мг 10 шт.',\n  'medsis_ids': [1202, 1808]},\n {'ID': 463246,\n  'NAME': 'Кавинтон Форте, таблетки 10 мг, 30 шт.',\n  'medsis_ids': [110, 29238, 1204]},\n {'ID': 463247,\n  'NAME': 'Кавинтон Форте, таблетки 10 мг, 90 шт.',\n  'medsis_ids': [110, 29238, 1204]},\n {'ID': 463248,\n  'NAME': 'Кардилопин, таблетки 10 мг, 30 шт.',\n  'medsis_ids': [29529, 29528, 1219]},\n {'ID': 463249,\n  'NAME': 'Кардилопин, таблетки 5 мг, 30 шт.',\n  'medsis_ids': [29529, 29528, 1219]},\n {'ID': 463259,\n  'NAME': 'Компливит-Актив, таблетки для детей\\xa0и\\xa0подростков 60 шт.',\n  'medsis_ids': [30020, 1826]},\n {'ID': 463260,\n  'NAME': 'Конкор Кор, таблетки покрыт.плен.об. 2,5 мг 30 шт.',\n  'medsis_ids': [2585, 408]},\n {'ID': 463267,\n  'NAME': 'Лозап Плюс таблетки покрыт.плен.об. 50 мг+12.5 мг, 30 шт.',\n  'medsis_ids': [501, 500]},\n {'ID': 463279,\n  'NAME': 'Ноноксинол, свечи вагинальные 120 мг, 10 шт.',\n  'medsis_ids': [31883, 2533]},\n {'ID': 463302,\n  'NAME': 'Ригевидон 21+7, таблетки, 28 шт.',\n  'medsis_ids': [190, 34257]},\n {'ID': 463303,\n  'NAME': 'Ригевидон 21+7, таблетки, 84 шт.',\n  'medsis_ids': [190, 34257]},\n {'ID': 463316,\n  'NAME': 'Тинидазол-Акри, таблетки 0.5 г, 4 шт.',\n  'medsis_ids': [35847, 627]},\n {'ID': 463324,\n  'NAME': 'Троксерутин Врамед, капсулы 300 мг, 50 шт.',\n  'medsis_ids': [1921, 2943, 34495]},\n {'ID': 463325,\n  'NAME': 'Фемостон конти таблетки покрыт.плен.об., 28 шт.',\n  'medsis_ids': [172, 36517]},\n {'ID': 463337,\n  'NAME': 'Эриус, сироп 2.5 мг/5 мл, 60 мл',\n  'medsis_ids': [64, 2989]},\n {'ID': 463369,\n  'NAME': 'Беталок Зок таблетки покрыт.об.с замедл.высв. 25 мг, 14 шт.',\n  'medsis_ids': [403, 2800]},\n {'ID': 463371,\n  'NAME': 'Мирамистин р-р для местн. применения 0.01% флакон урологический, 50 мл',\n  'medsis_ids': [377, 36347]},\n {'ID': 463382,\n  'NAME': 'Кальцемин Адванс, таблетки, 30 шт.',\n  'medsis_ids': [104, 103]},\n {'ID': 463383,\n  'NAME': 'Кальцемин Адванс, таблетки, 60 шт.',\n  'medsis_ids': [104, 103]},\n {'ID': 463387,\n  'NAME': 'Лорагексал, таблетки 10 мг, 10 шт.',\n  'medsis_ids': [57, 1338]},\n {'ID': 463389,\n  'NAME': 'Пульсатилла композитум р-р для в/мыш. введ. 2,2 мл ампулы инд.уп., 5 шт.',\n  'medsis_ids': [33883, 2575]},\n {'ID': 463396,\n  'NAME': 'Беклазон Эко, аэрозоль для ингаляций 100 мкг/доза 200 доз',\n  'medsis_ids': [2976, 66]},\n {'ID': 463397,\n  'NAME': 'Беклазон Эко, аэрозоль для ингаляций 50 мкг/доза 200 доз',\n  'medsis_ids': [2976, 66]},\n {'ID': 463411,\n  'NAME': 'Компливит Мама, таблетки, 30 шт.',\n  'medsis_ids': [1827, 1826]},\n {'ID': 463412,\n  'NAME': 'Компливит Мама, таблетки, 60 шт.',\n  'medsis_ids': [1827, 1826]},\n {'ID': 463431,\n  'NAME': 'Нормазе, сироп 667 мг/мл 200 мл флаконы',\n  'medsis_ids': [2989, 726]},\n {'ID': 463436,\n  'NAME': 'Порталак, сироп , 250 мл',\n  'medsis_ids': [3412, 3258, 2989]},\n {'ID': 463442,\n  'NAME': 'Фемостон 2 таблетки покрыт.плен.об., 28 шт.',\n  'medsis_ids': [172, 36520]},\n {'ID': 463445,\n  'NAME': 'Ибупрофен-Хемофарм, таблетки покрыт.плен.об. 400 мг 30 шт.',\n  'medsis_ids': [1807, 2739, 28674]},\n {'ID': 463454,\n  'NAME': 'Стрепсилс с ментолом и эвкалиптом, таблетки, 24 шт.',\n  'medsis_ids': [35199, 213]},\n {'ID': 463460,\n  'NAME': 'Стрепсилс с ментолом и эвкалиптом, таблетки, 36 шт.',\n  'medsis_ids': [35199, 213]},\n {'ID': 463473,\n  'NAME': 'Энзикс дуо таблеток набор 2.5 мг+10 мг, 45 шт.',\n  'medsis_ids': [1721, 1720]},\n {'ID': 463474,\n  'NAME': 'Энзикс дуо форте таблеток набор 2.5 мг+20 мг, 45 шт.',\n  'medsis_ids': [37981, 1721, 1720]},\n {'ID': 463481,\n  'NAME': 'Цифран СТ, таблетки 500 мг+600 мг, 10 шт.',\n  'medsis_ids': [652, 651]},\n {'ID': 463492,\n  'NAME': 'Селен-актив, таблетки, 30 шт.',\n  'medsis_ids': [34711, 1546]},\n {'ID': 463493,\n  'NAME': 'Селен-актив, таблетки, 60 шт.',\n  'medsis_ids': [34711, 1546]},\n {'ID': 463494,\n  'NAME': 'Билобил форте, капсулы 80 мг, 20 шт.',\n  'medsis_ids': [122, 1001]},\n {'ID': 463500,\n  'NAME': 'Либексин Муко сироп 50 мг/мл, 125 мл',\n  'medsis_ids': [230, 2989, 539]},\n {'ID': 463522,\n  'NAME': 'Микардис Плюс, таблетки 80 мг+12,5 мг, 28 шт.',\n  'medsis_ids': [505, 1374]},\n {'ID': 463526,\n  'NAME': 'Нурофен форте, таблетки обезболивающие 400 мг, 12 шт.',\n  'medsis_ids': [324, 1423]},\n {'ID': 463531,\n  'NAME': 'Флуконазол Штада капсулы 150 мг, 1 шт.',\n  'medsis_ids': [36737, 36766, 1936, 285]},\n {'ID': 463554,\n  'NAME': 'Аллокин-альфа лиофилизат для п/кожного введения 1 мг ампулы, 3 шт.',\n  'medsis_ids': [24597, 1429]},\n {'ID': 463561,\n  'NAME': 'Трилептал таблетки покрыт.плен.об.150 мг, 50 шт.',\n  'medsis_ids': [34272, 36105]},\n {'ID': 463562,\n  'NAME': 'Трилептал таблетки покрыт.плен.об 600 мг, 50 шт.',\n  'medsis_ids': [34272, 36105]},\n {'ID': 463563,\n  'NAME': 'Трилептал суспезия для приема внутрь 60 мг/мл флаконы, 100 мл',\n  'medsis_ids': [34272, 36105]},\n {'ID': 463574,\n  'NAME': 'Гистафен, таблетки 50 мг, 20 шт.',\n  'medsis_ids': [35138, 27402]},\n {'ID': 463578,\n  'NAME': 'Энкорат хроно, таблетки 300 мг, 30 шт.',\n  'medsis_ids': [37986, 37985]},\n {'ID': 463613,\n  'NAME': 'Флемоклав Солютаб, таблетки диспергируемые 250 мг+62,5 мг, 20 шт.',\n  'medsis_ids': [2375, 2751]},\n {'ID': 463614,\n  'NAME': 'Флемоклав Солютаб, таблетки диспергируемые 500 мг+125 мг, 20 шт.',\n  'medsis_ids': [2375, 2751]},\n {'ID': 463629,\n  'NAME': 'Анаферон детский, таблетки, 20 шт.',\n  'medsis_ids': [2016, 24990]},\n {'ID': 463635,\n  'NAME': 'Клацид СР, таблетки покрыт.плен.об.пролонг 500 мг 7 шт.',\n  'medsis_ids': [662, 661]},\n {'ID': 463637,\n  'NAME': 'Аспирин Комплекс, пакетики 3,5 г, 10 шт.',\n  'medsis_ids': [25331, 317]},\n {'ID': 463638,\n  'NAME': 'Акридерм Гента, крем, 15 г',\n  'medsis_ids': [908, 907]},\n {'ID': 463639,\n  'NAME': 'Акридерм Гента, крем, 30 г',\n  'medsis_ids': [908, 907]},\n {'ID': 463641,\n  'NAME': 'Этопозид-Тева конц. для р-ра\\xa0для инфузий 20 мг/мл флакон, 5 мл',\n  'medsis_ids': [2705, 38221]},\n {'ID': 463655,\n  'NAME': 'Мелоксикам Штада, таблетки 15 мг 20 шт.',\n  'medsis_ids': [31227, 1842, 31219]},\n {'ID': 463656,\n  'NAME': 'Мелоксикам таблетки 7,5 мг, 20 шт.',\n  'medsis_ids': [1842, 31219]},\n {'ID': 463664,\n  'NAME': 'Геримакс Энерджи, таблетки, 30 шт.',\n  'medsis_ids': [2465, 1095]},\n {'ID': 463665,\n  'NAME': 'Геримакс Энерджи, таблетки, 60 шт.',\n  'medsis_ids': [2465, 1095]},\n {'ID': 463668,\n  'NAME': 'Кальцемин Адванс таблетки, 120 шт.',\n  'medsis_ids': [104, 103]},\n {'ID': 463708,\n  'NAME': 'Фромилид уно, таблетки ретард 500 мг, 14 шт.',\n  'medsis_ids': [666, 667]},\n {'ID': 463709,\n  'NAME': 'Сердолект таблетки покрыт.об.4 мг, 30 шт.',\n  'medsis_ids': [34759, 34760]},\n {'ID': 463717,\n  'NAME': 'Зокардис 30, таблетки покрыт.плен.об. 30 мг, 28 шт.',\n  'medsis_ids': [28589, 1190]},\n {'ID': 463718,\n  'NAME': 'Зокардис 7,5, таблетки покрыт.плен.об. 7,5 мг, 28 шт.',\n  'medsis_ids': [28590, 1190]},\n {'ID': 463720,\n  'NAME': 'Омник Окас, таблетки покрыт.об.с контр.высв. 0,4 мг, 10 шт.',\n  'medsis_ids': [522, 523]},\n {'ID': 463721,\n  'NAME': 'Омник Окас, таблетки покрыт.об.с контр.высв. 0,4 мг, 30 шт.',\n  'medsis_ids': [522, 523]},\n {'ID': 463726,\n  'NAME': 'Ламолеп, таблетки 100 мг, 30 шт.',\n  'medsis_ids': [24907, 2099]},\n {'ID': 463735,\n  'NAME': 'Пропофол-Липуро эмульсия для в/вен введ 10 мг/мл 20 мл ампулы, 5 шт.',\n  'medsis_ids': [33597, 33759, 33764]},\n {'ID': 463738,\n  'NAME': 'Дерматикс гель силиконовый для предотвращения образования рубцов, 15 г',\n  'medsis_ids': [2152, 3535]},\n {'ID': 463742,\n  'NAME': 'Ко-диован, таблетки 160/12,5 мг, 28 шт.',\n  'medsis_ids': [29895, 1139]},\n {'ID': 463746,\n  'NAME': 'Вильпрафен солютаб, таблетки 1000 мг, 10 шт.',\n  'medsis_ids': [656, 657]},\n {'ID': 463760,\n  'NAME': 'Фромилид уно, таблетки ретард 500 мг, 7 шт.',\n  'medsis_ids': [666, 667]},\n {'ID': 463762,\n  'NAME': 'Селен-актив, таблетки, 180 шт.',\n  'medsis_ids': [34711, 1546]},\n {'ID': 463768,\n  'NAME': 'Фокусин капсулы с модиф. высв. 0.4 мг, 30 шт.',\n  'medsis_ids': [1939, 1641]},\n {'ID': 463779,\n  'NAME': 'Залаин, суппозитории вагинальные 300 мг 1 шт.',\n  'medsis_ids': [1187, 1186]},\n {'ID': 463780,\n  'NAME': 'Коапровель, таблетки 300/12,5 мг, 28 шт.',\n  'medsis_ids': [947, 29909]},\n {'ID': 463781,\n  'NAME': 'Коапровель, таблетки 150/12,5 мг, 28 шт.',\n  'medsis_ids': [947, 29909]},\n {'ID': 463794,\n  'NAME': 'Гидроксикарбамид Медак, капсулы 500 мг, 100 шт.',\n  'medsis_ids': [27300, 27301]},\n {'ID': 463799,\n  'NAME': 'Зипрекса Зидис, таблетки 5 мг, 28 шт.',\n  'medsis_ids': [28573, 2090]},\n {'ID': 463800,\n  'NAME': 'Зипрекса Зидис, таблетки 10 мг, 28 шт.',\n  'medsis_ids': [28573, 2090]},\n {'ID': 463814,\n  'NAME': 'Артроцин крем с хондроитином и глюкозамином, 50 мл',\n  'medsis_ids': [3077, 954, 3075, 2731, 37182, 3020]},\n {'ID': 463827,\n  'NAME': 'Фозикард Н таблетки 12,5 мг+20 мг, 28 шт.',\n  'medsis_ids': [1640, 36834]},\n {'ID': 463837,\n  'NAME': 'Ламолеп, таблетки 50 мг, 30 шт.',\n  'medsis_ids': [24907, 2099]},\n {'ID': 463842,\n  'NAME': 'Ламолеп, таблетки 25 мг, 30 шт.',\n  'medsis_ids': [24907, 2099]},\n {'ID': 463844,\n  'NAME': 'Хумалог Микс 25, картриджи 100 ме/мл , 3 мл , 5 шт.',\n  'medsis_ids': [37211, 3456]},\n {'ID': 463858,\n  'NAME': 'Крайнон гель вагинальный 90 мг/доза 1,125 г аппликаторов, 15 шт.',\n  'medsis_ids': [25390, 2520]},\n {'ID': 463871,\n  'NAME': 'Терафлекс Адванс 250 мг+100 мг+200 мг капсулы, 120 шт.',\n  'medsis_ids': [334, 335]},\n {'ID': 463872,\n  'NAME': 'Пилобакт АМ, набор комбинированный, 7 шт.',\n  'medsis_ids': [33331, 3410]},\n {'ID': 463879,\n  'NAME': 'Апидра СолоСтар картриджи в шприц-ручках 100 ЕД/мл 3 мл, 5 шт.',\n  'medsis_ids': [25119, 25120]},\n {'ID': 463881,\n  'NAME': 'Торендо Ку-таб, таблетки для рассасывания 1 мг, 30 шт.',\n  'medsis_ids': [35965, 2218]},\n {'ID': 463882,\n  'NAME': 'Торендо Ку-таб, таблетки для рассасывания 2 мг, 30 шт.',\n  'medsis_ids': [35965, 2218]},\n {'ID': 463885,\n  'NAME': 'Алерана шампунь д/сухих и норм волос, флакон, 250 мл',\n  'medsis_ids': [912, 911]},\n {'ID': 463890,\n  'NAME': 'Виардо форте, капсулы, 18 шт.',\n  'medsis_ids': [1036, 1037]},\n {'ID': 463895,\n  'NAME': 'КардиАСК таблетки покрыт.киш-раств.плен.об. 50 мг, 30 шт.',\n  'medsis_ids': [1218, 29520]},\n {'ID': 463903,\n  'NAME': 'Итразол, капсулы 100 мг, 14 шт.',\n  'medsis_ids': [2152, 681]},\n {'ID': 463956,\n  'NAME': 'Терафлекс Адванс 250 мг+100 мг+200 мг капсулы, 60 шт.',\n  'medsis_ids': [334, 335]},\n {'ID': 463980,\n  'NAME': 'Мамоклам, таблетки, 40 шт.',\n  'medsis_ids': [3044, 29749]},\n {'ID': 463983,\n  'NAME': 'Ламизил УНО для лечения грибка стопы, раствор, 1% 4 г',\n  'medsis_ids': [683, 1835]},\n {'ID': 463985,\n  'NAME': 'Аторис, таблетки 40 мг, 30 шт.',\n  'medsis_ids': [25390, 378]},\n {'ID': 463989,\n  'NAME': 'Эпиген Интим, гель для интимной гигиены 250 мл',\n  'medsis_ids': [2659, 1723]},\n {'ID': 463999,\n  'NAME': 'Хондроксид, таблетки, 60 шт.',\n  'medsis_ids': [3075, 2010, 34414, 37182]},\n {'ID': 464020,\n  'NAME': 'Гевискон форте, суспензия мятная, 150 мл',\n  'medsis_ids': [558, 27074]},\n {'ID': 464035,\n  'NAME': 'Эналаприл Гексал, таблетки 5 мг, 20 шт.',\n  'medsis_ids': [515, 37930]},\n {'ID': 464036,\n  'NAME': 'Эналаприл Гексал, таблетки 10 мг, 20 шт.',\n  'medsis_ids': [515, 37930]},\n {'ID': 464037,\n  'NAME': 'Эналаприл Гексал, таблетки 20 мг, 20 шт.',\n  'medsis_ids': [515, 37930]},\n {'ID': 464039,\n  'NAME': 'Индапамид таблетки пролонг. покрыт.плен.об. 1,5 мг 30 шт., упак.',\n  'medsis_ids': [32984, 423, 421]},\n {'ID': 464040,\n  'NAME': 'Гексорал табс таблетки для рассасывания, 20 шт.',\n  'medsis_ids': [205, 27091]},\n {'ID': 464042,\n  'NAME': 'Эссливер форте, капсулы, 30 шт.',\n  'medsis_ids': [782, 38155]},\n {'ID': 464047,\n  'NAME': 'Зитролид форте, капсулы 500 мг, 3 шт.',\n  'medsis_ids': [658, 28582]},\n {'ID': 464049,\n  'NAME': 'Итразол, капсулы 100 мг, 6 шт.',\n  'medsis_ids': [2152, 681]},\n {'ID': 464055,\n  'NAME': 'Престариум А, таблетки 5 мг, 30 шт.',\n  'medsis_ids': [2909, 426]},\n {'ID': 464066,\n  'NAME': 'ТераФлю ЛАР спрей против вирусов и боли в горле, 30 мл',\n  'medsis_ids': [2993, 215]},\n {'ID': 464078,\n  'NAME': 'Отривин Ментол спрей назальный, дозированный 0,1% 10мл',\n  'medsis_ids': [1993, 286]},\n {'ID': 464084,\n  'NAME': 'Йодбаланс, таблетки 100 мкг, 100 шт.',\n  'medsis_ids': [12, 25614, 1808]},\n {'ID': 464085,\n  'NAME': 'Йодбаланс, таблетки 200 мкг, 100 шт.',\n  'medsis_ids': [12, 25614, 1808]},\n {'ID': 464086,\n  'NAME': 'Релиф Ультра, свечи ректальные, 12 шт.',\n  'medsis_ids': [1996, 34133]},\n {'ID': 464097,\n  'NAME': 'Престариум А, таблетки 10 мг, 30 шт.',\n  'medsis_ids': [2909, 426]},\n {'ID': 464130,\n  'NAME': 'Агри детский, таблетки, 40 шт.',\n  'medsis_ids': [24251, 2486]},\n {'ID': 464131,\n  'NAME': 'Монтевизин, глазные капли 0,05%, 10 мл',\n  'medsis_ids': [264, 31758]},\n {'ID': 464140,\n  'NAME': 'Аскорил экспекторант, сироп, 200 мл',\n  'medsis_ids': [224, 2989, 544]},\n {'ID': 464157,\n  'NAME': 'Ферлатум Фол, флаконы 15 мл, 10 шт.',\n  'medsis_ids': [873, 874]},\n {'ID': 464162,\n  'NAME': 'Бронхипрет, сироп, 100 мл',\n  'medsis_ids': [2989, 537]},\n {'ID': 464163, 'NAME': 'Бронхипрет, сироп, 50 мл', 'medsis_ids': [2989, 537]},\n {'ID': 464164,\n  'NAME': 'Бронхипрет ТП, таблетки, 20 шт.',\n  'medsis_ids': [26180, 537]},\n {'ID': 464171,\n  'NAME': 'Колдрекс Юниор Хот Дринк, 10 шт.',\n  'medsis_ids': [318, 319, 29965]},\n {'ID': 464178,\n  'NAME': 'Компливит Кальций Д3, таблетки жевательные, 100 шт.',\n  'medsis_ids': [108, 1826]},\n {'ID': 464184,\n  'NAME': 'Экватор, таблетки 10+20 мг, 30 шт.',\n  'medsis_ids': [25390, 489]},\n {'ID': 464188,\n  'NAME': 'Атероклефит Био, капсулы, 30 шт.',\n  'medsis_ids': [957, 956]},\n {'ID': 464189, 'NAME': 'Хонда, капсулы, 30 шт.', 'medsis_ids': [1664, 1665]},\n {'ID': 464190, 'NAME': 'Хонда, крем, 50 г', 'medsis_ids': [1664, 1665]},\n {'ID': 464203,\n  'NAME': 'Споробактерин жидкий, флакон, 10 мл',\n  'medsis_ids': [35115, 35116]},\n {'ID': 464213,\n  'NAME': 'Компливит селен, таблетки, 60 шт.',\n  'medsis_ids': [34711, 33505, 1258, 1826]},\n {'ID': 464253,\n  'NAME': 'Гексикон Д, суппозитории вагинальные 8 мг, 10 шт.',\n  'medsis_ids': [1078, 27088]},\n {'ID': 464257,\n  'NAME': 'Пустырник форте, таблетки 0,5 г, 40 шт.',\n  'medsis_ids': [1510, 33896]},\n {'ID': 464261,\n  'NAME': 'Компливит с пониженным содержанием сахара, таблетки, 60 шт.',\n  'medsis_ids': [33505, 1260, 1826]},\n {'ID': 464262,\n  'NAME': 'Компливит с пониженным содержанием сахара, таблетки, 365 шт.',\n  'medsis_ids': [33505, 1260, 1826]},\n {'ID': 464282,\n  'NAME': 'Офтаквикс капли глазные 0,5%, 5 мл',\n  'medsis_ids': [3585, 372]},\n {'ID': 464290,\n  'NAME': 'Алтей сироп, флакон, 150 мл',\n  'medsis_ids': [24639, 2989]},\n {'ID': 464294,\n  'NAME': 'Релиф Адванс, мазь ректальная, 28,4 г',\n  'medsis_ids': [1996, 34131]},\n {'ID': 464303,\n  'NAME': 'Артрозан таблетки 15 мг, 20 шт.',\n  'medsis_ids': [349, 953]},\n {'ID': 464312,\n  'NAME': 'Метопролол-Тева таблетки 100 мг, 30 шт.',\n  'medsis_ids': [31398, 2877]},\n {'ID': 464313,\n  'NAME': 'Метопролол-Тева таблетки 50 мг, 30 шт.',\n  'medsis_ids': [31398, 2877]},\n {'ID': 464314,\n  'NAME': 'Кордафлекс РД, таблетки покрыт.об.с контр.высв. 40 мг 30 шт.',\n  'medsis_ids': [30087, 448]},\n {'ID': 464317,\n  'NAME': 'Индапамид МВ Штада таблетки покрыт.плен.об. пролонг.1,5 мг, 30 шт.',\n  'medsis_ids': [32984, 423, 422, 421]},\n {'ID': 464318,\n  'NAME': 'Цетиризин Сандоз таблетки покрыт.об. 10 мг, 10 шт.',\n  'medsis_ids': [37296, 63]},\n {'ID': 464320,\n  'NAME': 'Энап-НЛ 20 таблетки 12,5 мг+20 мг, 20 шт.',\n  'medsis_ids': [431, 432]},\n {'ID': 464322,\n  'NAME': 'Афлубин, таблетки, 12 шт.',\n  'medsis_ids': [36737, 308]},\n {'ID': 464323,\n  'NAME': 'Афлубин, таблетки, 24 шт.',\n  'medsis_ids': [36737, 308]},\n {'ID': 464324,\n  'NAME': 'Афлубин, таблетки, 48 шт.',\n  'medsis_ids': [36737, 308]},\n {'ID': 464332,\n  'NAME': 'ТераФлю от гриппа и простуды, со вкусом лесных ягод 10 пак.',\n  'medsis_ids': [2993, 35645]},\n {'ID': 464348,\n  'NAME': 'Хондроитин-АКОС мазь для наружного применения 5%, 30 г',\n  'medsis_ids': [3077, 3075, 37189, 37182]},\n {'ID': 464352,\n  'NAME': 'Хондроитин-АКОС, капсулы 250 мг, 50 шт.',\n  'medsis_ids': [3077, 3075, 37189, 37182]},\n {'ID': 464359,\n  'NAME': 'Кардионат, капсулы 250 мг, 40 шт.',\n  'medsis_ids': [1221, 392]},\n {'ID': 464364,\n  'NAME': 'Ибупрофен, мазь 5%, 25 г',\n  'medsis_ids': [1807, 2739]},\n {'ID': 464365,\n  'NAME': 'Алерана бальзам-ополаскиватель, 200',\n  'medsis_ids': [912, 911]},\n {'ID': 464369,\n  'NAME': 'Орнидазол-Веро, таблетки 500 мг, 10 шт.',\n  'medsis_ids': [32807, 622]},\n {'ID': 464382,\n  'NAME': 'Хондроксид, гель 5%, 30 г',\n  'medsis_ids': [3075, 2010, 34414, 37182]},\n {'ID': 464395, 'NAME': 'Цитовир-3, сироп, 50 мл', 'medsis_ids': [2989, 306]},\n {'ID': 464396,\n  'NAME': 'Глидиаб МВ, таблетки 30 мг, 60 шт.',\n  'medsis_ids': [1110, 27445]},\n {'ID': 464404,\n  'NAME': 'Депренорм МВ таблетки покрыт.плен.об. пролонг. 35 мг, 30 шт.',\n  'medsis_ids': [1126, 34161]},\n {'ID': 464406,\n  'NAME': 'Депренорм МВ таблетки покрыт.плен.об. пролонг. 35 мг, 60 шт.',\n  'medsis_ids': [1126, 34161]},\n {'ID': 464412,\n  'NAME': 'Компливит Кальций Д3, таблетки жевательные, 30 шт.',\n  'medsis_ids': [108, 1826]},\n {'ID': 464413,\n  'NAME': 'Бетагистин Канон таблетки 16 мг, 30 шт.',\n  'medsis_ids': [25811, 136]},\n {'ID': 464444,\n  'NAME': 'Леркамен 20, таблетки 20 мг, 28 шт.',\n  'medsis_ids': [1320, 30593]},\n {'ID': 464446,\n  'NAME': 'Бронхо-мунал П, капсулы 3.5 мг, 30 шт.',\n  'medsis_ids': [310, 309]},\n {'ID': 464448,\n  'NAME': 'Лориста Н таблетки покрыт.плен.об 50 мг+12.5 мг, 30 шт.',\n  'medsis_ids': [502, 504]},\n {'ID': 464449,\n  'NAME': 'Лориста НД таблетки покрыт.плен.об.100 мг+25 мг, 30 шт.',\n  'medsis_ids': [502, 504, 503]},\n {'ID': 464453,\n  'NAME': 'Атаканд Плюс, таблетки 16/12.5 мг, 28 шт.',\n  'medsis_ids': [25359, 955]},\n {'ID': 464489,\n  'NAME': 'Пиковит плюс, таблетки жевательные, 27 шт.',\n  'medsis_ids': [1474, 2039]},\n {'ID': 464513,\n  'NAME': 'Анафранил СР, таблетки 75 мг, 10 шт.',\n  'medsis_ids': [2257, 24993]},\n {'ID': 464514,\n  'NAME': 'Эпиген интим, спрей для наружного применения 0,1% 15 мл',\n  'medsis_ids': [2659, 1723]},\n {'ID': 464531,\n  'NAME': 'Индометацин-Альтфарм, суппозитории ректальные 100 мг, 10 шт.',\n  'medsis_ids': [28937, 28303, 31341, 355]},\n {'ID': 464534,\n  'NAME': 'Ликопрофит потенциал-формула, капсулы, 30 шт.',\n  'medsis_ids': [33596, 1323]},\n {'ID': 464587,\n  'NAME': 'Депакин Хроносфера, гранулы 1000 мг, 30 шт.',\n  'medsis_ids': [28, 29, 30]},\n {'ID': 464588,\n  'NAME': 'Депакин Хроносфера, гранулы 100 мг, 30 шт.',\n  'medsis_ids': [28, 29, 30]},\n {'ID': 464589,\n  'NAME': 'Депакин Хроносфера гранулы с пролонгированным высвобожд 250 мг, 30 шт.',\n  'medsis_ids': [28, 29, 30]},\n {'ID': 464590,\n  'NAME': 'Депакин Хроносфера, гранулы 500 мг, 30 шт.',\n  'medsis_ids': [28, 29, 30]},\n {'ID': 464591,\n  'NAME': 'Депакин Хроносфера, гранулы 750 мг, 30 шт.',\n  'medsis_ids': [28, 29, 30]},\n {'ID': 464603,\n  'NAME': 'Витапрост Плюс, суппозитории ректальные 400 мг+20 мг 10 шт.',\n  'medsis_ids': [2018, 1044]},\n {'ID': 464615,\n  'NAME': 'Кавинтон, ампулы 25 мг, 5 мл, 10 шт.',\n  'medsis_ids': [110, 1204]},\n {'ID': 464616,\n  'NAME': 'Кавинтон, ампулы 50 мг, 10 мл, 5 шт.',\n  'medsis_ids': [110, 1204]},\n {'ID': 464619,\n  'NAME': 'Оксалиплатин медак лиофилизат д/пригот р-ра для инфузий 50 мг флаконы, 1 шт.',\n  'medsis_ids': [32562, 32564]},\n {'ID': 464633,\n  'NAME': 'Турбослим Блокатор Калорий, таблетки, 40 шт.',\n  'medsis_ids': [25390, 1605]},\n {'ID': 464637,\n  'NAME': 'Венитан форте, гель, 50 г',\n  'medsis_ids': [26541, 26539]},\n {'ID': 464735,\n  'NAME': 'Хондроитин сульфат, ампулы 100 мг, 10 шт',\n  'medsis_ids': [3077, 3075, 37186, 37182]},\n {'ID': 464766,\n  'NAME': 'Фокусин капсулы с модиф. высв. 0.4 мг, 90 шт.',\n  'medsis_ids': [1939, 1641]},\n {'ID': 464777,\n  'NAME': 'Теветен плюс, таблетки, 28 шт.',\n  'medsis_ids': [509, 508]},\n {'ID': 464780,\n  'NAME': 'Сульфасалазин-ЕН, таблетки 500 мг, 50 шт.',\n  'medsis_ids': [624, 625]},\n {'ID': 464789,\n  'NAME': 'Кетонал ДУО капсулы с модиф. высв.150 мг, 30 шт.',\n  'medsis_ids': [1980, 1230]},\n {'ID': 464790,\n  'NAME': 'Лозап Плюс таблетки покрыт.плен.об. 50 мг+12.5 мг, 90 шт.',\n  'medsis_ids': [501, 500]},\n {'ID': 464821,\n  'NAME': 'Амоксиклав Квиктаб таблетки диспергируемые 500 мг+125 мг, 14 шт.',\n  'medsis_ids': [31666, 24885, 669]},\n {'ID': 464822,\n  'NAME': 'Амоксиклав Квиктаб таблетки диспергируемые 875 мг+125 мг, 14 шт.',\n  'medsis_ids': [31666, 24885, 669]},\n {'ID': 464823,\n  'NAME': 'Амприлан НЛ, таблетки 2,5+12,5 мг, 30 шт.',\n  'medsis_ids': [484, 483]},\n {'ID': 464824,\n  'NAME': 'Амприлан НД таблетки 25 мг+5 мг, 30 шт.',\n  'medsis_ids': [484, 24931]},\n {'ID': 464825,\n  'NAME': 'Аторвастатин-Тева, таблетки покрыт.плен.об 10 мг 30 шт.',\n  'medsis_ids': [2798, 25390, 1751, 35961]},\n {'ID': 464826,\n  'NAME': 'Аторвастатин-Тева, таблетки покрыт.плен.об 20 мг 30 шт.',\n  'medsis_ids': [2798, 25390, 1751, 35961]},\n {'ID': 464827,\n  'NAME': 'Аторвастатин-Тева, таблетки покрыт.плен.об  40 мг 30 шт.',\n  'medsis_ids': [2798, 25390, 1751, 35961]},\n {'ID': 464830,\n  'NAME': 'Нолипрел А, таблетки 2,5+0,625 мг 30 шт.',\n  'medsis_ids': [425, 32413]},\n {'ID': 464831,\n  'NAME': 'Нолипрел А форте, таблетки 5+1,25 мг 30 шт.',\n  'medsis_ids': [425, 424, 32413]},\n {'ID': 464836,\n  'NAME': 'Бифиформ Бэби, флакон 7 мл',\n  'medsis_ids': [1009, 609]},\n {'ID': 464841,\n  'NAME': 'Эспумизан L, эмульсия 40 мг/мл, 30 мл',\n  'medsis_ids': [576, 716]},\n {'ID': 464871,\n  'NAME': 'Отривин Бэби аспиратор назальный со сменными насадками, 3 шт',\n  'medsis_ids': [25390, 286, 373]},\n {'ID': 464872,\n  'NAME': 'Отривин Бэби капли для орошения полости носа, 5мл, 18 шт.',\n  'medsis_ids': [286, 373]},\n {'ID': 464873,\n  'NAME': 'Отривин Бэби, одноразовые сменные насадки, 10 шт.',\n  'medsis_ids': [2152, 286, 373]},\n {'ID': 464880,\n  'NAME': 'Компливит Антистресс, таблетки 525 мг, 30 шт.',\n  'medsis_ids': [1253, 1826]},\n {'ID': 464881,\n  'NAME': 'Генферон Лайт суппозитории вагин./рект., 125 тыс.ме+5 мг 10 шт',\n  'medsis_ids': [2021, 1090]},\n {'ID': 464882,\n  'NAME': 'Генферон Лайт суппозитории вагин./рект, 250 тыс.ме+5 мг  10 шт.',\n  'medsis_ids': [2021, 1090]},\n {'ID': 464887,\n  'NAME': 'Галвус Мет, таблетки 50+500 мг, 30 шт.',\n  'medsis_ids': [1073, 1072]},\n {'ID': 464888,\n  'NAME': 'Галвус Мет, таблетки 50+850 мг, 30 шт.',\n  'medsis_ids': [1073, 1072]},\n {'ID': 464889,\n  'NAME': 'Галвус Мет, таблетки 50+1000 мг, 30 шт.',\n  'medsis_ids': [1073, 1072]},\n {'ID': 464900,\n  'NAME': 'Экспортал, пакетики 10 г, 20 шт.',\n  'medsis_ids': [3258, 812]},\n {'ID': 464917,\n  'NAME': 'Панцеф, таблетки 400 мг, 6 шт.',\n  'medsis_ids': [25113, 820]},\n {'ID': 464918,\n  'NAME': 'Панцеф, таблетки 400 мг, 10 шт.',\n  'medsis_ids': [25113, 820]},\n {'ID': 464933,\n  'NAME': 'Компливит Диабет, таблетки, 30 шт.',\n  'medsis_ids': [1254, 1826]},\n {'ID': 464934,\n  'NAME': 'Компливит Железо, таблетки, 60 шт.',\n  'medsis_ids': [28449, 1255, 1826]},\n {'ID': 464935,\n  'NAME': 'Компливит Сияние, таблетки, 30 шт.',\n  'medsis_ids': [33505, 1259, 1826]},\n {'ID': 465028,\n  'NAME': 'Альбумин человеческий раствор для инфузий 20% флакон, 50 мл',\n  'medsis_ids': [3136, 24662]},\n {'ID': 465029,\n  'NAME': 'Альбумин человеческий раствор для инфузий 5 % флакон, 100 мл',\n  'medsis_ids': [3136, 24662]},\n {'ID': 465030,\n  'NAME': 'Альбумин человеческий раствор для инфузий 20% флакон, 100 мл',\n  'medsis_ids': [3136, 24662]},\n {'ID': 465034,\n  'NAME': 'Гизаар форте, таблетки 12,5+100 мг, 28 шт.',\n  'medsis_ids': [1097, 1098]},\n {'ID': 465040,\n  'NAME': 'Форадил Комби капсулы с порошком для ингаляций 12/400 мкг, 120 шт.',\n  'medsis_ids': [74, 75]},\n {'ID': 465041,\n  'NAME': 'Лизиноприл Штада, таблетки 10 мг, 20 шт.',\n  'medsis_ids': [30678, 488]},\n {'ID': 465042,\n  'NAME': 'Лизиноприл Штада, таблетки 20 мг, 20 шт.',\n  'medsis_ids': [30678, 488]},\n {'ID': 465049,\n  'NAME': 'Лориста Н таблетки покрыт.плен.об 50 мг+12.5 мг, 60 шт.',\n  'medsis_ids': [502, 504]},\n {'ID': 465050,\n  'NAME': 'Лориста НД таблетки покрыт.плен.об.100 мг+25 мг, 60 шт.',\n  'medsis_ids': [502, 504, 503]},\n {'ID': 465060,\n  'NAME': 'Флемоклав Солютаб, таблетки диспергируемые 875 мг+125 мг, 14 шт.',\n  'medsis_ids': [2375, 2751]},\n {'ID': 465061,\n  'NAME': 'Метопролол-Акрихин таблетки 50 мг, 30 шт.',\n  'medsis_ids': [31394, 31395, 2877]},\n {'ID': 465070,\n  'NAME': 'ЭсКорди Кор таблетки 2,5 мг, 30 шт.',\n  'medsis_ids': [1727, 30088]},\n {'ID': 465071,\n  'NAME': 'ЭсКорди Кор таблетки 5 мг, 30 шт.',\n  'medsis_ids': [1727, 30088]},\n {'ID': 465083,\n  'NAME': 'Цинокап, аэрозоль 0,2%, 58 г',\n  'medsis_ids': [31883, 1689]},\n {'ID': 465084,\n  'NAME': 'Ко-Диротон, таблетки 20 мг+12,5 мг, 30 шт.',\n  'medsis_ids': [29896, 1248, 487]},\n {'ID': 465085,\n  'NAME': 'Ко-Диротон, таблетки 10 мг+12,5 мг, 30 шт.',\n  'medsis_ids': [29896, 1248, 487]},\n {'ID': 465086,\n  'NAME': 'Нео-Пенотран форте, свечи вагинальные 750 мг+200 мг 7 шт.',\n  'medsis_ids': [1858, 1859]},\n {'ID': 465094,\n  'NAME': 'Норадреналин Агетан, ампулы 2 мг/мл 4 мл, 10 шт.',\n  'medsis_ids': [2893, 24307, 32440]},\n {'ID': 465125,\n  'NAME': 'Алерана витаминный комплекс День/Ночь таблетки, 60 шт.',\n  'medsis_ids': [912, 911]},\n {'ID': 465149,\n  'NAME': 'Клопидогрел таблетки покрыт.плен.об. 75 мг, 14 шт.',\n  'medsis_ids': [2849, 33310]},\n {'ID': 465150,\n  'NAME': 'Клопидогрел таблетки покрыт.плен.об. 75 мг, 28 шт.',\n  'medsis_ids': [2849, 33310]},\n {'ID': 465185,\n  'NAME': 'Цинокап, крем 0,2%, 50 г',\n  'medsis_ids': [31883, 1689]},\n {'ID': 465191,\n  'NAME': 'Бикалутамид-Тева таблетки покрыт.плен.об. 150 мг, 28 шт.',\n  'medsis_ids': [2679, 25888]},\n {'ID': 465193,\n  'NAME': 'Бикалутамид-Тева таблетки покрыт.плен.об. 50 мг, 28 шт.',\n  'medsis_ids': [2679, 25888]},\n {'ID': 465199,\n  'NAME': 'Синекод при сухом кашле, сироп 1.5 мг/мл, 100 мл',\n  'medsis_ids': [2989, 231]},\n {'ID': 465223,\n  'NAME': 'Коапровель, таблетки 300/25 мг, 28 шт.',\n  'medsis_ids': [947, 29909]},\n {'ID': 465230,\n  'NAME': 'Вольтарен Эмульгель при боли в спине, мышцах и суставах, гель 1%, 100 г',\n  'medsis_ids': [1974, 1975]},\n {'ID': 465247,\n  'NAME': 'Энкорат хроно, таблетки 500 мг, 30 шт.',\n  'medsis_ids': [37986, 37985]},\n {'ID': 465248,\n  'NAME': 'Комбилипен табс таблетки покрыт.плен.об., 30 шт.',\n  'medsis_ids': [90, 731]},\n {'ID': 465267,\n  'NAME': 'Оциллококцинум гранулы гомеопатические, 12 шт.',\n  'medsis_ids': [2037, 27615]},\n {'ID': 465291,\n  'NAME': 'Доппельгерц Актив глюкозамин+хондроитин, капсулы, 30 шт.',\n  'medsis_ids': [3077, 3075, 2731, 37182, 3020]},\n {'ID': 465300,\n  'NAME': 'Доппельгерц Актив Гинкго Билоба+витамины группы В, таблетки, 30 шт.',\n  'medsis_ids': [27342, 1102]},\n {'ID': 465302,\n  'NAME': 'Фосфоглив форте капсулы, 50 шт.',\n  'medsis_ids': [783, 784]},\n {'ID': 465306,\n  'NAME': 'Ондансетрон-Альтфарм, свечи ректальные 16 мг, 2 шт.',\n  'medsis_ids': [32736, 3404]},\n {'ID': 465312,\n  'NAME': 'Изопринозин, таблетки 500 мг 30 шт.',\n  'medsis_ids': [28950, 312]},\n {'ID': 465317,\n  'NAME': 'Кардосал 10, таблетки 10 мг, 28 шт.',\n  'medsis_ids': [29550, 1222, 29551]},\n {'ID': 465318,\n  'NAME': 'Кардосал 20, таблетки 20 мг, 28 шт.',\n  'medsis_ids': [29550, 1222, 29552]},\n {'ID': 465319,\n  'NAME': 'Кардосал 40, таблетки 40 мг, 28 шт.',\n  'medsis_ids': [29550, 1222, 29553]},\n {'ID': 465320,\n  'NAME': 'Тримектал МВ, таблетки 35 мг, 60 шт.',\n  'medsis_ids': [36120, 400]},\n {'ID': 465343,\n  'NAME': 'Катеджель с лидокаином гель для местного применения 12,5 г шприц, 25 шт.',\n  'medsis_ids': [30652, 29596, 29597]},\n {'ID': 465350,\n  'NAME': 'Ко-Перинева, таблетки 0,625+2 мг, 30 шт',\n  'medsis_ids': [1469, 1264, 29899]},\n {'ID': 465351,\n  'NAME': 'Ко-Перинева, таблетки 1,25+4 мг, 30 шт',\n  'medsis_ids': [1469, 1264, 29899]},\n {'ID': 465352,\n  'NAME': 'Ко-Перинева, таблетки 2,5+8 мг, 30 шт',\n  'medsis_ids': [1469, 1264, 29899]},\n {'ID': 465354,\n  'NAME': 'Леркамен 10, таблетки 10 мг, 28 шт.',\n  'medsis_ids': [1320, 30592]},\n {'ID': 465356,\n  'NAME': 'Д-Пантенол, крем 5 %  50 г',\n  'medsis_ids': [1804, 1873]},\n {'ID': 465366,\n  'NAME': 'Экватор, таблетки 5+10 мг, 30 шт.',\n  'medsis_ids': [25390, 489]},\n {'ID': 465375,\n  'NAME': 'Граммидин Нео, таблетки, 18 шт.',\n  'medsis_ids': [206, 27601]},\n {'ID': 465376,\n  'NAME': 'Граммидин Нео с анестетиком, таблетки, 18 шт.',\n  'medsis_ids': [206, 27601]},\n {'ID': 465380, 'NAME': 'Акридерм ГК, мазь, 15 г', 'medsis_ids': [1739, 907]},\n {'ID': 465381, 'NAME': 'Акридерм ГК, мазь, 30 г', 'medsis_ids': [1739, 907]},\n {'ID': 465397,\n  'NAME': 'Супрастинекс, таблетки покрыт.плен.об. 5 мг 14 шт.',\n  'medsis_ids': [58, 59]},\n {'ID': 465398,\n  'NAME': 'Супрастинекс, таблетки покрыт.плен.об. 5 мг 7 шт.',\n  'medsis_ids': [58, 59]},\n {'ID': 465405,\n  'NAME': 'Лактазар для детей, капсулы 700 ед, 100 шт.',\n  'medsis_ids': [1300, 1301]},\n {'ID': 465406,\n  'NAME': 'Лактазар для детей, капсулы 700 ед, 50 шт.',\n  'medsis_ids': [1300, 1301]},\n {'ID': 465411,\n  'NAME': 'Пантогам Актив, капсулы 300 мг, 60 шт.',\n  'medsis_ids': [33033, 114]},\n {'ID': 465421,\n  'NAME': 'Ципролет А, таблетки покрыт.плен.об. 600 мг+500 мг 10 шт.',\n  'medsis_ids': [1690, 2048]},\n {'ID': 465436,\n  'NAME': 'Тримектал МВ, таблетки 35 мг, 120 шт.',\n  'medsis_ids': [36120, 400]},\n {'ID': 465439,\n  'NAME': 'Акридерм Гента, мазь, 15 г',\n  'medsis_ids': [908, 907]},\n {'ID': 465440,\n  'NAME': 'Акридерм Гента, мазь, 30 г',\n  'medsis_ids': [908, 907]},\n {'ID': 465446,\n  'NAME': 'Ко-Эксфорж, таблетки 10 мг+160 мг+12,5 мг, 28 шт.',\n  'medsis_ids': [29901, 1711]},\n {'ID': 465447,\n  'NAME': 'Ко-Эксфорж, таблетки 5 мг+160 мг+12,5 мг, 28 шт.',\n  'medsis_ids': [29901, 1711]},\n {'ID': 465481,\n  'NAME': 'Кампто ЦС конц. для приг. р-ра для инфузий флаконы 20 мг/мл 5 мл флаконы, 1 шт.',\n  'medsis_ids': [29378, 29379]},\n {'ID': 465494,\n  'NAME': 'Ксефокам рапид, таблетки покрыт.плен.об. 8 мг, 12 шт.',\n  'medsis_ids': [30244, 358]},\n {'ID': 465503,\n  'NAME': 'Ксимелин Эко Ментол, спрей назальный 140 мкг/доза 10 мл',\n  'medsis_ids': [280, 279]},\n {'ID': 465524,\n  'NAME': 'Аква Марис Стронг спрей назальный, 30 мл',\n  'medsis_ids': [2014, 24392]},\n {'ID': 465543,\n  'NAME': 'Отривин Детский спрей назальный 0,05%, 10 мл',\n  'medsis_ids': [286, 2063]},\n {'ID': 465557,\n  'NAME': 'Стоматофит А, флакон, 25 мл',\n  'medsis_ids': [35175, 1573]},\n {'ID': 465560,\n  'NAME': 'Энзистал-П таблетки покрыт.кишечнораств.об., 20 шт.',\n  'medsis_ids': [724, 774]},\n {'ID': 465590,\n  'NAME': 'Тербинафин-Тева, таблетки 250 мг 28 шт.',\n  'medsis_ids': [2675, 1913, 1002]},\n {'ID': 465594,\n  'NAME': 'Кленил УДВ, ампулы 800 мкг/2 мл, 20 шт.',\n  'medsis_ids': [29798, 29799]},\n {'ID': 465627,\n  'NAME': 'Масло репейное Прополис, 100',\n  'medsis_ids': [1499, 33150]},\n {'ID': 465654,\n  'NAME': 'Амарил М, таблетки 2+500 мг, 30 шт.',\n  'medsis_ids': [2, 24714]},\n {'ID': 465668,\n  'NAME': 'Турбослим Альфа-липоевая кислота и L-карнитин, таблетки, 20 шт.',\n  'medsis_ids': [29569, 3381, 24687, 1603]},\n {'ID': 465669,\n  'NAME': 'Хитозан Эвалар, таблетки, 100 шт.',\n  'medsis_ids': [1661, 37711]},\n {'ID': 465674,\n  'NAME': 'Коллаген Ультра плюс Глюкозамин, пакетики 8 г, 7 шт. вишня',\n  'medsis_ids': [2731, 29974, 3020]},\n {'ID': 465678,\n  'NAME': 'Комбилипен табс таблетки покрыт.плен.об., 60 шт.',\n  'medsis_ids': [90, 731]},\n {'ID': 465688,\n  'NAME': 'Полижинакс Вирго, эмульсия интравагинальная, 6 шт.',\n  'medsis_ids': [1486, 1881]},\n {'ID': 465731,\n  'NAME': 'ГХК (Глюкозамин Хондроитин комплекс) капсулы 0,32 г, 90 шт.',\n  'medsis_ids': [3077, 3075, 2731, 37182, 3020]},\n {'ID': 465745,\n  'NAME': 'Гинофлор Э, таблетки вагинальные 6 шт.',\n  'medsis_ids': [3506, 32882]},\n {'ID': 465747,\n  'NAME': 'Компливит Кальций Д3 форте, таблетки жевательные мятные, 100 шт.',\n  'medsis_ids': [30019, 108, 1826]},\n {'ID': 465748,\n  'NAME': 'Компливит Кальций Д3 форте, таблетки жевательные мятные, 30 шт.',\n  'medsis_ids': [30019, 108, 1826]},\n {'ID': 465753,\n  'NAME': 'Тербинафин-Тева, таблетки 250 мг 14 шт.',\n  'medsis_ids': [2675, 1913, 1002]},\n {'ID': 465754,\n  'NAME': 'Цинокап, крем 0,2%, 25 г',\n  'medsis_ids': [31883, 1689]},\n {'ID': 465758,\n  'NAME': 'Нолипрел А Би-форте, таблетки 10+2,5 мг 30 шт.',\n  'medsis_ids': [425, 420, 32413]},\n {'ID': 465760,\n  'NAME': 'Бисопролол-Тева, таблетки покрыт.плен.об. 5 мг 50 шт.',\n  'medsis_ids': [25983, 2803]},\n {'ID': 465761,\n  'NAME': 'Бисопролол-Тева, таблетки покрыт.плен.об. 10 мг 50 шт.',\n  'medsis_ids': [25983, 2803]},\n {'ID': 465773,\n  'NAME': 'Алерана стимулятор роста ресниц 2 формулы День и Ночь, 2х6 мл',\n  'medsis_ids': [912, 911]},\n {'ID': 465856,\n  'NAME': 'Амлодипин-Тева, таблетки 5 мг 30 шт.',\n  'medsis_ids': [931, 443]},\n {'ID': 465857,\n  'NAME': 'Амлодипин-Тева, таблетки 10 мг 30 шт.',\n  'medsis_ids': [931, 443]},\n {'ID': 465858,\n  'NAME': 'Кларитромицин-Тева, таблетки покрыт.плен.об. 500 мг 14 шт.',\n  'medsis_ids': [1238, 1239]},\n {'ID': 465859,\n  'NAME': 'Кларитромицин-Тева, таблетки покрыт.плен.об. 500 мг 10 шт.',\n  'medsis_ids': [1238, 1239]},\n {'ID': 465860,\n  'NAME': 'Флуконазол-Тева, капсулы 150 мг 1 шт.',\n  'medsis_ids': [36737, 1937, 1936, 285]},\n {'ID': 465861,\n  'NAME': 'Левофлоксацин-Тева, таблетки покрыт.плен.об. 500 мг 7 шт.',\n  'medsis_ids': [2348, 837, 32883, 30532, 32882, 644, 30518]},\n {'ID': 465862,\n  'NAME': 'Левофлоксацин-Тева, таблетки покрыт.плен.об. 500 мг 14 шт.',\n  'medsis_ids': [2348, 837, 32883, 30532, 32882, 644, 30518]},\n {'ID': 465863,\n  'NAME': 'Лозартан-Тева, таблетки покрыт.плен.об. 50 мг 30 шт.',\n  'medsis_ids': [30821, 2871]},\n {'ID': 465864,\n  'NAME': 'Бисопролол-Тева, таблетки покрыт.плен.об. 5 мг 30 шт.',\n  'medsis_ids': [25983, 2803]},\n {'ID': 465865,\n  'NAME': 'Бисопролол-Тева, таблетки покрыт.плен.об. 10 мг 30 шт.',\n  'medsis_ids': [25983, 2803]},\n {'ID': 465869,\n  'NAME': 'Хондроксид, гель 5%, 40 г',\n  'medsis_ids': [3075, 2010, 34414, 37182]},\n {'ID': 465870,\n  'NAME': 'Коплавикс таблетки покрыт.плен.об. 100 мг+75 мг, 28 шт.',\n  'medsis_ids': [440, 875]},\n {'ID': 465897,\n  'NAME': 'Клопидогрел-Тева, таблетки покрыт.плен.об. 75 мг 28 шт.',\n  'medsis_ids': [29866, 2849, 33310]},\n {'ID': 465977,\n  'NAME': 'Метформин-Тева, таблетки покрыт.плен.об. 850 мг 60 шт.',\n  'medsis_ids': [3047, 31465]},\n {'ID': 466085,\n  'NAME': 'Глицин Форте, таблетки 300 мг 20 шт.',\n  'medsis_ids': [1112, 2022]},\n {'ID': 466087,\n  'NAME': 'Клензит-С, гель, 30 г',\n  'medsis_ids': [1242, 3541, 1241]},\n {'ID': 466089,\n  'NAME': 'Клензит-С, гель, 15 г',\n  'medsis_ids': [1242, 3541, 1241]},\n {'ID': 466144,\n  'NAME': 'КардиАСК таблетки покрыт.киш-раств.плен.об. 50 мг, 60 шт.',\n  'medsis_ids': [1218, 29520]},\n {'ID': 466145,\n  'NAME': 'КардиАСК таблетки покрыт.киш-раств.плен.об.100 мг, 60 шт.',\n  'medsis_ids': [1218, 29520]},\n {'ID': 466165,\n  'NAME': 'Аква Марис Плюс, спрей, 30 мл',\n  'medsis_ids': [2014, 24391]},\n {'ID': 466172,\n  'NAME': 'Генферон Лайт спрей назальный дозированный, 50 тыс.ме+1мг/доза флакон 100 доз',\n  'medsis_ids': [2021, 1090]},\n {'ID': 466173,\n  'NAME': 'Домперидон-Тева, таблетки покрыт.плен.об. 10 мг 30 шт.',\n  'medsis_ids': [3359, 28307]},\n {'ID': 466193,\n  'NAME': 'Анализатор крови EasyTouch, глюкоза, холестерин, гемоглобин',\n  'medsis_ids': [25390, 3020]},\n {'ID': 466253,\n  'NAME': 'Аспаркам-L, ампулы 5 мл, 10 шт.',\n  'medsis_ids': [469, 25319]},\n {'ID': 466279,\n  'NAME': 'Билобил форте, капсулы 80 мг, 60 шт.',\n  'medsis_ids': [122, 1001]},\n {'ID': 466280, 'NAME': 'Офломелид, мазь, 30 г', 'medsis_ids': [2363, 32882]},\n {'ID': 466281,\n  'NAME': 'Фламакс форте, таблетки 100 мг, 20 шт.',\n  'medsis_ids': [2787, 36694]},\n {'ID': 466304,\n  'NAME': 'Ко-Перинева, таблетки 1,25+4 мг, 90 шт',\n  'medsis_ids': [1469, 1264, 29899]},\n {'ID': 466305,\n  'NAME': 'Ко-Перинева, таблетки 2,5+8 мг, 90 шт',\n  'medsis_ids': [1469, 1264, 29899]},\n {'ID': 466307,\n  'NAME': 'Орсотен Слим, капсулы 60 мг, 84 шт.',\n  'medsis_ids': [1443, 615]},\n {'ID': 466308,\n  'NAME': 'Орсотен Слим, капсулы 60 мг, 42 шт.',\n  'medsis_ids': [1443, 615]},\n {'ID': 466310,\n  'NAME': 'Дорзопт Плюс глазные капли 20 мг/мл+5 мг/мл, 5 мл',\n  'medsis_ids': [28343, 251]},\n {'ID': 466330,\n  'NAME': 'Сероквель пролонг, таблетки 400 мг, 60 шт.',\n  'medsis_ids': [2135, 34774]},\n {'ID': 466355,\n  'NAME': 'Глюкофаж Лонг таблетки 500 мг, 30 шт.',\n  'medsis_ids': [5, 6]},\n {'ID': 466356,\n  'NAME': 'Глюкофаж Лонг таблетки 500 мг, 60 шт.',\n  'medsis_ids': [5, 6]},\n {'ID': 466357,\n  'NAME': 'Глюкофаж Лонг таблетки 750 мг, 60 шт.',\n  'medsis_ids': [5, 6]},\n {'ID': 466358,\n  'NAME': 'Глюкофаж Лонг таблетки 750 мг, 30 шт.',\n  'medsis_ids': [5, 6]},\n {'ID': 466359,\n  'NAME': 'Золадекс, капсула для п/к.вв.пролонг 10.8мг шприц-аппликатор',\n  'medsis_ids': [25390, 2689]},\n {'ID': 466383,\n  'NAME': 'Пантенол Фармстандарт аэрозоль 5%, 58 г',\n  'medsis_ids': [33028, 1873]},\n {'ID': 466414,\n  'NAME': 'Солпадеин Фаст таблетки покрыт.плен.об. 65 мг+500 мг, 12 шт.',\n  'medsis_ids': [342, 346]},\n {'ID': 466424,\n  'NAME': 'Корилип-НЕО, свечи ректальные, 10 шт.',\n  'medsis_ids': [30103, 3036]},\n {'ID': 466448,\n  'NAME': 'Маример форте, аэрозоль назальный 100 мл',\n  'medsis_ids': [2985, 31104]},\n {'ID': 466449,\n  'NAME': 'Будесонид изихейлер, порошок для ингаляций 200 мкг/доза, 200 доз',\n  'medsis_ids': [26224, 3094]},\n {'ID': 466500,\n  'NAME': 'Роксера таблетки покрыт плен.об. 20 мг, 30 шт.',\n  'medsis_ids': [34755, 1531]},\n {'ID': 466501,\n  'NAME': 'Роксера таблетки покрыт плен.об. 10 мг, 30 шт.',\n  'medsis_ids': [34755, 1531]},\n {'ID': 466502,\n  'NAME': 'Роксера таблетки покрыт плен.об. 5 мг, 30 шт.',\n  'medsis_ids': [34755, 1531]},\n {'ID': 466503,\n  'NAME': 'Роксера таблетки покрыт плен.об. 15 мг, 30 шт.',\n  'medsis_ids': [34755, 1531]},\n {'ID': 466507,\n  'NAME': 'Веро-Флударабин лиофилизат д/приг р-ра для в/в введен., 50 мг флакон 1 шт.',\n  'medsis_ids': [36737, 26641, 36742, 36744]},\n {'ID': 466522,\n  'NAME': 'Пропофол, флаконы 20 мг/мл , 50 мл',\n  'medsis_ids': [33597, 33759]},\n {'ID': 466525,\n  'NAME': 'Селмевит Интенсив, таблетки, 60 шт.',\n  'medsis_ids': [1897, 34720]},\n {'ID': 466528,\n  'NAME': 'Алерана спрей, флаконы 2%, 60 мл',\n  'medsis_ids': [912, 911]},\n {'ID': 466529,\n  'NAME': 'Алерана спрей, флаконы 5%, 60 мл',\n  'medsis_ids': [912, 911]},\n {'ID': 466530,\n  'NAME': 'Артрозан р-р для в/мыш. введ. 6 мг/мл 2,5 мл ампулы, 10 шт.',\n  'medsis_ids': [349, 953]},\n {'ID': 466543,\n  'NAME': 'Активтекс ХФ Салфетка, хлоргексидин и фурагин, 10х10 см, 10 шт.',\n  'medsis_ids': [705, 2438]},\n {'ID': 466545,\n  'NAME': 'Золадекс, капсула для п/к.вв.прол.д-я 3.6мг шприц-аппликатор',\n  'medsis_ids': [25390, 2689]},\n {'ID': 466546,\n  'NAME': 'Активтекс АКФ Салфетка, аминокапроновая кислота и фурагин, 10х10 см',\n  'medsis_ids': [31883, 3137, 705]},\n {'ID': 466547,\n  'NAME': 'Хондрогард, ампулы 100 мг/мл, 1 мл, 10 шт',\n  'medsis_ids': [3075, 3076, 37182]},\n {'ID': 466550,\n  'NAME': 'Мирапекс ПД, таблетки 1,5 мг, 30 шт.',\n  'medsis_ids': [31604, 1376]},\n {'ID': 466551,\n  'NAME': 'Мирапекс ПД, таблетки 3 мг, 30 шт.',\n  'medsis_ids': [31604, 1376]},\n {'ID': 466576,\n  'NAME': 'Финастерид-OBL, таблетки покрыт.плен.об. 5 мг 30 шт.',\n  'medsis_ids': [534, 535, 36651]},\n {'ID': 466585,\n  'NAME': 'Изопринозин, таблетки 500 мг 20 шт.',\n  'medsis_ids': [28950, 312]},\n {'ID': 466587,\n  'NAME': 'Кардионат, р-р для инъекций 100мг/мл 5 мл ампулы 10 шт.',\n  'medsis_ids': [1221, 392]},\n {'ID': 466596,\n  'NAME': 'Мелоксикам-Тева, таблетки 15 мг 10 шт.',\n  'medsis_ids': [1359, 1842, 31219]},\n {'ID': 466597,\n  'NAME': 'Нейродикловит, капсулы с модифицированным высвобождением 30 шт',\n  'medsis_ids': [1799, 362]},\n {'ID': 466599,\n  'NAME': 'Проктонис капсулы 0,27 г, 60 шт.',\n  'medsis_ids': [2081, 1495]},\n {'ID': 466601,\n  'NAME': 'Супрастинекс, капли для приема внутрь 5 мг/мл 20 мл',\n  'medsis_ids': [58, 59]},\n {'ID': 466603,\n  'NAME': 'Флуомизин, таблетки вагинальные 10 мг 6 шт.',\n  'medsis_ids': [36737, 2435]},\n {'ID': 466610,\n  'NAME': 'Артрадол, ампулы 100 мг, 10 шт.',\n  'medsis_ids': [739, 2261]},\n {'ID': 466632, 'NAME': 'Проктонис крем, 30 мл', 'medsis_ids': [2081, 1495]},\n {'ID': 466633,\n  'NAME': 'Кларбакт, таблетки 500 мг, 10 шт.',\n  'medsis_ids': [29752, 1237]},\n {'ID': 466638,\n  'NAME': 'Локоид Липокрем, крем 0,1%, 30 г',\n  'medsis_ids': [1332, 30826]},\n {'ID': 466640,\n  'NAME': 'Артрозан р-р для в/мыш. введ. 6 мг/мл 2,5 мл ампулы, 3 шт.',\n  'medsis_ids': [349, 953]},\n {'ID': 466645,\n  'NAME': '7 Нот Здоровья Бадяга форте гель от синяков, 75 мл',\n  'medsis_ids': [1080, 1081, 25569]},\n {'ID': 466695,\n  'NAME': 'Хартил-Д, таблетки 5 мг+25 мг 28 шт.',\n  'medsis_ids': [37059, 486]},\n {'ID': 466722,\n  'NAME': 'Шиповника плоды, фильтрпакетики 2 г, 20 шт.',\n  'medsis_ids': [37668, 1957, 1703]},\n {'ID': 466738,\n  'NAME': 'Страна Здравландия Зайчонок сироп успокаивающий, для детей с 3 лет флакон 100 мл',\n  'medsis_ids': [31883, 2989]},\n {'ID': 466746,\n  'NAME': 'Пародонтоцид, флакон, 25 мл',\n  'medsis_ids': [33117, 32924]},\n {'ID': 466757,\n  'NAME': 'Доктор Тайсс леденцы шалфей и лимонная мелисса, с витамином с, 50 г',\n  'medsis_ids': [2998, 2557]},\n {'ID': 466766,\n  'NAME': 'Глицин форте таблетки 250 мг, 30 шт.',\n  'medsis_ids': [1112, 2022]},\n {'ID': 466769,\n  'NAME': 'Диазолин, таблетки 50 мг, 10 шт.',\n  'medsis_ids': [49, 2335]},\n {'ID': 466771,\n  'NAME': 'Карведилол-Тева, таблетки 6,25 мг 30 шт.',\n  'medsis_ids': [29514, 475]},\n {'ID': 466772,\n  'NAME': 'Карведилол-Тева, таблетки 25 мг 30 шт.',\n  'medsis_ids': [29514, 475]},\n {'ID': 466773,\n  'NAME': 'ВоскоПран Повязка с мазью левомеколь 7,5х5 см, 5 шт.',\n  'medsis_ids': [1985, 3248]},\n {'ID': 466775,\n  'NAME': 'ВоскоПран Повязка с мазью левомеколь 10х10 см, 30 шт.',\n  'medsis_ids': [1985, 3248]},\n {'ID': 466776,\n  'NAME': 'ВоскоПран Повязка с мазью метилурацила 10х10 см, 30 шт.',\n  'medsis_ids': [1367, 3248, 1844]},\n {'ID': 466777,\n  'NAME': 'ВоскоПран Повязка с мазью метилурацила 7,5х5 см, 5 шт.',\n  'medsis_ids': [1367, 3248, 1844]},\n {'ID': 466781,\n  'NAME': 'Карведилол-Тева, таблетки 12,5 мг 30 шт.',\n  'medsis_ids': [29514, 475]},\n {'ID': 466786,\n  'NAME': 'Ибуклин Юниор, таблетки диспергируемые 100 мг+125 мг 20 шт.',\n  'medsis_ids': [343, 28659]},\n {'ID': 466811,\n  'NAME': 'Мирапекс ПД, таблетки 0,375 мг, 10 шт.',\n  'medsis_ids': [31604, 1376]},\n {'ID': 466825,\n  'NAME': 'Ми-Ми-Мишки Аскорбинка детская аскорбиновая кислота с сахаром 2,9 г крутка, 10 шт.',\n  'medsis_ids': [25289, 1747]},\n {'ID': 466865,\n  'NAME': 'ТераФлю Экстра от гриппа и простуды, порошок со вкусом лимона, 10 пак.',\n  'medsis_ids': [2993, 301]},\n {'ID': 466879,\n  'NAME': 'Шалфей Эвалар, таблетки, 20 шт.',\n  'medsis_ids': [2998, 37711]},\n {'ID': 466884,\n  'NAME': 'Кеторолак Ромфарм р-р для в/вен. и в/мыш. введ. 30 мг/мл 1 мл ампулы, 10 шт.',\n  'medsis_ids': [29702, 35970, 2066, 2745]},\n {'ID': 466891,\n  'NAME': 'Солгар Глюкозамин-Хондроитин Плюс, капсулы 75 шт.',\n  'medsis_ids': [3077, 3075, 2731, 37182, 3020]},\n {'ID': 466902,\n  'NAME': 'Солгар Альфа-липоевая кислота, капсулы, 30 шт.',\n  'medsis_ids': [3381, 24687]},\n {'ID': 466912,\n  'NAME': 'Солгар Джентал Айрон, легкодоступное железо капсулы 90 шт.',\n  'medsis_ids': [28449, 27929]},\n {'ID': 466927, 'NAME': 'Урокам, сироп, 100 мл', 'medsis_ids': [2989, 36340]},\n {'ID': 466930,\n  'NAME': 'Плагрил, таблетки покрыт.плен.об. 75 мг 30 шт.',\n  'medsis_ids': [2486, 2905]},\n {'ID': 466934,\n  'NAME': 'Алерана Шампунь активатор роста, для мужчин, 250 мл',\n  'medsis_ids': [25390, 912, 911]},\n {'ID': 466936,\n  'NAME': 'Маример Аспиратор, детский, назальный',\n  'medsis_ids': [2985, 25390]},\n {'ID': 466949,\n  'NAME': 'Турбослим Альфа-липоевая кислота и L-карнитин, таблетки, 60 шт',\n  'medsis_ids': [29569, 3381, 24687, 1603]},\n {'ID': 466960,\n  'NAME': 'Доктор Тайсс Анги Септ таблетки для рассасывания шалфей, 24 шт.',\n  'medsis_ids': [2998, 28266]},\n {'ID': 466971,\n  'NAME': 'Сенадексин, таблетки, 20 шт.',\n  'medsis_ids': [2101, 818]},\n {'ID': 466999,\n  'NAME': 'Индапамид-Тева, таблетки покрыт.плен.об. 2,5 мг 30 шт.',\n  'medsis_ids': [828, 32984, 423, 421]},\n {'ID': 467032,\n  'NAME': 'Фитоседан №2 успокоительный сбор, пачка, 50 г',\n  'medsis_ids': [36685, 36390]},\n {'ID': 467042,\n  'NAME': 'Жабий камень гель для ног активирующий с глюкозамином, 30 г',\n  'medsis_ids': [2731, 3020]},\n {'ID': 467061,\n  'NAME': 'Оксалиплатин-Эбеве, флакон, 100 мг',\n  'medsis_ids': [32562, 32569]},\n {'ID': 467073,\n  'NAME': 'Тербинафин МФФ, мазь 1%, 15 г',\n  'medsis_ids': [2675, 1002]},\n {'ID': 467084,\n  'NAME': 'Систейн Баланс, глазные капли , 10 мл',\n  'medsis_ids': [25614, 274]},\n {'ID': 467088,\n  'NAME': 'Мемантин Канон таблетки покрыт.плен.об. 10 мг, 90 шт.',\n  'medsis_ids': [31253, 31252]},\n {'ID': 467090,\n  'NAME': 'Лефлуномид Канон таблетки покрыт.плен.об. 20 мг, 30 шт.',\n  'medsis_ids': [36737, 30619, 30620]},\n {'ID': 467091,\n  'NAME': 'Лефлуномид Канон таблетки покрыт.плен.об. 10 мг 30 шт, 30 шт.',\n  'medsis_ids': [36737, 30619, 30620]},\n {'ID': 467093,\n  'NAME': 'Галантамин Канон таблетки покрыт.плен.об. 8 мг, 56 шт',\n  'medsis_ids': [3185, 26989]},\n {'ID': 467094,\n  'NAME': 'Галантамин Канон таблетки покрыт.плен.об. 4 мг, 14 шт.',\n  'medsis_ids': [3185, 26989]},\n {'ID': 467095,\n  'NAME': 'Галантамин Канон таблетки покрыт.плен.об.12 мг, 56 шт',\n  'medsis_ids': [3185, 26989]},\n {'ID': 467102,\n  'NAME': 'Экспортал, пакетики 10 г, 10 шт.',\n  'medsis_ids': [3258, 812]},\n {'ID': 467107,\n  'NAME': 'Аторис, таблетки 30 мг, 30 шт.',\n  'medsis_ids': [25390, 378]},\n {'ID': 467113,\n  'NAME': 'Ярина Плюс, таблетки, 84 шт.',\n  'medsis_ids': [197, 766]},\n {'ID': 467114,\n  'NAME': 'Ярина Плюс, таблетки, 28 шт.',\n  'medsis_ids': [197, 766]},\n {'ID': 467117,\n  'NAME': 'Джес Плюс таблетки покрыт.плен.об., 28 шт.',\n  'medsis_ids': [765, 175]},\n {'ID': 467119,\n  'NAME': 'Зилаксера, таблетки 30 мг, 28 шт.',\n  'medsis_ids': [34755, 28557]},\n {'ID': 467120,\n  'NAME': 'Зилаксера, таблетки 10 мг, 28 шт.',\n  'medsis_ids': [34755, 28557]},\n {'ID': 467121,\n  'NAME': 'Зилаксера, таблетки 15 мг, 28 шт.',\n  'medsis_ids': [34755, 28557]},\n {'ID': 467124,\n  'NAME': 'Бифидумбактерин форте, капсулы 5 доз , 10 шт.',\n  'medsis_ids': [843, 1767]},\n {'ID': 467129,\n  'NAME': 'Леркамен 10, таблетки 10 мг, 60 шт.',\n  'medsis_ids': [1320, 30592]},\n {'ID': 467130,\n  'NAME': 'Леркамен 20, таблетки 20 мг, 60 шт.',\n  'medsis_ids': [1320, 30593]},\n {'ID': 467136,\n  'NAME': 'Финастерид-Тева, таблетки покрыт.плен.об. 5 мг 30 шт.',\n  'medsis_ids': [534, 535, 36652]},\n {'ID': 467139,\n  'NAME': 'Элицея Ку-таб таблетки диспергируемые 10 мг, 56 шт.',\n  'medsis_ids': [3322, 37878]},\n {'ID': 467182,\n  'NAME': 'Солгар Витамин С и Шиповник, таблетки, 100 шт.',\n  'medsis_ids': [1957, 1703]},\n {'ID': 467186,\n  'NAME': 'Солгар Комплекс основных аминокислот, капсулы, 30 шт.',\n  'medsis_ids': [31883, 1429]},\n {'ID': 467268,\n  'NAME': 'Заласта Ку-таб, таблетки для рассасывания 5 мг, 28 шт.',\n  'medsis_ids': [2089, 28489]},\n {'ID': 467269,\n  'NAME': 'Заласта Ку-таб, таблетки для рассасывания 10 мг, 28 шт.',\n  'medsis_ids': [2089, 28489]},\n {'ID': 467282,\n  'NAME': 'Солгар Глюкозамин Хондроитин Комплекс, таблетки, 60 шт.',\n  'medsis_ids': [3077, 3075, 2731, 37182, 3020]},\n {'ID': 467284,\n  'NAME': 'Трентал 400 таблетки пролонг д-вия покрыт плен.об. 400 мг, 60 шт.',\n  'medsis_ids': [36056, 1596]},\n {'ID': 467285,\n  'NAME': 'Иммуноро Кедрион лиоф.д/приг. р-ра для в/м введ.300 мкг (1500МЕ) фл с р-лем (вода д/инъекций), 1 шт.',\n  'medsis_ids': [2751, 28857]},\n {'ID': 467291,\n  'NAME': 'Хондроксид Максимум, крем 8%, 50 г',\n  'medsis_ids': [3075, 37194, 2010, 34414, 37182]},\n {'ID': 467294,\n  'NAME': 'ТераФлю от гриппа и простуды, порошок, со вкусом лимона, 4 пакетика',\n  'medsis_ids': [2993, 35645]},\n {'ID': 467328,\n  'NAME': 'Акатинол Мемантин, набор таблеток 5, 10, 15, 20 мг по 7 шт.',\n  'medsis_ids': [1738, 31252]},\n {'ID': 467346,\n  'NAME': 'Дентокинд, таблетки для рассасывания, 150 шт.',\n  'medsis_ids': [1429, 27870]},\n {'ID': 467347,\n  'NAME': 'Овесол Усиленная формула, таблетки, 20 шт.',\n  'medsis_ids': [1426, 1427]},\n {'ID': 467359,\n  'NAME': 'Чай Хипп Малина с шиповником, с 6 месяцев, 200 г',\n  'medsis_ids': [1957, 1703]},\n {'ID': 467360,\n  'NAME': 'Карсил Форте, капсулы 90 мг, 30 шт.',\n  'medsis_ids': [786, 582]},\n {'ID': 467382,\n  'NAME': 'Селенцин бальзам-ополаскиватель, hair therapy от выпадения волос, 200 мл',\n  'medsis_ids': [34711, 2490]},\n {'ID': 467383,\n  'NAME': 'Селенцин шампунь специализированный, hair therapy от выпадения волос, 200 мл',\n  'medsis_ids': [34711, 2490]},\n {'ID': 467384,\n  'NAME': 'Селенцин маска интенсивная, hair therapy от выпадения и ломкости волос, 150 мл',\n  'medsis_ids': [34711, 2490]},\n {'ID': 467385,\n  'NAME': 'Селенцин лосьон-спрей укрепляющий, hair therapy от выпадения волос 150 мл',\n  'medsis_ids': [34711, 2490]},\n {'ID': 467389,\n  'NAME': 'Селенцин, таблетки, 60 шт.',\n  'medsis_ids': [34711, 2490]},\n {'ID': 467393,\n  'NAME': 'Линкас Лор, пастилки мятные, 16 шт.',\n  'medsis_ids': [199, 30734]},\n {'ID': 467394,\n  'NAME': 'Линкас Лор, пастилки мед-лимон, 16 шт.',\n  'medsis_ids': [199, 30734]},\n {'ID': 467418,\n  'NAME': 'Роксера таблетки покрыт плен.об. 20 мг, 90 шт.',\n  'medsis_ids': [34755, 1531]},\n {'ID': 467419,\n  'NAME': 'Роксера таблетки покрыт плен.об. 10 мг, 90 шт.',\n  'medsis_ids': [34755, 1531]},\n {'ID': 467420,\n  'NAME': 'Роксера таблетки покрыт плен.об. 5 мг, 90 шт.',\n  'medsis_ids': [34755, 1531]},\n {'ID': 467421,\n  'NAME': 'Роксера таблетки покрыт плен.об. 15 мг, 90 шт.',\n  'medsis_ids': [34755, 1531]},\n {'ID': 467555,\n  'NAME': 'Атероклефит Био капсулы, 60 шт.',\n  'medsis_ids': [957, 956]},\n {'ID': 467557,\n  'NAME': 'Ацикловир Белупо таблетки покрыт. плен. об. 400 мг, 35 шт.',\n  'medsis_ids': [1755, 2658, 962]},\n {'ID': 467564,\n  'NAME': 'Бепантен плюс, крем, 100 г',\n  'medsis_ids': [1965, 1765]},\n {'ID': 467570,\n  'NAME': 'Биоритм Поливитамины, таблетки, 64 шт.',\n  'medsis_ids': [1007, 33541]},\n {'ID': 467577,\n  'NAME': 'Гроприносин, таблетки 500 мг, 20 шт.',\n  'medsis_ids': [1795, 2620]},\n {'ID': 467616,\n  'NAME': 'Нэйчес Баунти Витамин С и Шиповник, таблетки, 100 шт.',\n  'medsis_ids': [1957, 1703]},\n {'ID': 467649,\n  'NAME': 'СМОФкабивен центральный, контейнеры 1970 мл, 4 шт.',\n  'medsis_ids': [29230, 34524]},\n {'ID': 467740,\n  'NAME': 'Нурофен Экспресс Нео, таблетки 200 мг, 12 шт.',\n  'medsis_ids': [324, 32506, 1865]},\n {'ID': 467742,\n  'NAME': 'Називин Сенситив, спрей назальный 22,5 мкг/доза 10 мл',\n  'medsis_ids': [1395, 281]},\n {'ID': 467743,\n  'NAME': 'Називин Сенситив, спрей назальный 11,25 мкг/доза 10 мл',\n  'medsis_ids': [1395, 281]},\n {'ID': 467745,\n  'NAME': 'Панцеф, суспензия 100 мг/5 мл, 60 мл/32 г',\n  'medsis_ids': [25113, 820]},\n {'ID': 467829,\n  'NAME': 'Экватор, таблетки 5+20 мг, 30 шт.',\n  'medsis_ids': [25390, 489]},\n {'ID': 467861,\n  'NAME': 'Парацетамол Экстратаб 500 мг+150 мг таблетки, 10 шт.',\n  'medsis_ids': [24907, 33089, 2769, 1457]},\n {'ID': 467904,\n  'NAME': 'Диклофенак, капли глазные 0,1%, 5 мл',\n  'medsis_ids': [1136, 28046]},\n {'ID': 467930,\n  'NAME': 'Компливит Кальций Д3 для малышей, флакон, 43 г',\n  'medsis_ids': [30012, 108, 1826]},\n {'ID': 467933,\n  'NAME': 'Итраконазол капсулы 100 мг, 14 шт.',\n  'medsis_ids': [2663, 285]},\n {'ID': 467953,\n  'NAME': 'Гепарин-Акрихин 1000, гель, 30 г',\n  'medsis_ids': [27208, 2565]},\n {'ID': 467962,\n  'NAME': 'Триметазидин-Тева, таблетки покрыт.плен.об. 20 мг 60 шт.',\n  'medsis_ids': [36130, 36123, 2940, 36122, 31331]},\n {'ID': 467995,\n  'NAME': 'Толперизон-OBL, таблетки покрыт.плен.об. 150 мг 30 шт.',\n  'medsis_ids': [3292, 35921]},\n {'ID': 467996,\n  'NAME': 'Цетиризин ДС, таблетки 10 мг 10 шт.',\n  'medsis_ids': [63, 37295]},\n {'ID': 468022,\n  'NAME': 'Гидрокортизон Рихтер сусп д/внутрисуст.и околосуст введ 25мг+5мг/мл флакон 5 мл, 1 шт.',\n  'medsis_ids': [1790, 2519]},\n {'ID': 468030,\n  'NAME': 'Бифидумбактерин форте, капсулы 5 доз, 30 шт.',\n  'medsis_ids': [843, 1767]},\n {'ID': 468072,\n  'NAME': 'Пародонтоцид, спрей, 25 мл',\n  'medsis_ids': [33117, 32924]},\n {'ID': 468079,\n  'NAME': 'Токоферола ацетат (витамин Е), капсулы 0.1 г, 30 шт.',\n  'medsis_ids': [26868, 92]},\n {'ID': 468139,\n  'NAME': 'Супракс Солютаб, таблетки растворимые 400 мг, 7 шт.',\n  'medsis_ids': [633, 35346]},\n {'ID': 468144,\n  'NAME': 'Тамоксифен, таблетки 10 мг, 30 шт.',\n  'medsis_ids': [2700, 31666]},\n {'ID': 468148,\n  'NAME': 'Кларитромицин-OBL, таблетки покрыт.плен.об. 500 мг 14 шт.',\n  'medsis_ids': [29767, 1238]},\n {'ID': 468155,\n  'NAME': 'Диабефарм МВ таблетки с модиф.высв. 30 мг, 60 шт.',\n  'medsis_ids': [27944, 27945]},\n {'ID': 468170,\n  'NAME': 'Ринзасип с витамином С порошок для р-ра для приема внутрь Лимон 5 г саше, 5 шт.',\n  'medsis_ids': [299, 2987]},\n {'ID': 468171,\n  'NAME': 'Ринзасип с витамином С порошок для р-ра для приема внутрь Апельсин 5 г саше, 5 шт.',\n  'medsis_ids': [299, 2987]},\n {'ID': 468172,\n  'NAME': 'Ринзасип с витамином С порошок для р-ра для приема внутрь Черная смородина 5 г саше, 5 шт.',\n  'medsis_ids': [299, 2987]},\n {'ID': 468173,\n  'NAME': 'Ринзасип с витамином С порошок для р-ра для приема внутрь Лимон 5 г саше, 10 шт.',\n  'medsis_ids': [299, 2987]},\n {'ID': 468174,\n  'NAME': 'Ринзасип с витамином С порошок для р-ра для приема внутрь Апельсин 5 г саше, 10 шт.',\n  'medsis_ids': [299, 2987]},\n {'ID': 468175,\n  'NAME': 'Ринзасип с витамином С порошок для р-ра для приема внутрь Черная смородина 5 г саше, 10 шт.',\n  'medsis_ids': [299, 2987]},\n {'ID': 468188,\n  'NAME': 'Лесной бальзам Ополаскиватель прополис зверобой, 250 мл',\n  'medsis_ids': [28507, 1499]},\n {'ID': 468202,\n  'NAME': 'Систейн ультра, глазные капли, 15 мл',\n  'medsis_ids': [1554, 274]},\n {'ID': 468207,\n  'NAME': 'Ацикловир Белупо крем для наружного применения, 5% 5 г',\n  'medsis_ids': [1755, 2658, 962]},\n {'ID': 468263,\n  'NAME': 'Тиотриазолин, ампулы 25 мг/мл, 4 мл, 10 шт.',\n  'medsis_ids': [2934, 2335]},\n {'ID': 468267,\n  'NAME': 'Тербинафин крем 1%, 30 г',\n  'medsis_ids': [2675, 1002]},\n {'ID': 468269,\n  'NAME': 'Максиколд Рино, пакетики, со вкусом малины, 5 шт.',\n  'medsis_ids': [2198, 320]},\n {'ID': 468271,\n  'NAME': 'Максиколд Рино, пакетики, со вкусом малины, 10 шт.',\n  'medsis_ids': [2198, 320]},\n {'ID': 468272,\n  'NAME': 'Максиколд Рино, пакетики, со вкусом лимона, 5 шт.',\n  'medsis_ids': [2198, 320]},\n {'ID': 468273,\n  'NAME': 'Максиколд Рино, пакетики, со вкусом лимона, 10 шт.',\n  'medsis_ids': [2198, 320]},\n {'ID': 468274,\n  'NAME': 'Максиколд Рино, пакетики, со вкусом апельсина, 5 шт.',\n  'medsis_ids': [2198, 320]},\n {'ID': 468275,\n  'NAME': 'Максиколд Рино, пакетики, со вкусом апельсина, 10 шт.',\n  'medsis_ids': [2198, 320]},\n {'ID': 468276,\n  'NAME': 'Клималанин, таблетки, 30 шт.',\n  'medsis_ids': [1243, 3511]},\n {'ID': 468283,\n  'NAME': 'Клотримазол, мазь 1%, 15 г',\n  'medsis_ids': [1247, 1823]},\n {'ID': 468303,\n  'NAME': 'Mirrolla Шампунь от перхоти с кетоконазолом 2%, 150 мл',\n  'medsis_ids': [2665, 285]},\n {'ID': 468309,\n  'NAME': 'Декспантенол, мазь 5%, 25 г',\n  'medsis_ids': [3532, 1873]},\n {'ID': 468332,\n  'NAME': 'Ципрофлоксацин-АКОС, капли глазные 0,3%, 5 мл',\n  'medsis_ids': [32883, 32882, 644, 34466, 650, 37549]},\n {'ID': 468386,\n  'NAME': 'Софья крем глюкозамин-хондроитин комплекс, 75 мл',\n  'medsis_ids': [3077, 3075, 2731, 37182, 3020]},\n {'ID': 468525,\n  'NAME': 'Бинокрит р-р для в/в и п/к введ. 2000 МЕ/1мл шприцы, 6 шт.',\n  'medsis_ids': [31883, 25911]},\n {'ID': 468613,\n  'NAME': 'Чай Бабушкино Лукошко для кормящих матерей, с шиповником, фильтрпакетики, 1 г 20 шт.',\n  'medsis_ids': [1957, 1703]},\n {'ID': 468666, 'NAME': 'Кандидерм, крем, 15 г', 'medsis_ids': [2664, 3538]},\n {'ID': 468671,\n  'NAME': 'Перекись водорода буфус Renewal 3% тюбик-капельница 10 мл, 5 шт.',\n  'medsis_ids': [2425, 33244]},\n {'ID': 468704,\n  'NAME': 'Бадяга форте и Конский каштан, гель-бальзам, 85 мл',\n  'medsis_ids': [1080, 30040, 1081, 25569]},\n {'ID': 468796,\n  'NAME': 'Леводопа/Бенсеразид-Тева таблетки 200 мг+50 мг, 100 шт.',\n  'medsis_ids': [34755, 30469]},\n {'ID': 468812,\n  'NAME': '911 Бадяга, от синяков и ушибов, 100 мл',\n  'medsis_ids': [1080, 25569]},\n {'ID': 468815,\n  'NAME': 'Валериана форте, таблетки, 50 шт.',\n  'medsis_ids': [26400, 1775, 26399]},\n {'ID': 468831,\n  'NAME': 'Кетоконазол ДС, таблетки 200 мг 10 шт.',\n  'medsis_ids': [29676, 2665, 285]},\n {'ID': 468835,\n  'NAME': 'Благомин витамин B12 (цианокобаламин) капсулы 0,20 г, 90 шт.',\n  'medsis_ids': [31883, 26853, 37435, 26852]},\n {'ID': 468850,\n  'NAME': 'Чай Бабушкино Лукошко с шиповником, с 4 мес., фильтрпакетики 20 шт.',\n  'medsis_ids': [1957, 1703]},\n {'ID': 468873,\n  'NAME': 'Гинокомфорт гель Чайное дерево восстанавливающий, с аппликатором, 50 мл',\n  'medsis_ids': [31883, 25390]},\n {'ID': 468886, 'NAME': 'Кука сироп, 100', 'medsis_ids': [30279, 2989]},\n {'ID': 468897,\n  'NAME': 'Радевит Актив, мазь, 35 г',\n  'medsis_ids': [1511, 33947]},\n {'ID': 468899,\n  'NAME': 'Мидокалм-Рихтер раствор для в/вен и в/мыш введен 100 мг/мл+2.5 мг/мл 1 мл ампулы, 5 шт.',\n  'medsis_ids': [1847, 43]},\n {'ID': 468911,\n  'NAME': 'Кавинтон, ампулы 10 мг , 2 мл , 10 шт.',\n  'medsis_ids': [110, 1204]},\n {'ID': 468912,\n  'NAME': 'Кавинтон, таблетки 5 мг, 50 шт.',\n  'medsis_ids': [110, 1204]},\n {'ID': 468939,\n  'NAME': 'Декспантенол мазь 5%, 30 г',\n  'medsis_ids': [3532, 1873]},\n {'ID': 468954,\n  'NAME': 'Диклофенак-АКОС мазь для наружнего применения 1%, 30 г',\n  'medsis_ids': [1136, 28062, 28046]},\n {'ID': 468967,\n  'NAME': 'Нео-Пенотран форте Л, свечи вагинальные 750 мг+200 мг+100 мг 7 шт.',\n  'medsis_ids': [1858, 1859, 32135]},\n {'ID': 468989,\n  'NAME': 'Рибоксин буфус Renewal р-р для в/вен. введ. 2%  10 мл ампулы, 10 шт.',\n  'medsis_ids': [34236, 473]},\n {'ID': 468997,\n  'NAME': 'Гинокомфорт гель Мальва увлажняющий, с аппликатором, 50 мл',\n  'medsis_ids': [31883, 25390]},\n {'ID': 469003,\n  'NAME': 'Гексорал табс классик таблетки для рассасывания лимон, 16 шт.',\n  'medsis_ids': [27092, 205, 27091]},\n {'ID': 469004,\n  'NAME': 'Гексорал табс классик таблетки для рассасывания апельсин, 16 шт.',\n  'medsis_ids': [27092, 205, 27091]},\n {'ID': 469005,\n  'NAME': 'Гексорал табс классик таблетки для рассасывания черная смородина, 16 шт.',\n  'medsis_ids': [27092, 205, 27091]},\n {'ID': 469006,\n  'NAME': 'Гексорал табс классик таблетки для рассасывания лимон и мед, 16 шт.',\n  'medsis_ids': [27092, 205, 27091]},\n {'ID': 469011,\n  'NAME': 'Хондроитин и сабельник Натура Медика, гель-бальзам для суставов, 85 мл',\n  'medsis_ids': [3077, 3075, 37182]},\n {'ID': 469035,\n  'NAME': 'Амоксициллин Сандоз, таблетки покрыт.плен.об. 500 мг, 12 шт.',\n  'medsis_ids': [798, 31666, 24893]},\n {'ID': 469036,\n  'NAME': 'Амоксициллин Сандоз, таблетки покрыт.плен.об. 1 г, 12 шт.',\n  'medsis_ids': [798, 31666, 24893]},\n {'ID': 469052,\n  'NAME': 'Хонда Дринк, саше 12,8 г, 10 шт.',\n  'medsis_ids': [1664, 1665]},\n {'ID': 469061,\n  'NAME': 'Рыбий жир Биафишенол, с маслом шиповника и льна, капсулы 50 шт.',\n  'medsis_ids': [1957, 1703, 1534]},\n {'ID': 469080,\n  'NAME': 'ВоскоПран Повязка с мазью левомеколь 10х10 см, 10 шт.',\n  'medsis_ids': [1985, 3248]},\n {'ID': 469087,\n  'NAME': 'Конкор АМ, таблетки 5 мг+5 мг 30 шт.',\n  'medsis_ids': [30037, 2585]},\n {'ID': 469088,\n  'NAME': 'Конкор АМ, таблетки 5 мг+10 мг 30 шт.',\n  'medsis_ids': [30037, 2585]},\n {'ID': 469089,\n  'NAME': 'Конкор АМ, таблетки 10 мг+5 мг 30 шт.',\n  'medsis_ids': [30037, 2585]},\n {'ID': 469090,\n  'NAME': 'Конкор АМ, таблетки 10 мг+10 мг 30 шт.',\n  'medsis_ids': [30037, 2585]},\n {'ID': 469117,\n  'NAME': 'Лориста Н таблетки покрыт.плен.об 50 мг+12.5 мг, 90 шт.',\n  'medsis_ids': [502, 504]},\n {'ID': 469152,\n  'NAME': 'Токоферола ацетат (витамин Е), капсулы 0.1 г, 10 шт.',\n  'medsis_ids': [26868, 92]},\n {'ID': 469177,\n  'NAME': 'Индапамид, таблетки ретард 1,5 мг, 30 шт.',\n  'medsis_ids': [32984, 423, 421]},\n {'ID': 469188,\n  'NAME': 'Селемицин р-р для инфузий и в/м введ. флаконы 250 мг/мл 2 мл, 100 шт.',\n  'medsis_ids': [2751, 34710]},\n {'ID': 469200,\n  'NAME': 'Стрепсилс Интенсив, таблетки медово-лимонные, 24 шт.',\n  'medsis_ids': [35194, 213]},\n {'ID': 469212,\n  'NAME': 'Вербена Шиповник, леденцы, 60 г',\n  'medsis_ids': [1957, 1703]},\n {'ID': 469218,\n  'NAME': 'Диклофенак-АКОС гель, гель 5%, 30 г',\n  'medsis_ids': [1136, 28062, 28046]},\n {'ID': 469262,\n  'NAME': 'Ацикловир, мазь глазная 3% , 5 г',\n  'medsis_ids': [1755, 2658]},\n {'ID': 469284,\n  'NAME': 'Алерана шампунь д/жирных и комбинированных волос, флакон, 250 мл',\n  'medsis_ids': [912, 911]},\n {'ID': 469312,\n  'NAME': 'Тимолол-Акос, глазные капли 0,5%, 5 мл',\n  'medsis_ids': [1916, 35824, 35827]},\n {'ID': 469313,\n  'NAME': 'Тимолол-Акос, глазные капли 0,25%, 5 мл',\n  'medsis_ids': [1916, 35824, 35827]},\n {'ID': 469319,\n  'NAME': 'Бикалутамид Канон таблетки покрыт.плен.об. 50 мг, 30 шт.',\n  'medsis_ids': [2679, 25885]},\n {'ID': 469320,\n  'NAME': 'Бикалутамид Канон таблетки покрыт.плен.об. 150 мг, 30 шт.',\n  'medsis_ids': [2679, 25885]},\n {'ID': 469324,\n  'NAME': 'Флоресан Репейник маска-компресс горячая активатор роста волос, 450 мл',\n  'medsis_ids': [25390, 33150]},\n {'ID': 469327,\n  'NAME': 'Супироцин-Б, мазь, 15 г',\n  'medsis_ids': [35337, 35336]},\n {'ID': 469331,\n  'NAME': 'Кетопрофен-Вертекс гель для наружного применения 2,5%, 30 г',\n  'medsis_ids': [2744, 29692]},\n {'ID': 469350,\n  'NAME': 'Натрия хлорид Браун р-р для инфузий 0,9% контейнер, 1000 мл',\n  'medsis_ids': [32026, 3217]},\n {'ID': 469390,\n  'NAME': 'Хондрогард, ампулы 100 мг/мл, 2 мл, 10 шт',\n  'medsis_ids': [3075, 3076, 37182]},\n {'ID': 469438, 'NAME': 'Ибупрофен гель 5%, 50 г', 'medsis_ids': [1807, 2739]},\n {'ID': 469493,\n  'NAME': 'Моксонитекс таблетки покрыт.плен.об. 400 мкг, 14 шт.',\n  'medsis_ids': [31698, 35024]},\n {'ID': 469529,\n  'NAME': 'Ксилометазолин, спрей 0,1%, 10 мл',\n  'medsis_ids': [1830, 2335]},\n {'ID': 469530,\n  'NAME': 'Ксилометазолин, спрей 0,05%, 10 мл',\n  'medsis_ids': [1830, 2335]},\n {'ID': 469533,\n  'NAME': 'Омнитус, сироп 0,8 мг/мл, 200 мл',\n  'medsis_ids': [3109, 2989]},\n {'ID': 469543,\n  'NAME': 'Дентагуттал капли зубные, 10 мл',\n  'medsis_ids': [27865, 27866, 29440]},\n {'ID': 469552,\n  'NAME': 'АнтиФлу Кидс, пакетики , 5 шт.',\n  'medsis_ids': [36737, 297, 25054]},\n {'ID': 469573,\n  'NAME': 'Лошадиная сила шампунь, против перхоти с кетоконазолом, 250 мл',\n  'medsis_ids': [2665, 285]},\n {'ID': 469579,\n  'NAME': 'Тобрекс 2Х, глазные капли 0.3% , 5 мл',\n  'medsis_ids': [248, 35903]},\n {'ID': 469592,\n  'NAME': 'Бромгексин 4 Берлин-Хеми, микстура 4 мг/5 мл , 60 мл',\n  'medsis_ids': [26128, 26129]},\n {'ID': 469641,\n  'NAME': 'Рамиприл-СЗ, таблетки 5 мг, 30 шт.',\n  'medsis_ids': [33974, 2914]},\n {'ID': 469642,\n  'NAME': 'Рамиприл-СЗ, таблетки 10 мг, 30 шт.',\n  'medsis_ids': [33974, 2914]},\n {'ID': 469660,\n  'NAME': 'Вечернее Плюс драже (валериана+пустырник), 60 шт.',\n  'medsis_ids': [1510, 26399]},\n {'ID': 469668,\n  'NAME': 'Триметазидин-Биоком МВ таблетки с модиф.высв.покрыт.об 35 мг, 30 шт.',\n  'medsis_ids': [36123, 2940, 36122, 31331, 36128]},\n {'ID': 469682,\n  'NAME': 'Кеторолак, таблетки 10 мг, 20 шт.',\n  'medsis_ids': [35970, 2066, 2745]},\n {'ID': 469721,\n  'NAME': 'Коплавикс таблетки покрыт.плен.об. 100 мг+75 мг, 100 шт.',\n  'medsis_ids': [440, 875]},\n {'ID': 469775,\n  'NAME': 'Жабий камень хондропротектор 0,57 г капсулы блистер, 30 шт.',\n  'medsis_ids': [3075, 37182]},\n {'ID': 469792,\n  'NAME': 'Линкас БСС, сироп, 120 мл',\n  'medsis_ids': [2989, 30734, 30735]},\n {'ID': 469793,\n  'NAME': 'Диклофенак мазь 2%, 30 г',\n  'medsis_ids': [1136, 28046]},\n {'ID': 469799,\n  'NAME': 'Небилонг АМ, таблетки 5 мг+5 мг, 30 шт.',\n  'medsis_ids': [2084, 2085]},\n {'ID': 469837,\n  'NAME': 'Цефтазидим-Акос, флаконы, 1 г',\n  'medsis_ids': [37402, 2382]},\n {'ID': 469886,\n  'NAME': 'Эмокси-оптик, капли глазные 1%, 5 мл',\n  'medsis_ids': [31666, 266]},\n {'ID': 469897,\n  'NAME': 'EVO Пантенол крем универсальный, 46 мл',\n  'medsis_ids': [2593, 1873]},\n {'ID': 469903,\n  'NAME': 'Нурофен для детей  с 6 лет, таблетки от жара и боли 200 мг, 8 шт.',\n  'medsis_ids': [324, 32508]},\n {'ID': 469905, 'NAME': 'Туя-ГФ масло, 25 мл', 'medsis_ids': [2592, 36243]},\n {'ID': 469908,\n  'NAME': 'СтопПроблем Гель салициловый, ромашка и календула, 15 мл',\n  'medsis_ids': [2751, 1811]},\n {'ID': 469914,\n  'NAME': 'Конский каштан и троксерутин Натура Медика, гель-бальзам для ног, 85 мл',\n  'medsis_ids': [30040, 2943, 34495]},\n {'ID': 469944,\n  'NAME': 'Метформин Канон таблетки покрыт.плен.об.1000 мг, 60 шт.',\n  'medsis_ids': [31452, 3047]},\n {'ID': 469945,\n  'NAME': 'Омез Инста, порошок для пригот.суспензии 20 мг пакетики 5 шт',\n  'medsis_ids': [32700, 604]},\n {'ID': 469952,\n  'NAME': 'Аугментин ЕС, суспензия 600+42,9 мг/5 мл флакон 100 (23,13 г)',\n  'medsis_ids': [672, 25428]},\n {'ID': 469984,\n  'NAME': 'Метформин Канон таблетки покрыт.плен.об. 500 мг, 60 шт.',\n  'medsis_ids': [31452, 3047]},\n {'ID': 469992,\n  'NAME': 'Профлосин, капсулы ретард 0,4 мг, 30 шт.',\n  'medsis_ids': [32882, 34466, 3621]},\n {'ID': 470081,\n  'NAME': 'Мезим форте 10000 таблетки покрытые киш-раств.оболочкой, 20 шт',\n  'medsis_ids': [777, 31184]},\n {'ID': 470127,\n  'NAME': 'Тимолол Renewal глазные капли тюбик капельница 0,5%, 5 мл',\n  'medsis_ids': [1916, 35824]},\n {'ID': 470142,\n  'NAME': 'Гроприносин, таблетки 500 мг, 30 шт.',\n  'medsis_ids': [1795, 2620]},\n {'ID': 470143,\n  'NAME': 'Экофемин Флораваг, капсулы, 20 шт.',\n  'medsis_ids': [1338, 1709]},\n {'ID': 470150,\n  'NAME': 'Валериана+Пустырник\\xa0Форте\\xa0Мерцана, таблетки для рассасывания, 60 шт.',\n  'medsis_ids': [1510, 26399]},\n {'ID': 470159,\n  'NAME': 'Циталопрам, таблетки 20 мг, 30 шт.',\n  'medsis_ids': [32943, 3248, 2155]},\n {'ID': 470172,\n  'NAME': 'Билобил Интенс 120, капсулы 120 мг, 60 шт.',\n  'medsis_ids': [122, 25896]},\n {'ID': 470177,\n  'NAME': 'Тербинафин таблетки 250 мг, 10 шт.',\n  'medsis_ids': [2675, 1002]},\n {'ID': 470198,\n  'NAME': 'Антистен МВ, таблетки 35 мг, 60 шт.',\n  'medsis_ids': [1746, 2794]},\n {'ID': 470213,\n  'NAME': 'Гевискон Двойное действие, пакетики 10 мл, 12 шт.',\n  'medsis_ids': [558, 773]},\n {'ID': 470215,\n  'NAME': 'Гевискон Двойное действие, суспензия мятная, 150 мл',\n  'medsis_ids': [558, 773]},\n {'ID': 470227,\n  'NAME': 'Триметазидин-Биоком МВ таблетки с модиф.высв.покрыт.об 35 мг, 60 шт.',\n  'medsis_ids': [36123, 2940, 36122, 31331, 36128]},\n {'ID': 470230,\n  'NAME': 'Гамамелис ДН, свечи ректальные гомеопатические, 6 шт.',\n  'medsis_ids': [27021, 27022]},\n {'ID': 470235,\n  'NAME': 'Глицин-Био Фармаплант, таблетки 100 мг, 50 шт.',\n  'medsis_ids': [27486, 2022, 27487]},\n {'ID': 470260,\n  'NAME': 'Бромгексин 8 Берлин-Хеми, драже 8 мг, 25 шт.',\n  'medsis_ids': [26128, 225, 26132]},\n {'ID': 470273,\n  'NAME': 'Лидокаин-Виал, спрей 10%, 38 г',\n  'medsis_ids': [30652, 30660]},\n {'ID': 470326,\n  'NAME': 'Артракам, саше 1500 мг, 20 шт.',\n  'medsis_ids': [739, 25250]},\n {'ID': 470345,\n  'NAME': 'Нурофен Экспресс Леди, таблетки 400 мг, 12 шт.',\n  'medsis_ids': [32505, 324, 1865]},\n {'ID': 470346,\n  'NAME': 'Индометацин 100 Берлин-Хеми, суппозитории ректальные 100 мг, 10 шт.',\n  'medsis_ids': [28930, 28303, 31341, 355]},\n {'ID': 470355,\n  'NAME': 'Индометацин 50 Берлин-Хеми, суппозитории ректальные 50 мг, 10 шт.',\n  'medsis_ids': [28303, 31341, 28931, 355]},\n {'ID': 470395,\n  'NAME': 'Хондроитин гель 5%, 30 г',\n  'medsis_ids': [3077, 3075, 37182]},\n {'ID': 470466,\n  'NAME': 'Индометацин, мазь 10%, 30 г',\n  'medsis_ids': [28303, 31341, 355]},\n {'ID': 470500,\n  'NAME': 'Витапрост форте, суппозитории ректальные 20 мг 10 шт.',\n  'medsis_ids': [1785, 2018]},\n {'ID': 470520,\n  'NAME': 'Флуконазол-Тева, капсулы 50 мг 7 шт.',\n  'medsis_ids': [36737, 1937, 1936, 285]},\n {'ID': 470549,\n  'NAME': 'Мелоксикам таблетки 15 мг, 10 шт.',\n  'medsis_ids': [1842, 31219]},\n {'ID': 470550,\n  'NAME': 'Мелоксикам таблетки 15 мг, 20 шт.',\n  'medsis_ids': [1842, 31219]},\n {'ID': 470551,\n  'NAME': 'Мелоксикам таблетки 7,5 мг, 20 шт.',\n  'medsis_ids': [1842, 31219]},\n {'ID': 470552,\n  'NAME': 'Арутимол, глазные капли 0.25% , 5 мл',\n  'medsis_ids': [243, 35824]},\n {'ID': 470559,\n  'NAME': 'Арутимол, глазные капли 0.5% , 5 мл',\n  'medsis_ids': [243, 35824]},\n {'ID': 470602,\n  'NAME': 'Матарен Плюс, крем, 30 г',\n  'medsis_ids': [2753, 31121]},\n {'ID': 470606,\n  'NAME': 'Троксевазин Нео, гель 40 г',\n  'medsis_ids': [1920, 2184]},\n {'ID': 470608,\n  'NAME': 'Гевискон форте, пакетики 10 мл, 12 шт. для беременных',\n  'medsis_ids': [558, 27074]},\n {'ID': 470609,\n  'NAME': 'Тамсулозин ретард, таблетки покрыт.плен.об. пролонг. 400 мкг 30 шт.',\n  'medsis_ids': [35471, 35472, 35478]},\n {'ID': 470642,\n  'NAME': 'Термопсол таблетки от кашля, 10 шт.',\n  'medsis_ids': [1907, 3125]},\n {'ID': 470655,\n  'NAME': 'Натрия хлорид буфус Renewal р-р для инъекций 0.9%  5 мл ампулы, 10 шт.',\n  'medsis_ids': [32027, 3217]},\n {'ID': 470661,\n  'NAME': 'Никотиновая кислота буфус Renewal р-р для инъекций 1% 1 мл ампулы, 10 шт.',\n  'medsis_ids': [736, 32224]},\n {'ID': 470685,\n  'NAME': 'Глюкозамин Максимум, таблетки, 30 шт.',\n  'medsis_ids': [2731, 3020]},\n {'ID': 470694,\n  'NAME': 'Топирамат Канон таблетки покрыт.плен.об. 100 мг, 28 шт.',\n  'medsis_ids': [3294, 35941]},\n {'ID': 470702,\n  'NAME': 'Энтерокинд, капли, 20 мл',\n  'medsis_ids': [38002, 1429]},\n {'ID': 470716,\n  'NAME': 'Глицин Форте, таблетки 300 мг 60 шт.',\n  'medsis_ids': [1112, 2022]},\n {'ID': 470718,\n  'NAME': 'Парацетамол суспензия для приема внутрь клубника 120мг/5мл, 100 г',\n  'medsis_ids': [24907, 2769]},\n {'ID': 470735,\n  'NAME': 'Вода для инъекций буфус Renewal 5 мл ампулы, 10 шт.',\n  'medsis_ids': [2430, 26925]},\n {'ID': 470759,\n  'NAME': 'Диклофенак, мазь 1%, 30 г',\n  'medsis_ids': [1136, 28046]},\n {'ID': 470769,\n  'NAME': 'Рибавирин-СЗ, капсулы 200 мг, 60 шт.',\n  'medsis_ids': [2653, 34228]},\n {'ID': 470772,\n  'NAME': 'Офлоксацин раствор для инфузий 2 мг/мл флаконы, 100 мл',\n  'medsis_ids': [32883, 32882, 644]},\n {'ID': 470789,\n  'NAME': '911 Хондроитин, гель-бальзам для тела 100 мл',\n  'medsis_ids': [3077, 3075, 37182]},\n {'ID': 470804,\n  'NAME': 'Стелланин-ПЭГ, мазь 3%, 20 г',\n  'medsis_ids': [1571, 3065, 35145]},\n {'ID': 470817,\n  'NAME': 'Клотримазол, таблетки вагинальные 100 мг, 6 шт.',\n  'medsis_ids': [1247, 1823]},\n {'ID': 470819,\n  'NAME': 'Церукал р-р для в/вен. и в/мыш.введ. 10 мг 2 мл ампулы, 10 шт.',\n  'medsis_ids': [1680, 1681]},\n {'ID': 470827,\n  'NAME': 'Церукал таблетки 10 мг, 50 шт.',\n  'medsis_ids': [1680, 1681]},\n {'ID': 470842,\n  'NAME': 'Пустырника экстракт таблетки 14 мг, 50 шт.',\n  'medsis_ids': [1889, 1510]},\n {'ID': 470843,\n  'NAME': 'Троксерутин, капсулы 300 мг, 50 шт.',\n  'medsis_ids': [2943, 34495]},\n {'ID': 470850,\n  'NAME': 'Эхинацея композитум СН р-р для в/мыш. введ. 2,2 мл ампулы, 100 шт.',\n  'medsis_ids': [38276, 38279]},\n {'ID': 470866,\n  'NAME': 'Силденафил-СЗ, таблетки покрыт.плен.об. 50 мг, 10 шт.',\n  'medsis_ids': [34816, 3624, 34821]},\n {'ID': 470867,\n  'NAME': 'Силденафил-СЗ, таблетки покрыт.плен.об. 50 мг, 4 шт.',\n  'medsis_ids': [34816, 3624, 34821]},\n {'ID': 470868,\n  'NAME': 'Силденафил-СЗ, таблетки покрыт.плен.об. 100 мг, 10 шт.',\n  'medsis_ids': [34816, 3624, 34821]},\n {'ID': 470869,\n  'NAME': 'Силденафил-СЗ, таблетки покрыт.плен.об. 100 мг, 4 шт.',\n  'medsis_ids': [34816, 3624, 34821]},\n {'ID': 470879,\n  'NAME': 'Пантенол-Тева, мазь 5%, 35 г',\n  'medsis_ids': [33029, 1873]},\n {'ID': 470888,\n  'NAME': 'Топирамат Канон таблетки покрыт.плен.об. 25 мг, 28 шт.',\n  'medsis_ids': [3294, 35941]},\n {'ID': 470895,\n  'NAME': 'Сиалор Renewal набор для приготовления раствора 2%, 10 мл с распылителем',\n  'medsis_ids': [2751, 34793]},\n {'ID': 470909,\n  'NAME': 'Пародонтоцид, зубная паста, 50 мл',\n  'medsis_ids': [33117, 32924]},\n {'ID': 470922,\n  'NAME': 'Коринфар ретард таблетки покрыт.плен.об.пролонг. действия 20 мг, 50 шт.',\n  'medsis_ids': [30106, 450]},\n {'ID': 470931,\n  'NAME': 'Коринфар ретард таблетки покрыт.плен.об.пролонг. действия 20 мг, 30 шт.',\n  'medsis_ids': [30106, 450]},\n {'ID': 470939,\n  'NAME': 'Бронхобос, сироп 5%, 200 мл',\n  'medsis_ids': [2989, 3092]},\n {'ID': 470940,\n  'NAME': 'Бронхобос, сироп 2,5%, 200 мл',\n  'medsis_ids': [2989, 3092]},\n {'ID': 470952,\n  'NAME': 'Нафтизин спрей назальный 0,1% флакон-капельница, 15 мл',\n  'medsis_ids': [35792, 1857]},\n {'ID': 470953,\n  'NAME': 'Юниспаз Н, таблетки, 12 шт.',\n  'medsis_ids': [38297, 38287]},\n {'ID': 470963,\n  'NAME': 'Тизанидин-Тева, таблетки 2 мг 30 шт.',\n  'medsis_ids': [3289, 2231]},\n {'ID': 470964,\n  'NAME': 'Тизанидин-Тева, таблетки 4 мг 30 шт.',\n  'medsis_ids': [3289, 2231]},\n {'ID': 470965,\n  'NAME': 'Финлепсин ретард таблетки пролонг. действия 400 мг, 50 шт.',\n  'medsis_ids': [758, 39]},\n {'ID': 470974,\n  'NAME': 'Итразол, капсулы 100 мг, 42 шт.',\n  'medsis_ids': [2152, 681]},\n {'ID': 470979,\n  'NAME': 'Вода для инъекций буфус Renewal 2 мл ампулы, 10 шт.',\n  'medsis_ids': [2430, 26925]},\n {'ID': 470980,\n  'NAME': 'Визин Классический капли глазные 0,5 мг/мл  0,5 мл ампулы, 10 шт.',\n  'medsis_ids': [264, 26709]},\n {'ID': 470998,\n  'NAME': 'Будесонид-Натив, р-р для ингаляций  250 мкг/мл, 2 мл флаконы 10 шт.',\n  'medsis_ids': [3094, 26225]},\n {'ID': 470999,\n  'NAME': 'Будесонид-Натив, р-р для ингаляций  0,5 мг/мл, 2 мл флаконы 10 шт.',\n  'medsis_ids': [3094, 26225]},\n {'ID': 471006,\n  'NAME': 'Ирифрин БК, глазные капли 2,5%, 0,4 мл, 15 шт.',\n  'medsis_ids': [29113, 267]},\n {'ID': 471007,\n  'NAME': 'Найзилат, таблетки покрыт.плен.об. 600 мг 20 шт.',\n  'medsis_ids': [2034, 2759]},\n {'ID': 471026,\n  'NAME': 'Периндоприл-СЗ, таблетки 4 мг, 30 шт.',\n  'medsis_ids': [33257, 2902]},\n {'ID': 471034,\n  'NAME': 'Лора Напиток, коллаген, саше, 10 шт.',\n  'medsis_ids': [1338, 29974]},\n {'ID': 471057,\n  'NAME': 'Хлорпротиксен Санофи таблетки покрыт.плен. об.15 мг, 50 шт.',\n  'medsis_ids': [41, 37148]},\n {'ID': 471063,\n  'NAME': 'Диклофенак-АКОС гель для наружного применения 5%, 50 г',\n  'medsis_ids': [1136, 28062, 28046]},\n {'ID': 471100,\n  'NAME': 'Аптечка первой помощи ФЭСТ универсальная перечень №2 пластиковая коробка, 1 шт.',\n  'medsis_ids': [2688, 2593]},\n {'ID': 471148,\n  'NAME': 'Натрия хлорид Браун р-р для инфузий 0,9% флаконы, 500 мл',\n  'medsis_ids': [32026, 3217]},\n {'ID': 471161,\n  'NAME': 'Аскорутин Ка таблетки, 18 шт.',\n  'medsis_ids': [34495, 1748]},\n {'ID': 471196,\n  'NAME': 'Аспирин кардио, таблетки 300 мг, 20 шт.',\n  'medsis_ids': [25331, 434]},\n {'ID': 471199,\n  'NAME': 'Аспирин кардио, таблетки 100 мг, 28 шт.',\n  'medsis_ids': [25331, 434]},\n {'ID': 471205,\n  'NAME': 'Аспирин кардио, таблетки 100 мг, 56 шт.',\n  'medsis_ids': [25331, 434]},\n {'ID': 471207,\n  'NAME': 'Ципрофлоксацин, таблетки 500 мг, 10 шт.',\n  'medsis_ids': [32883, 32882, 644, 34466, 650]},\n {'ID': 471215,\n  'NAME': 'Клопидогрел-СЗ, таблетки покрыт.плен.об. 75 мг, 28 шт.',\n  'medsis_ids': [29864, 2849, 33310]},\n {'ID': 471216,\n  'NAME': 'Левомицетин Актитаб, таблетки 500 мг, 10 шт.',\n  'medsis_ids': [246, 30484]},\n {'ID': 471224,\n  'NAME': 'Мульти-Гин АктиГель для нормализации вагинальной микрофлоры, 50 мл',\n  'medsis_ids': [32882, 34466]},\n {'ID': 471265,\n  'NAME': 'Зодак экспресс таблетки покрыт.плен.об. 5 мг 28 шт, 28 шт.',\n  'medsis_ids': [51, 50]},\n {'ID': 471267,\n  'NAME': 'Бетагистин Канон таблетки 24 мг, 60 шт.',\n  'medsis_ids': [25811, 136]},\n {'ID': 471268,\n  'NAME': 'Офтолик БК, капли глазные 0,4 мл, 20 шт.',\n  'medsis_ids': [272, 32921]},\n {'ID': 471269,\n  'NAME': 'Хлорпротиксен Санофи таблетки покрыт.плен. об. 50 мг, 50 шт.',\n  'medsis_ids': [41, 37148]},\n {'ID': 471306, 'NAME': 'Кандидерм, крем, 30 г', 'medsis_ids': [2664, 3538]},\n {'ID': 471323,\n  'NAME': 'SportExpert Аминокислотный комплекс, саше 4,6 г, 10 шт.',\n  'medsis_ids': [31883, 1429]},\n {'ID': 471327,\n  'NAME': 'Гинкго Билоба-ВИС капсулы 0,4 г, 40 шт.',\n  'medsis_ids': [27342, 1102]},\n {'ID': 471333,\n  'NAME': 'Лориста НД таблетки покрыт.плен.об.100 мг+25 мг, 90 шт.',\n  'medsis_ids': [502, 504, 503]},\n {'ID': 471374,\n  'NAME': 'Диклофенак ретард, таблетки 100 мг, 20 шт.',\n  'medsis_ids': [354, 1136, 28046]},\n {'ID': 471384,\n  'NAME': 'Orihiro Глюкозамин и Хондроитин, orihiro таблетки 360 шт.',\n  'medsis_ids': [3077, 3075, 2731, 37182, 3020]},\n {'ID': 471397,\n  'NAME': 'Мирамистин р-р для местн. применения 0.01%, флакон с распылителем 150 мл',\n  'medsis_ids': [377, 2751]},\n {'ID': 471400,\n  'NAME': 'Kora маска себобаланс с пребиотиком для жирной проблемной и комбинированной кожи, 100 мл',\n  'medsis_ids': [25614, 2751]},\n {'ID': 471424,\n  'NAME': 'Тизин Алерджи спрей назальный 50 мкг/доза, 10 мл',\n  'medsis_ids': [35793, 35792]},\n {'ID': 471438,\n  'NAME': 'Гепатромбин С, гель 500 ме+25 мг+150 мг/г 40 г',\n  'medsis_ids': [2818, 27228, 36191]},\n {'ID': 471441,\n  'NAME': 'Мелоксикам-Тева, таблетки 15 мг 20 шт.',\n  'medsis_ids': [1359, 1842, 31219]},\n {'ID': 471442,\n  'NAME': 'Мелоксикам-Тева, таблетки 7,5 мг 20 шт.',\n  'medsis_ids': [1359, 1842, 31219]},\n {'ID': 471487,\n  'NAME': 'Рибоксин буфус Renewal р-р для в/вен. введ. 2%  5 мл ампулы, 10 шт.',\n  'medsis_ids': [34236, 473]},\n {'ID': 471488,\n  'NAME': 'Бромгексин сироп 4 мг/5 мл со вкусом абрикоса, 100 мл',\n  'medsis_ids': [26128, 2989]},\n {'ID': 471507,\n  'NAME': 'Аспирин Экспресс, таблетки шипучие 500 мг, 12 шт.',\n  'medsis_ids': [25331, 25335]},\n {'ID': 471517,\n  'NAME': 'Компливит-Актив, таблетки жевательные для детей вишневые, 30 шт.',\n  'medsis_ids': [30020, 1826]},\n {'ID': 471518,\n  'NAME': 'Компливит-Актив, для детей\\xa0и\\xa0подростков, 30 шт.',\n  'medsis_ids': [30020, 1826]},\n {'ID': 471529,\n  'NAME': 'Коделак Бронхо, таблетки, 20 шт.',\n  'medsis_ids': [228, 229]},\n {'ID': 471531,\n  'NAME': 'Стрепсилс с согревающим эффектом, таблетки, 24 шт.',\n  'medsis_ids': [213, 35198]},\n {'ID': 471560,\n  'NAME': 'ДексаТобропт глазные капли, 5 мл',\n  'medsis_ids': [27805, 35905]},\n {'ID': 471563,\n  'NAME': 'Экспортал, для детей, пакетики 5 г, 6 шт.',\n  'medsis_ids': [3258, 812]},\n {'ID': 471574,\n  'NAME': 'Коделак Бронхо, эликсир с чабрецом 100 мл',\n  'medsis_ids': [228, 229]},\n {'ID': 471578,\n  'NAME': 'Максиколд Лор, спрей, 40 мл',\n  'medsis_ids': [2200, 320]},\n {'ID': 471584,\n  'NAME': 'Коделак Нео, сироп 1,5 мг/мл, 100 мл',\n  'medsis_ids': [2989, 229, 29922]},\n {'ID': 471590,\n  'NAME': 'Зовиракс Дуо-Актив от простуды на губах, крем, 5%, 2 г',\n  'medsis_ids': [2026, 28586]},\n {'ID': 471597,\n  'NAME': 'Амброксол, сироп 15 мг/5 мл, 100 мл',\n  'medsis_ids': [864, 2989]},\n {'ID': 471610,\n  'NAME': 'Прамипексол-Тева, таблетки 1 мг, 30 шт.',\n  'medsis_ids': [33608, 32943, 31598, 33607]},\n {'ID': 471627,\n  'NAME': 'Натрия хлорид Браун р-р для инфузий 0,9% 500 мл флаконы, 10 шт.',\n  'medsis_ids': [32026, 3217]},\n {'ID': 471628,\n  'NAME': 'Шиповник Золотая капля, сироп, 250 мл',\n  'medsis_ids': [1957, 2989, 1703]},\n {'ID': 471641,\n  'NAME': 'Оциллококцинум гранулы гомеопатические, 30 шт.',\n  'medsis_ids': [2037, 27615]},\n {'ID': 471666,\n  'NAME': 'Леветирацетам Канон таблетки покрыт.плен.об. 1000 мг, 30 шт.',\n  'medsis_ids': [3220, 30460]},\n {'ID': 471667,\n  'NAME': 'Леветирацетам Канон таблетки покрыт.плен.об. 500 мг, 30 шт',\n  'medsis_ids': [3220, 30460]},\n {'ID': 471668,\n  'NAME': 'Торасемид Канон, таблетки 5 мг 60 шт.',\n  'medsis_ids': [35956, 2617]},\n {'ID': 471669,\n  'NAME': 'Торасемид Канон, таблетки 5 мг 20 шт.',\n  'medsis_ids': [35956, 2617]},\n {'ID': 471670,\n  'NAME': 'Торасемид Канон, таблетки 10 мг 60 шт.',\n  'medsis_ids': [35956, 2617]},\n {'ID': 471671,\n  'NAME': 'Торасемид Канон, таблетки 10 мг 20 шт.',\n  'medsis_ids': [35956, 2617]},\n {'ID': 471683,\n  'NAME': 'Билобил Интенс 120, капсулы 120 мг, 20 шт.',\n  'medsis_ids': [122, 25896]},\n {'ID': 471736,\n  'NAME': 'Нокспрей, спрей 0.05%, 20 мл',\n  'medsis_ids': [31883, 32410]},\n {'ID': 471770,\n  'NAME': 'Валокордин-Доксиламин, капли 25 мг/мл, 20 мл',\n  'medsis_ids': [1021, 26428, 28233]},\n {'ID': 471774,\n  'NAME': 'Глимепирид Канон таблетки 2 мг, 30 шт.',\n  'medsis_ids': [27462, 2510]},\n {'ID': 471786,\n  'NAME': 'Ацикловир, мазь 5%, 10 г',\n  'medsis_ids': [1755, 2658]},\n {'ID': 471798,\n  'NAME': 'Диклофенак Альтфарм, свечи ректальные 100 мг, 10 шт.',\n  'medsis_ids': [1136, 28046]},\n {'ID': 471800,\n  'NAME': 'Масло косметическое Шиповник, 30 мл',\n  'medsis_ids': [1957, 1703]},\n {'ID': 471814,\n  'NAME': 'Gillette Станок Blue II станки одноразовые, женские 5шт',\n  'medsis_ids': [2152, 31883]},\n {'ID': 471820,\n  'NAME': 'Новокаин буфус р-р для инъекций Renewal  0.5% 5 мл ампулы, 10 шт.',\n  'medsis_ids': [32382, 32381]},\n {'ID': 471828,\n  'NAME': 'Калия хлорид буфус Renewal конц. для пригот. р-ра для инфузий 4% 10 мл ампулы, 10 шт.',\n  'medsis_ids': [29297, 29294]},\n {'ID': 471830,\n  'NAME': 'Ацикловир Белупо крем для наружного применения 5%, 10 г',\n  'medsis_ids': [1755, 2658, 962]},\n {'ID': 471847,\n  'NAME': 'Ланцид Кит, таблетки и капсулы, 56 шт.',\n  'medsis_ids': [3377, 30422]},\n {'ID': 471859,\n  'NAME': 'Новокаин буфус р-р для инъекций Renewal  0.5% 10 мл ампулы, 10 шт.',\n  'medsis_ids': [32382, 32381]},\n {'ID': 471872,\n  'NAME': 'Канизон плюс, крем, 15 г',\n  'medsis_ids': [29423, 29422]},\n {'ID': 471874,\n  'NAME': 'Mirrolla Шампунь Сульсен Форте 2%, с кетоконазолом 150 мл',\n  'medsis_ids': [35266, 2665, 285]},\n {'ID': 471877,\n  'NAME': 'Натекаль Д3, таблетки для рассасывания, 60 шт.',\n  'medsis_ids': [1856, 31955]},\n {'ID': 471883,\n  'NAME': 'Троксерутин, капсулы 300 мг, 30 шт.',\n  'medsis_ids': [2943, 34495]},\n {'ID': 471901,\n  'NAME': 'Анализатор крови EasyTouch, глюкоза, холестерин, мочевая кислота',\n  'medsis_ids': [25390, 3020]},\n {'ID': 471916,\n  'NAME': 'Апилак Гриндекс, таблетки 10 мг , 25 шт.',\n  'medsis_ids': [25123, 152]},\n {'ID': 471921,\n  'NAME': 'Барсучий жир обогащенный капсулы, 120 шт.',\n  'medsis_ids': [984, 985]},\n {'ID': 471931,\n  'NAME': 'Акулий жир Маска, плацентарная, гинкго билоба, 1шт.',\n  'medsis_ids': [27342, 1102]},\n {'ID': 471939,\n  'NAME': 'Пантокрин Пантея, таблетки 0,2 г, 40 шт.',\n  'medsis_ids': [3054, 33038]},\n {'ID': 471942,\n  'NAME': 'Карнитина хлорид, ампулы 100 мг/мл, 5 мл, 10 шт.',\n  'medsis_ids': [29570, 29569]},\n {'ID': 471944,\n  'NAME': 'Чай Хипп Шиповник, с 4 месяцев, 40 г',\n  'medsis_ids': [1957, 1703]},\n {'ID': 471966,\n  'NAME': 'Офлоксацин таблетки покрыт.плен.об 400 мг, 10 шт.',\n  'medsis_ids': [32883, 32882, 644]},\n {'ID': 471967,\n  'NAME': 'Дрожжи пивные с Йодом, 100 шт.',\n  'medsis_ids': [28375, 1808]},\n {'ID': 471976,\n  'NAME': 'Стрептоцид, порошок 2 г',\n  'medsis_ids': [32924, 2370]},\n {'ID': 471982,\n  'NAME': 'Селенцин Active Pro лосьон-спрей стимулирующий для роста волос, 150 мл',\n  'medsis_ids': [34711, 2490]},\n {'ID': 471991,\n  'NAME': 'Тербинафин крем 1%, 15 г',\n  'medsis_ids': [2675, 1002]},\n {'ID': 471993,\n  'NAME': 'Ацикловир, мазь 5% , 5 г',\n  'medsis_ids': [1755, 2658]},\n {'ID': 471997,\n  'NAME': 'Флуконазол-Вертекс капсулы 150 мг, 1 шт.',\n  'medsis_ids': [36737, 36770, 1936, 285]},\n {'ID': 472013,\n  'NAME': 'Кальция глюконат Б.Браун раствор для в/в и в/м введ 100мг/мл 10 мл п/э контейнер, 20 шт.',\n  'medsis_ids': [29337, 1812]},\n {'ID': 472026,\n  'NAME': 'Валерианахель, капли для приема внутрь , 30 мл',\n  'medsis_ids': [26399, 26402]},\n {'ID': 472029,\n  'NAME': 'Ципрофлоксацин, флаконы 2 мг/мл, 100 мл',\n  'medsis_ids': [32883, 32882, 644, 34466, 650]},\n {'ID': 472043,\n  'NAME': 'Розувастатин-СЗ, таблетки покрыт.плен.об. 5 мг, 30 шт.',\n  'medsis_ids': [2918, 34400]},\n {'ID': 472055,\n  'NAME': 'Периндоприл-Вертекс таблетки 4 мг, 30 шт.',\n  'medsis_ids': [33255, 2902]},\n {'ID': 472059,\n  'NAME': 'Диклофенак Альтфарм, свечи ректальные 50 мг, 10 шт.',\n  'medsis_ids': [1136, 28046]},\n {'ID': 472085,\n  'NAME': 'Гастрикумель, таблетки, 50 шт.',\n  'medsis_ids': [27051, 27049]},\n ...]"
     },
     "execution_count": 60,
     "metadata": {},
     "output_type": "execute_result"
    }
   ],
   "source": [
    "print(len(products))\n",
    "print(sum(1 for p in products if p['medsis_ids'] == 0))\n",
    "print(sum(1 for p in products if p['medsis_ids'] == 1))\n",
    "print(sum(1 for p in products if len(p['medsis_ids']) > 1))\n",
    "[p for p in products if len(p['medsis_ids']) > 1]"
   ],
   "metadata": {
    "collapsed": false,
    "pycharm": {
     "name": "#%%\n"
    }
   }
  },
  {
   "cell_type": "code",
   "execution_count": 61,
   "outputs": [],
   "source": [
    "p1 = products"
   ],
   "metadata": {
    "collapsed": false,
    "pycharm": {
     "name": "#%%\n"
    }
   }
  },
  {
   "cell_type": "code",
   "execution_count": 93,
   "outputs": [
    {
     "data": {
      "text/plain": "2"
     },
     "execution_count": 92,
     "metadata": {},
     "output_type": "execute_result"
    },
    {
     "data": {
      "text/plain": "2"
     },
     "execution_count": 93,
     "metadata": {},
     "output_type": "execute_result"
    }
   ],
   "source": [
    "check_name('Виагра, таблетки 100 мг, 2 шт.', 'Пароксетин-СЗ')"
   ],
   "metadata": {
    "collapsed": false,
    "pycharm": {
     "name": "#%%\n"
    }
   }
  },
  {
   "cell_type": "code",
   "execution_count": 96,
   "outputs": [
    {
     "data": {
      "text/plain": "{'Карнифит': ['карнифит'],\n 'Беклоспир': ['беклоспир'],\n 'Топирамат-АЛСИ': ['топирамат', 'алси'],\n 'Рекорд В12 Сигма-Тау': ['рекорд', 'в12', 'сигма', 'тау'],\n 'Кандекор Н32': ['кандекор', 'н32'],\n 'Стронция-89 хлорид': ['стронция', '89', 'хлорид'],\n 'Железо': ['железо'],\n 'Фитогепатол №2': ['фитогепатол', '№2'],\n 'Ридостин': ['ридостин'],\n 'Флюоресцит': ['флюоресцит'],\n 'Зильден': ['зильден'],\n 'Полижинакс Вирго': ['полижинакс', 'вирго'],\n 'Магний плюс В6': ['магний', 'плюс', 'в6'],\n 'Никетамид-Эском': ['никетамид', 'эском'],\n 'Камфорный спирт и муравьиный спирт поровну': ['камфорный',\n  'спирт',\n  'и',\n  'муравьиный',\n  'спирт',\n  'поровну'],\n 'Гидрокортизон + Натамицин + Неомицин': ['гидрокортизон',\n  '+',\n  'натамицин',\n  '+',\n  'неомицин'],\n 'Атропин': ['атропин'],\n 'Зенаро': ['зенаро'],\n 'Синдроксоцин': ['синдроксоцин'],\n 'Этамбутол ШТАДА': ['этамбутол', 'штада'],\n 'Гигротон': ['гигротон'],\n 'Данол': ['данол'],\n 'Бусерелин': ['бусерелин'],\n 'Пектрол': ['пектрол'],\n 'Нитрофунгин': ['нитрофунгин'],\n 'Азактам™': ['азактам™'],\n 'Медокс': ['медокс'],\n 'Каптоприл Велфарм': ['каптоприл', 'велфарм'],\n 'Шалфей': ['шалфей'],\n 'Винбластина сульфат': ['винбластина', 'сульфат'],\n 'Аспирин': ['аспирин'],\n 'Амиридина таблетки': ['амиридина', 'таблетки'],\n 'Никс': ['никс'],\n 'Лизолин': ['лизолин'],\n 'Юнидокс Солютаб': ['юнидокс', 'солютаб'],\n 'Варфарин': ['варфарин'],\n 'Софазин': ['софазин'],\n 'Флемоклав Солютаб': ['флемоклав', 'солютаб'],\n 'Аквамокс': ['аквамокс'],\n 'Стальника корень': ['стальника', 'корень'],\n 'Моно Мак': ['моно', 'мак'],\n 'Моксифлоксацин-Оптик': ['моксифлоксацин', 'оптик'],\n 'Бикалутамид Сандоз': ['бикалутамид', 'сандоз'],\n 'Инсулин Ультраленте «ХО-С»': ['инсулин', 'ультраленте', '«хо', 'с»'],\n 'Аминостерил КЕ Нефро': ['аминостерил', 'ке', 'нефро'],\n 'Варфарин-OBL': ['варфарин', 'obl'],\n 'Фокусин': ['фокусин'],\n 'ОРНИОНА': ['орниона'],\n 'Аллерген из пыльцы одуванчика лекарственного для диагностики и лечения': ['аллерген',\n  'из',\n  'пыльцы',\n  'одуванчика',\n  'лекарственного',\n  'для',\n  'диагностики',\n  'и',\n  'лечения'],\n 'Хлосоль': ['хлосоль'],\n 'Феброфид': ['феброфид'],\n 'Веро-Омепразол': ['веро', 'омепразол'],\n 'Горчичник-пакет': ['горчичник', 'пакет'],\n 'Амантадин': ['амантадин'],\n 'Разводящая жидкость для неинфекционных аллергенов': ['разводящая',\n  'жидкость',\n  'для',\n  'неинфекционных',\n  'аллергенов'],\n 'Лайф 900': ['лайф', '900'],\n 'Контрикал': ['контрикал'],\n 'Риссет Квитаб': ['риссет', 'квитаб'],\n 'Ондавелл': ['ондавелл'],\n 'Теразозина гидрохлорида дигидрат': ['теразозина',\n  'гидрохлорида',\n  'дигидрат'],\n 'Дапосенс': ['дапосенс'],\n 'Латанопрост-ДИА': ['латанопрост', 'диа'],\n 'Формотерола фумарата дигидрат': ['формотерола', 'фумарата', 'дигидрат'],\n 'Солютизон': ['солютизон'],\n 'ВАЛУСАЛ': ['валусал'],\n 'Карнитен': ['карнитен'],\n 'Найсулид': ['найсулид'],\n 'Инозин': ['инозин'],\n 'Сейзар': ['сейзар'],\n 'Эписиндан': ['эписиндан'],\n 'Хепабос': ['хепабос'],\n 'Бактериофаг стрептококковый': ['бактериофаг', 'стрептококковый'],\n 'Проканазол': ['проканазол'],\n 'Нимика': ['нимика'],\n 'Розувастатин-Ксантис': ['розувастатин', 'ксантис'],\n 'Анальгин-Русфар': ['анальгин', 'русфар'],\n 'Ниацинамид': ['ниацинамид'],\n 'Преднизолон Эльфа': ['преднизолон', 'эльфа'],\n 'Преднизолон': ['преднизолон'],\n 'Ирис разноцветный': ['ирис', 'разноцветный'],\n 'Кука': ['кука'],\n 'Вентеро-Нова': ['вентеро', 'нова'],\n 'Танацехол': ['танацехол'],\n 'Рифампицин': ['рифампицин'],\n 'НовоМикс 50 ФлексПен': ['новомикс', '50', 'флекспен'],\n 'Унифлокс': ['унифлокс'],\n 'Синактен депо': ['синактен', 'депо'],\n 'Доппельгерц KINDER Омега-3': ['доппельгерц', 'kinder', 'омега', '3'],\n 'Облепиховое масло в ректокапсулах для детей': ['облепиховое',\n  'масло',\n  'в',\n  'ректокапсулах',\n  'для',\n  'детей'],\n 'Клабакс ОД': ['клабакс', 'од'],\n 'Витрум Юниор': ['витрум', 'юниор'],\n 'Линкомицин': ['линкомицин'],\n 'Биносто': ['биносто'],\n 'Амитриптилин-АЛСИ': ['амитриптилин', 'алси'],\n 'Валокордин': ['валокордин'],\n 'Ципроксил': ['ципроксил'],\n 'Бивокса ВМ': ['бивокса', 'вм'],\n 'Пирацетам буфус': ['пирацетам', 'буфус'],\n 'Селеницерус крупноцветковый': ['селеницерус', 'крупноцветковый'],\n 'Сафоцид': ['сафоцид'],\n 'Тиамина бромида 0,00645 г, рибофлавина 0,005 г, аскорбиновой кислоты 0,1 г таблетки покрытые оболочкой': ['тиамина',\n  'бромида',\n  '0',\n  '00645',\n  'г',\n  'рибофлавина',\n  '0',\n  '005',\n  'г',\n  'аскорбиновой',\n  'кислоты',\n  '0',\n  '1',\n  'г',\n  'таблетки',\n  'покрытые',\n  'оболочкой'],\n 'Омезол': ['омезол'],\n 'Эмоксипин': ['эмоксипин'],\n 'Нетизжог': ['нетизжог'],\n 'Левостар': ['левостар'],\n 'Ропивакаина гидрохлорида моногидрат': ['ропивакаина',\n  'гидрохлорида',\n  'моногидрат'],\n 'Ультрагривак Вакцина гриппозная живая': ['ультрагривак',\n  'вакцина',\n  'гриппозная',\n  'живая'],\n 'Бетадерм А': ['бетадерм', 'а'],\n 'Арнес-Эдас-203': ['арнес', 'эдас', '203'],\n 'Самбукус-плюс': ['самбукус', 'плюс'],\n 'Ливарол': ['ливарол'],\n 'Амикин™': ['амикин™'],\n 'Валокордин-Доксиламин': ['валокордин', 'доксиламин'],\n 'Герботон': ['герботон'],\n 'Натрия фторид': ['натрия', 'фторид'],\n 'Латран': ['латран'],\n 'Перекись водорода': ['перекись', 'водорода'],\n 'Флуцинар Н': ['флуцинар', 'н'],\n 'Мидокалм-Рихтер': ['мидокалм', 'рихтер'],\n 'Троксерутин Санофи': ['троксерутин', 'санофи'],\n 'Золмитриптан': ['золмитриптан'],\n 'Амоксициллин Экобол': ['амоксициллин', 'экобол'],\n 'Коделанов': ['коделанов'],\n 'Дурацеф™': ['дурацеф™'],\n 'Стеринеб Саламол': ['стеринеб', 'саламол'],\n 'Ацетилсалициловая кислота-ЛекТ': ['ацетилсалициловая', 'кислота', 'лект'],\n 'Ферлатум': ['ферлатум'],\n 'Оптальгин': ['оптальгин'],\n 'ЛЕВОФЛОКСАЦИН-ЛЕКСВМ': ['левофлоксацин', 'лексвм'],\n 'Амбен': ['амбен'],\n 'Симетикон': ['симетикон'],\n 'Тиро-4': ['тиро', '4'],\n 'Отофа': ['отофа'],\n 'Нолипрел': ['нолипрел'],\n 'Кераворт': ['кераворт'],\n 'Терпингидрат': ['терпингидрат'],\n 'Проктозан': ['проктозан'],\n 'Стрептофаг': ['стрептофаг'],\n 'Этония мазь 0,5%': ['этония', 'мазь', '0', '5%'],\n 'Минеральная смесь РУС30557': ['минеральная', 'смесь', 'рус30557'],\n 'Пирацетам Велфарм': ['пирацетам', 'велфарм'],\n 'Олифена таблетки 0,5 г': ['олифена', 'таблетки', '0', '5', 'г'],\n 'Вискалдикс': ['вискалдикс'],\n 'Тарцева': ['тарцева'],\n 'Ребамипид': ['ребамипид'],\n 'Лептинорм': ['лептинорм'],\n 'Ликопид': ['ликопид'],\n 'НексоБрид': ['нексобрид'],\n 'Преднизолон буфус': ['преднизолон', 'буфус'],\n 'Квадроприл': ['квадроприл'],\n 'Ибупрофен Ланнахер': ['ибупрофен', 'ланнахер'],\n 'Флукорт Ц': ['флукорт', 'ц'],\n 'Яблочная кислота': ['яблочная', 'кислота'],\n 'Актинолизат': ['актинолизат'],\n 'Мидазолам-хамельн': ['мидазолам', 'хамельн'],\n 'Бетагистин-Акрихин': ['бетагистин', 'акрихин'],\n 'Периндоприл-Тева': ['периндоприл', 'тева'],\n 'Окситоцин Гриндекс': ['окситоцин', 'гриндекс'],\n 'Теноксикам': ['теноксикам'],\n 'Велафакс МВ': ['велафакс', 'мв'],\n 'Экстенциллин': ['экстенциллин'],\n 'ЭГОЛАНЗА': ['эголанза'],\n 'Аллерген из пыльцы ржи посевной для диагностики и лечения': ['аллерген',\n  'из',\n  'пыльцы',\n  'ржи',\n  'посевной',\n  'для',\n  'диагностики',\n  'и',\n  'лечения'],\n 'Нимесулид-МБФ': ['нимесулид', 'мбф'],\n 'Эзомепразол Зентива': ['эзомепразол', 'зентива'],\n 'Пипольфен': ['пипольфен'],\n 'Золотарника канадского экстракт сухой': ['золотарника',\n  'канадского',\n  'экстракт',\n  'сухой'],\n 'Индометацин ДС': ['индометацин', 'дс'],\n 'Ацетилцистеина раствор для инъекций 10%': ['ацетилцистеина',\n  'раствор',\n  'для',\n  'инъекций',\n  '10%'],\n 'Пульмибуд': ['пульмибуд'],\n 'Амиодарона гидрохлорид': ['амиодарона', 'гидрохлорид'],\n 'Адвантан': ['адвантан'],\n 'Сопелка': ['сопелка'],\n 'Липофорд': ['липофорд'],\n 'Альтерпур': ['альтерпур'],\n 'Пентрексил': ['пентрексил'],\n 'Раствор Хартмана': ['раствор', 'хартмана'],\n 'Инсуман Комб 15 ГТ': ['инсуман', 'комб', '15', 'гт'],\n 'Повиаргол': ['повиаргол'],\n 'Ксимелин Экстра': ['ксимелин', 'экстра'],\n 'Корвалдин': ['корвалдин'],\n 'Зинацеф': ['зинацеф'],\n 'Валсартан Зентива': ['валсартан', 'зентива'],\n 'Витамины для больных диабетом  БАД': ['витамины',\n  'для',\n  'больных',\n  'диабетом',\n  'бад'],\n 'Верокутан': ['верокутан'],\n 'Азитромицин Зентива': ['азитромицин', 'зентива'],\n 'Третиноин': ['третиноин'],\n 'Мебеверин-ВЕРТЕКС': ['мебеверин', 'вертекс'],\n 'Феморикс': ['феморикс'],\n 'Оринол Плюс': ['оринол', 'плюс'],\n 'Програф': ['програф'],\n 'Кейтен': ['кейтен'],\n 'Альфабрим': ['альфабрим'],\n 'МАК-ПАС плюс': ['мак', 'пас', 'плюс'],\n 'СуперАмп': ['суперамп'],\n 'Натрия пертехнетат, 99mТс из экстракционного генератора': ['натрия',\n  'пертехнетат',\n  '99mтс',\n  'из',\n  'экстракционного',\n  'генератора'],\n 'Галиум-Хель': ['галиум', 'хель'],\n 'Селегилин': ['селегилин'],\n 'Тизин Ксило БИО': ['тизин', 'ксило', 'био'],\n 'Тиопентал натрия стерильный': ['тиопентал', 'натрия', 'стерильный'],\n 'Фозиноприл натрия': ['фозиноприл', 'натрия'],\n 'Актиферрин композитум': ['актиферрин', 'композитум'],\n 'Апонил': ['апонил'],\n 'Диазепам': ['диазепам'],\n 'Эстекор': ['эстекор'],\n 'Кандекор НД32': ['кандекор', 'нд32'],\n 'Ирбесартан': ['ирбесартан'],\n 'Офлоксацин ДС': ['офлоксацин', 'дс'],\n 'Финголимод-натив': ['финголимод', 'натив'],\n 'Атенолол композитум Сандоз': ['атенолол', 'композитум', 'сандоз'],\n 'Велмиб3.5': ['велмиб3', '5'],\n 'Окситоцин-Рихтер': ['окситоцин', 'рихтер'],\n 'Адолор': ['адолор'],\n 'Реосорбилакт': ['реосорбилакт'],\n 'Доппельгерц Актив КОМПЛЕКС ДЛЯ СНА МАГНИЙ+ЛАВАНДА+МЕЛИССА.': ['доппельгерц',\n  'актив',\n  'комплекс',\n  'для',\n  'сна',\n  'магний+лаванда+мелисса'],\n 'Сушеницы топяной трава': ['сушеницы', 'топяной', 'трава'],\n 'Фосфомицин натрия': ['фосфомицин', 'натрия'],\n 'Офтан Катахром': ['офтан', 'катахром'],\n 'Церестел': ['церестел'],\n 'Али-капс': ['али', 'капс'],\n 'Деготь берестовый медицинский дистиллированный': ['деготь',\n  'берестовый',\n  'медицинский',\n  'дистиллированный'],\n 'Пролатан': ['пролатан'],\n 'Алкеран': ['алкеран'],\n 'Гепариновая 1000': ['гепариновая', '1000'],\n 'Химотрипсин': ['химотрипсин'],\n 'Анаферон': ['анаферон'],\n 'Рибавирин Канон': ['рибавирин', 'канон'],\n 'Целлекс': ['целлекс'],\n 'Ребамипид-СЗ': ['ребамипид', 'сз'],\n 'Эториакс': ['эториакс'],\n 'Диклориум': ['диклориум'],\n 'Спазган™': ['спазган™'],\n 'Никотиновой кислоты раствор для инъекций 1%': ['никотиновой',\n  'кислоты',\n  'раствор',\n  'для',\n  'инъекций',\n  '1%'],\n 'Линамид': ['линамид'],\n 'Андипал': ['андипал'],\n 'Эхинацея ВИЛАР': ['эхинацея', 'вилар'],\n 'Левометил': ['левометил'],\n 'Пантопразол Канон': ['пантопразол', 'канон'],\n 'Шигеллвак, субстанция': ['шигеллвак', 'субстанция'],\n 'Табак настоящий': ['табак', 'настоящий'],\n 'Антигриппин-ОРВИ нео': ['антигриппин', 'орви', 'нео'],\n 'Эналаприл-ФПО': ['эналаприл', 'фпо'],\n 'Азивок': ['азивок'],\n 'Аевит': ['аевит'],\n 'Кордипин XЛ': ['кордипин', 'xл'],\n 'Карбамазепин ретард-Акрихин': ['карбамазепин', 'ретард', 'акрихин'],\n 'Вифенд': ['вифенд'],\n 'Гликлазид Канон': ['гликлазид', 'канон'],\n 'Норматенс': ['норматенс'],\n 'Гексадрепс': ['гексадрепс'],\n 'Плаун булавовидный': ['плаун', 'булавовидный'],\n 'Эссенциальные фосфолипиды': ['эссенциальные', 'фосфолипиды'],\n 'Дексаметазон-ЛЭНС': ['дексаметазон', 'лэнс'],\n 'Бадана корневища': ['бадана', 'корневища'],\n 'Флу': ['флу'],\n 'Цефамезин': ['цефамезин'],\n 'Фелдорал СЕДИКО': ['фелдорал', 'седико'],\n 'Панциол': ['панциол'],\n 'НИАПРОФФ': ['ниапрофф'],\n 'Гликлада': ['гликлада'],\n 'Аспаркам': ['аспаркам'],\n 'Феназепама раствор для инъекций 3%': ['феназепама',\n  'раствор',\n  'для',\n  'инъекций',\n  '3%'],\n 'Гепарин-Акригель 1000': ['гепарин', 'акригель', '1000'],\n 'Пилотимол мини': ['пилотимол', 'мини'],\n 'Аммиака раствор 10% в ампулах': ['аммиака',\n  'раствор',\n  '10%',\n  'в',\n  'ампулах'],\n 'Бусульфан-натив': ['бусульфан', 'натив'],\n 'ЕМБ-Фатол 400': ['емб', 'фатол', '400'],\n 'Колифаг': ['колифаг'],\n 'Эрвы шерстистой трава': ['эрвы', 'шерстистой', 'трава'],\n 'Гастроромазол': ['гастроромазол'],\n 'Багульника болотного побеги': ['багульника', 'болотного', 'побеги'],\n 'Ацилакт': ['ацилакт'],\n 'Аминазин': ['аминазин'],\n 'Симвастатин Пфайзер': ['симвастатин', 'пфайзер'],\n 'Ацетарсол': ['ацетарсол'],\n 'Ормидол': ['ормидол'],\n 'Октретекс': ['октретекс'],\n 'ПростатОфф': ['простатофф'],\n 'НЕБИВОЛОЛ-НАНОЛЕК': ['небиволол', 'нанолек'],\n 'Бальзам\"Валентина Дикуля\"косметич дтела в обл суст': ['бальзам\"валентина',\n  'дикуля\"косметич',\n  'дтела',\n  'в',\n  'обл',\n  'суст'],\n 'ВЕНОСМИН': ['веносмин'],\n 'Инсулин Максирапид ВО-С': ['инсулин', 'максирапид', 'во', 'с'],\n 'Ципрофлоксацина гидрохлорид': ['ципрофлоксацина', 'гидрохлорид'],\n 'Асвитол': ['асвитол'],\n 'Иматиниба мезилат α-форма': ['иматиниба', 'мезилат', 'α', 'форма'],\n 'Эторелекс': ['эторелекс'],\n 'Кансамин': ['кансамин'],\n 'Поливинилин-Русфар': ['поливинилин', 'русфар'],\n 'Карнитон  БАД': ['карнитон', 'бад'],\n 'Инсуман Базал ГТ': ['инсуман', 'базал', 'гт'],\n 'Азафен': ['азафен'],\n 'Линетол': ['линетол'],\n 'Перекись водорода Жифрер': ['перекись', 'водорода', 'жифрер'],\n 'Фортеплазе': ['фортеплазе'],\n 'Заласта': ['заласта'],\n 'Калия перманганат пор.': ['калия', 'перманганат', 'пор'],\n 'МоноВак полио тип 2': ['моновак', 'полио', 'тип', '2'],\n 'Варденафил': ['варденафил'],\n 'Аторвастатин кальция кристаллический': ['аторвастатин',\n  'кальция',\n  'кристаллический'],\n 'Бальзам\"Спасатель\"туба': ['бальзам\"спасатель\"туба'],\n 'Тахибен': ['тахибен'],\n 'Офлоксацин Велфарм': ['офлоксацин', 'велфарм'],\n 'Нитразадон': ['нитразадон'],\n 'Гипноген': ['гипноген'],\n 'Эссенциглив': ['эссенциглив'],\n 'Эналаприл-УБФ': ['эналаприл', 'убф'],\n 'Корвалол Фито': ['корвалол', 'фито'],\n 'Алтея корень неочищенный': ['алтея', 'корень', 'неочищенный'],\n 'Атгам': ['атгам'],\n 'Троксевазин': ['троксевазин'],\n 'Витабекс': ['витабекс'],\n 'Цитоксан': ['цитоксан'],\n 'Налфон': ['налфон'],\n 'ОрниФлю Вакцина гриппозная инактивированная субъединичная адсорбированная': ['орнифлю',\n  'вакцина',\n  'гриппозная',\n  'инактивированная',\n  'субъединичная',\n  'адсорбированная'],\n 'Ретиноевая мазь': ['ретиноевая', 'мазь'],\n 'Темцитал': ['темцитал'],\n 'Клацид СР': ['клацид', 'ср'],\n 'Микстура от кашля для взрослых сухая': ['микстура',\n  'от',\n  'кашля',\n  'для',\n  'взрослых',\n  'сухая'],\n 'Азитромицин-АКОС': ['азитромицин', 'акос'],\n 'Ируксол': ['ируксол'],\n 'Кларитромицин-Акрихин': ['кларитромицин', 'акрихин'],\n 'Допмин': ['допмин'],\n 'Кармолис жидкость': ['кармолис', 'жидкость'],\n 'Бубо-М': ['бубо', 'м'],\n 'СЕРОФЛО': ['серофло'],\n 'Мультивита плюс': ['мультивита', 'плюс'],\n 'Доктор Тайсс Шалфей': ['доктор', 'тайсс', 'шалфей'],\n 'Пустырника экстракт сухой': ['пустырника', 'экстракт', 'сухой'],\n 'Дибазола таблетки': ['дибазола', 'таблетки'],\n 'ДезГриппин': ['дезгриппин'],\n 'ЭСПАРОКСИ': ['эспарокси'],\n 'Кальциумфолинат-Эбеве': ['кальциумфолинат', 'эбеве'],\n 'Анастрэкс': ['анастрэкс'],\n 'Иммуноглобулины антивидовые против иммуноглобулина мыши диагностические флуоресцирующие сухие': ['иммуноглобулины',\n  'антивидовые',\n  'против',\n  'иммуноглобулина',\n  'мыши',\n  'диагностические',\n  'флуоресцирующие',\n  'сухие'],\n 'Пирацетам-СЗ': ['пирацетам', 'сз'],\n 'Карипаин крем': ['карипаин', 'крем'],\n 'Твинста': ['твинста'],\n 'Гидрокортизон': ['гидрокортизон'],\n 'Тевакомб': ['тевакомб'],\n 'Кетопрофен': ['кетопрофен'],\n 'Левемир Пенфилл': ['левемир', 'пенфилл'],\n 'Леветирацетам Люпин': ['леветирацетам', 'люпин'],\n 'Туя': ['туя'],\n 'Нурофен Стопколд': ['нурофен', 'стопколд'],\n 'Платидиам': ['платидиам'],\n 'Артроджект': ['артроджект'],\n 'Глюкозамина сульфат 750': ['глюкозамина', 'сульфат', '750'],\n 'Фитолякка': ['фитолякка'],\n 'Сироп от кашля с подорожником и мать-и-мачехой': ['сироп',\n  'от',\n  'кашля',\n  'с',\n  'подорожником',\n  'и',\n  'мать',\n  'и',\n  'мачехой'],\n 'Бризантин': ['бризантин'],\n 'Флутамид Плива': ['флутамид', 'плива'],\n 'Цисплатин-Келун Казфарм': ['цисплатин', 'келун', 'казфарм'],\n 'Латуда': ['латуда'],\n 'Фазостабил': ['фазостабил'],\n 'Глюгицир': ['глюгицир'],\n 'ИРИНОТЕКАН-ДЖ': ['иринотекан', 'дж'],\n 'Меропенабол': ['меропенабол'],\n 'Дигоксин Гриндекс': ['дигоксин', 'гриндекс'],\n 'Будиэйр': ['будиэйр'],\n 'Мифегин': ['мифегин'],\n 'Гомеопатические монокомпонентные препараты минерально-химического происхождения': ['гомеопатические',\n  'монокомпонентные',\n  'препараты',\n  'минерально',\n  'химического',\n  'происхождения'],\n 'Пангрол 10000': ['пангрол', '10000'],\n 'Цефтриаксон-КМП': ['цефтриаксон', 'кмп'],\n 'Доксиламин': ['доксиламин'],\n 'Кетопрофен-СОЛОфарм': ['кетопрофен', 'солофарм'],\n 'Аминтакс': ['аминтакс'],\n 'Каффетин': ['каффетин'],\n 'М-Эслон': ['м', 'эслон'],\n 'Хелепин-Д': ['хелепин', 'д'],\n 'Аторвастатин Алкалоид': ['аторвастатин', 'алкалоид'],\n 'Тромбовар': ['тромбовар'],\n 'Натрия тетраборат декагидрат': ['натрия', 'тетраборат', 'декагидрат'],\n 'Феминальгин': ['феминальгин'],\n 'Ультравист': ['ультравист'],\n 'Офломелид': ['офломелид'],\n 'Имипенем и циластатин': ['имипенем', 'и', 'циластатин'],\n 'Андрокур Депо': ['андрокур', 'депо'],\n 'Диклофенак Сандоз': ['диклофенак', 'сандоз'],\n 'Свечи с метилурацилом 0,5 г': ['свечи', 'с', 'метилурацилом', '0', '5', 'г'],\n 'Вектрум кальций': ['вектрум', 'кальций'],\n 'Ципромед': ['ципромед'],\n 'Спирамицин основание': ['спирамицин', 'основание'],\n 'Фенибут Тривиум': ['фенибут', 'тривиум'],\n 'Симпони': ['симпони'],\n 'Фарморубицин быстрорастворимый': ['фарморубицин', 'быстрорастворимый'],\n 'Завицефта': ['завицефта'],\n 'Полиоксидоний': ['полиоксидоний'],\n 'Омез Инста': ['омез', 'инста'],\n 'Флуконазол-OBL': ['флуконазол', 'obl'],\n 'Сабаль-Гомаккорд': ['сабаль', 'гомаккорд'],\n 'Ацилок': ['ацилок'],\n 'РинЛиз': ['ринлиз'],\n 'Бронхорус': ['бронхорус'],\n 'Бронхипрет ТП': ['бронхипрет', 'тп'],\n 'Клиндамицин Дж': ['клиндамицин', 'дж'],\n 'Лефокцин': ['лефокцин'],\n 'Бетагенот': ['бетагенот'],\n 'Нурофен Экспресс Леди': ['нурофен', 'экспресс', 'леди'],\n 'Инутрал СПП': ['инутрал', 'спп'],\n 'Бусерелина ацетат': ['бусерелина', 'ацетат'],\n 'Флогардин': ['флогардин'],\n 'Виасан-ЛФ': ['виасан', 'лф'],\n 'Пентанов Плюс': ['пентанов', 'плюс'],\n 'Сорбифер Дурулес': ['сорбифер', 'дурулес'],\n 'Ноосерк': ['ноосерк'],\n 'Пантенол Фармстандарт': ['пантенол', 'фармстандарт'],\n 'Римантадин Актитаб': ['римантадин', 'актитаб'],\n 'Гель-бальзам\"\"дтела с бишофитом': ['гель',\n  'бальзам\"\"дтела',\n  'с',\n  'бишофитом'],\n 'Максар': ['максар'],\n 'Метформин лонг': ['метформин', 'лонг'],\n 'Фенюльс': ['фенюльс'],\n 'Бальзам-гель \"Скипар\" для тела при болях в суставах': ['бальзам',\n  'гель',\n  '\"скипар\"',\n  'для',\n  'тела',\n  'при',\n  'болях',\n  'в',\n  'суставах'],\n 'Релистор': ['релистор'],\n 'Трастузумаб': ['трастузумаб'],\n 'Рифаксимин': ['рифаксимин'],\n 'Рувакс': ['рувакс'],\n 'Фурезис композитум': ['фурезис', 'композитум'],\n 'Платинол': ['платинол'],\n 'Орликсен 120': ['орликсен', '120'],\n 'Кокарнит': ['кокарнит'],\n 'Инокаин': ['инокаин'],\n 'Флуконазол-ЛЕКСВМ': ['флуконазол', 'лексвм'],\n 'АВИФАВИР': ['авифавир'],\n 'Биматан': ['биматан'],\n 'Алтей сироп': ['алтей', 'сироп'],\n 'Домперидон': ['домперидон'],\n 'Зверобоя настойка': ['зверобоя', 'настойка'],\n 'Дента': ['дента'],\n 'Пирацетам-Ферейн': ['пирацетам', 'ферейн'],\n 'Аллитера': ['аллитера'],\n 'Тизоптан': ['тизоптан'],\n 'Ипека': ['ипека'],\n 'БИСОПРОЛОЛ АВЕКСИМА': ['бисопролол', 'авексима'],\n 'Аминостигмина раствор для инъекций 0,1%': ['аминостигмина',\n  'раствор',\n  'для',\n  'инъекций',\n  '0',\n  '1%'],\n 'Ксеналтен': ['ксеналтен'],\n 'Мореаль плюс': ['мореаль', 'плюс'],\n 'Лейковорин-ЛЭНС': ['лейковорин', 'лэнс'],\n 'Минидиаб': ['минидиаб'],\n 'Золинза': ['золинза'],\n 'Флебофа': ['флебофа'],\n 'Октрид': ['октрид'],\n 'Зантин': ['зантин'],\n 'Аллерген эпидермальный из шерсти кошки для диагностики': ['аллерген',\n  'эпидермальный',\n  'из',\n  'шерсти',\n  'кошки',\n  'для',\n  'диагностики'],\n 'Пармидина таблетки 0,25 г': ['пармидина', 'таблетки', '0', '25', 'г'],\n 'Пастушьей сумки экстракт жидкий': ['пастушьей',\n  'сумки',\n  'экстракт',\n  'жидкий'],\n 'Индапамид Велфарм': ['индапамид', 'велфарм'],\n 'Даксас': ['даксас'],\n 'Колдрекс Хотрем': ['колдрекс', 'хотрем'],\n 'Сульфацил-натрия раствор 20%': ['сульфацил', 'натрия', 'раствор', '20%'],\n 'Верошпилактон': ['верошпилактон'],\n 'Стомафлор': ['стомафлор'],\n 'Кандекор': ['кандекор'],\n 'Трасилол 500000': ['трасилол', '500000'],\n 'Омнитус': ['омнитус'],\n 'Силест': ['силест'],\n 'Рапонтикума сафлоровидного': ['рапонтикума', 'сафлоровидного'],\n 'АзитРус': ['азитрус'],\n 'Зисакар': ['зисакар'],\n 'Десферал': ['десферал'],\n 'Вибовит Бэби': ['вибовит', 'бэби'],\n 'Гентамицина сульфата раствор для инъекций 4%': ['гентамицина',\n  'сульфата',\n  'раствор',\n  'для',\n  'инъекций',\n  '4%'],\n 'ДГК Континус': ['дгк', 'континус'],\n 'Каффетин лайт': ['каффетин', 'лайт'],\n 'КомплигамB': ['комплигамb'],\n 'Бисопролол-Тева': ['бисопролол', 'тева'],\n 'Нурофаст': ['нурофаст'],\n 'Циметидин': ['циметидин'],\n 'Кседоцин': ['кседоцин'],\n 'Пиолизин': ['пиолизин'],\n 'Ксилокт-СОЛОфарм': ['ксилокт', 'солофарм'],\n 'Турбослим контроль аппетита': ['турбослим', 'контроль', 'аппетита'],\n 'Оксациллина натриевая соль стерильная': ['оксациллина',\n  'натриевая',\n  'соль',\n  'стерильная'],\n 'Бетоптик C': ['бетоптик', 'c'],\n 'Лизиноприл-OBL': ['лизиноприл', 'obl'],\n 'Мепивакаин-Бинергия': ['мепивакаин', 'бинергия'],\n 'Анатоксин столбнячный очищенный концентрированный жидкий': ['анатоксин',\n  'столбнячный',\n  'очищенный',\n  'концентрированный',\n  'жидкий'],\n 'Бактериофаг колипротейный': ['бактериофаг', 'колипротейный'],\n 'Микросорб-П': ['микросорб', 'п'],\n 'Лактасол': ['лактасол'],\n 'Панкреатин': ['панкреатин'],\n 'Цералин-Лекфарм': ['цералин', 'лекфарм'],\n 'Феррум Лек': ['феррум', 'лек'],\n 'Пирогениум': ['пирогениум'],\n 'Рабепразол-ВЕРТЕКС': ['рабепразол', 'вертекс'],\n 'Урсофальк': ['урсофальк'],\n 'Лития оксибутират': ['лития', 'оксибутират'],\n 'Разо': ['разо'],\n 'Солиан': ['солиан'],\n 'Лира': ['лира'],\n 'Виворакс': ['виворакс'],\n 'Гастролит': ['гастролит'],\n 'Нордитропин Симплекс': ['нордитропин', 'симплекс'],\n 'Перфторан': ['перфторан'],\n 'Домперидон ГЕКСАЛ': ['домперидон', 'гексал'],\n 'Сантотитралгин': ['сантотитралгин'],\n 'Мекинист': ['мекинист'],\n 'Монтелукаст натрия': ['монтелукаст', 'натрия'],\n 'Полудан': ['полудан'],\n 'Длянос': ['длянос'],\n 'Бромгексин-Акрихин': ['бромгексин', 'акрихин'],\n 'Джес Плюс': ['джес', 'плюс'],\n 'Гидрохинон': ['гидрохинон'],\n 'Гевискон': ['гевискон'],\n 'Лансопразол': ['лансопразол'],\n 'Сульфацетамид натрия': ['сульфацетамид', 'натрия'],\n 'Вакцина антирабическая культуральная концентрированная очищенная инактивированная сухая': ['вакцина',\n  'антирабическая',\n  'культуральная',\n  'концентрированная',\n  'очищенная',\n  'инактивированная',\n  'сухая'],\n 'Годасал': ['годасал'],\n 'Эналакор': ['эналакор'],\n 'Бравинтон': ['бравинтон'],\n 'Алвента': ['алвента'],\n 'Диоксидилар': ['диоксидилар'],\n 'Экулизумаб': ['экулизумаб'],\n 'Летроза': ['летроза'],\n 'Флуомизин': ['флуомизин'],\n 'Пантесепт плюс': ['пантесепт', 'плюс'],\n 'Сандостатин Лар': ['сандостатин', 'лар'],\n 'Кардионат': ['кардионат'],\n 'Кардостен': ['кардостен'],\n 'Блефарогель-2': ['блефарогель', '2'],\n 'Климактоплан': ['климактоплан'],\n 'Амитриптилин-Гриндекс': ['амитриптилин', 'гриндекс'],\n 'Триметазидин-Тева': ['триметазидин', 'тева'],\n 'ГиперХАЕС': ['гиперхаес'],\n 'Йенамазол 100': ['йенамазол', '100'],\n 'Псоралюм': ['псоралюм'],\n 'Дизаверокс': ['дизаверокс'],\n 'Ренель': ['ренель'],\n 'Продетоксон': ['продетоксон'],\n 'Кардикс Моно': ['кардикс', 'моно'],\n 'Йодуксун-2': ['йодуксун', '2'],\n 'Беклоджет 250': ['беклоджет', '250'],\n 'Гентамицин-Ферейн': ['гентамицин', 'ферейн'],\n 'Компливит Мама': ['компливит', 'мама'],\n 'Дивитрен': ['дивитрен'],\n 'Бронфлекс': ['бронфлекс'],\n 'Инеджи': ['инеджи'],\n 'Натрия бензоат': ['натрия', 'бензоат'],\n 'Омнитроп': ['омнитроп'],\n 'Эуглюкон': ['эуглюкон'],\n 'Кузимолол': ['кузимолол'],\n 'Реддитукс': ['реддитукс'],\n 'Ловастатин': ['ловастатин'],\n 'Сассапариль кирказонолистная': ['сассапариль', 'кирказонолистная'],\n 'Артрафик': ['артрафик'],\n 'Летрозол': ['летрозол'],\n 'Натрия пара-аминосалицилат': ['натрия', 'пара', 'аминосалицилат'],\n 'Эрнаф': ['эрнаф'],\n 'Церебрил': ['церебрил'],\n 'Беринерт': ['беринерт'],\n 'Умифеновир': ['умифеновир'],\n 'Фламадекс': ['фламадекс'],\n 'Гидрастис канаденсис': ['гидрастис', 'канаденсис'],\n 'Циклоспорин': ['циклоспорин'],\n 'Наклофен СР': ['наклофен', 'ср'],\n 'Дофамин-Дарница': ['дофамин', 'дарница'],\n 'Слимия': ['слимия'],\n 'Антитела к гамма-интерферону человека аффинно очищенные': ['антитела',\n  'к',\n  'гамма',\n  'интерферону',\n  'человека',\n  'аффинно',\n  'очищенные'],\n 'Астрозон': ['астрозон'],\n 'Сустак форте': ['сустак', 'форте'],\n 'Триаминик': ['триаминик'],\n 'Нитроксолин': ['нитроксолин'],\n 'Пилокарпин-ДИА': ['пилокарпин', 'диа'],\n 'Марукса': ['марукса'],\n 'Трактоцил': ['трактоцил'],\n 'ВЕРТУМ ЛОР': ['вертум', 'лор'],\n 'Перекись водорода, 3 %': ['перекись', 'водорода', '3', '%'],\n 'Пилокарпин-лонг': ['пилокарпин', 'лонг'],\n 'Теразозин-Тева': ['теразозин', 'тева'],\n 'Ларинол Эдас-117': ['ларинол', 'эдас', '117'],\n 'Прозерина таблетки 0,015 г': ['прозерина', 'таблетки', '0', '015', 'г'],\n 'Левомицетин 5 г, салицилово-цинковая паста 95 г': ['левомицетин',\n  '5',\n  'г',\n  'салицилово',\n  'цинковая',\n  'паста',\n  '95',\n  'г'],\n 'АМБЕНЕ Био': ['амбене', 'био'],\n 'Аторвастатин МС': ['аторвастатин', 'мс'],\n 'Домперидон-Эдвансд': ['домперидон', 'эдвансд'],\n 'Меладапт': ['меладапт'],\n 'Экзомюк 200': ['экзомюк', '200'],\n 'Катадолон форте': ['катадолон', 'форте'],\n 'Алерза': ['алерза'],\n 'Хондроитин': ['хондроитин'],\n 'Дифлюкан': ['дифлюкан'],\n 'Проксофелин': ['проксофелин'],\n 'Альгирем': ['альгирем'],\n 'Пенемера': ['пенемера'],\n 'Налгезин': ['налгезин'],\n 'Моксифлоксацин Канон': ['моксифлоксацин', 'канон'],\n 'Лизалак': ['лизалак'],\n 'Ропивакаин': ['ропивакаин'],\n 'Лоперамид-Акри': ['лоперамид', 'акри'],\n 'Утрожестан': ['утрожестан'],\n 'Календула супп. гомеопатич.': ['календула', 'супп', 'гомеопатич'],\n 'Морская вода': ['морская', 'вода'],\n 'Теофиллин безводный': ['теофиллин', 'безводный'],\n 'Бромгексин 8 мг': ['бромгексин', '8', 'мг'],\n 'Фортелизин': ['фортелизин'],\n 'Нефалгин 10': ['нефалгин', '10'],\n 'Коллитин': ['коллитин'],\n 'Полирибоадениловой кислоты калиевая соль': ['полирибоадениловой',\n  'кислоты',\n  'калиевая',\n  'соль'],\n 'Димиста': ['димиста'],\n 'Кафергот': ['кафергот'],\n 'Микстура от кашля для детей сухая': ['микстура',\n  'от',\n  'кашля',\n  'для',\n  'детей',\n  'сухая'],\n 'Тагрен': ['тагрен'],\n 'Лигнин': ['лигнин'],\n 'Мультипродукт для людей пожилого возраста': ['мультипродукт',\n  'для',\n  'людей',\n  'пожилого',\n  'возраста'],\n 'Коксерин': ['коксерин'],\n 'Липрохин': ['липрохин'],\n 'Диосмин+Гесперидин ВЕРТЕКС': ['диосмин+гесперидин', 'вертекс'],\n 'Ромфалак': ['ромфалак'],\n 'Бисангил': ['бисангил'],\n 'Эмтритаб': ['эмтритаб'],\n 'Бетагистина гидрохлорид': ['бетагистина', 'гидрохлорид'],\n 'Термопсиса экстракт жидкий': ['термопсиса', 'экстракт', 'жидкий'],\n 'Цистон': ['цистон'],\n 'Дорзолан соло': ['дорзолан', 'соло'],\n 'Эуфиллин-Эском': ['эуфиллин', 'эском'],\n 'Эбермин': ['эбермин'],\n 'Дикломакс™': ['дикломакс™'],\n 'Ропивакаина гидрохлорид': ['ропивакаина', 'гидрохлорид'],\n 'Баклофен': ['баклофен'],\n 'Курантил 25': ['курантил', '25'],\n 'Инсулин-Ультралонг СМК': ['инсулин', 'ультралонг', 'смк'],\n 'Зарсио': ['зарсио'],\n 'Риделат-С': ['риделат', 'с'],\n 'Глицерилфосфорилхолин гидрат': ['глицерилфосфорилхолин', 'гидрат'],\n 'Ортофена раствор для инъекций 2,5%': ['ортофена',\n  'раствор',\n  'для',\n  'инъекций',\n  '2',\n  '5%'],\n 'Пангрол 25000': ['пангрол', '25000'],\n 'Нейролипон': ['нейролипон'],\n 'Ибупрофен-ФС': ['ибупрофен', 'фс'],\n 'Протионамид': ['протионамид'],\n 'Актрапид HM Пенфилл': ['актрапид', 'hm', 'пенфилл'],\n 'Гемтаз': ['гемтаз'],\n 'Этазола таблетки': ['этазола', 'таблетки'],\n 'Тризенокс': ['тризенокс'],\n 'Гипертонплант': ['гипертонплант'],\n 'МОДЭЛЛЬ 911': ['модэлль', '911'],\n 'Рабиет': ['рабиет'],\n 'Кардос': ['кардос'],\n 'ОмеВел': ['омевел'],\n 'Фленокс НЕО': ['фленокс', 'нео'],\n 'Кларисенс': ['кларисенс'],\n 'КОКАВ Вакцина антирабическая культуральная концентрированная очищенная инактивированная': ['кокав',\n  'вакцина',\n  'антирабическая',\n  'культуральная',\n  'концентрированная',\n  'очищенная',\n  'инактивированная'],\n 'Афлодерм': ['афлодерм'],\n 'Сероквель': ['сероквель'],\n 'Калмирекс': ['калмирекс'],\n 'Тетрациклиновая мазь 3%': ['тетрациклиновая', 'мазь', '3%'],\n 'Нурофен МультиСимптом': ['нурофен', 'мультисимптом'],\n 'Якорцев стелющихся травы экстракт сухой': ['якорцев',\n  'стелющихся',\n  'травы',\n  'экстракт',\n  'сухой'],\n 'Лифоран': ['лифоран'],\n 'Акридилол': ['акридилол'],\n 'Ким бальзам жидкий': ['ким', 'бальзам', 'жидкий'],\n 'Тенонорм': ['тенонорм'],\n 'Ангиофлюкс': ['ангиофлюкс'],\n 'Паклитаксел-Эбеве': ['паклитаксел', 'эбеве'],\n 'Арифон ретард': ['арифон', 'ретард'],\n 'Муравьиная кислота 85%': ['муравьиная', 'кислота', '85%'],\n 'Вакцина коклюшная бесклеточная очищенная': ['вакцина',\n  'коклюшная',\n  'бесклеточная',\n  'очищенная'],\n 'Глеацер': ['глеацер'],\n 'Уртика ДН': ['уртика', 'дн'],\n 'Кетопрофен ВП': ['кетопрофен', 'вп'],\n 'Прокаин пенициллин G 3 мега': ['прокаин', 'пенициллин', 'g', '3', 'мега'],\n 'Цебрилизин': ['цебрилизин'],\n 'Офрамакс': ['офрамакс'],\n 'Аекол': ['аекол'],\n 'Холедиус': ['холедиус'],\n 'Люкрин депо': ['люкрин', 'депо'],\n 'Бисам': ['бисам'],\n 'Тридерм': ['тридерм'],\n 'Фурацилина таблетки 0,1 г': ['фурацилина', 'таблетки', '0', '1', 'г'],\n 'Флуфеназин': ['флуфеназин'],\n 'Витрум Пренатал Плюс': ['витрум', 'пренатал', 'плюс'],\n 'Зедекс': ['зедекс'],\n 'Тыквеол суппозитории ректальные': ['тыквеол', 'суппозитории', 'ректальные'],\n 'Трокен': ['трокен'],\n 'Лидевин': ['лидевин'],\n 'Вирфотен': ['вирфотен'],\n 'Кальция хлорида раствор 50%': ['кальция', 'хлорида', 'раствор', '50%'],\n 'Зверобоя трава': ['зверобоя', 'трава'],\n 'Азалептин': ['азалептин'],\n 'Экзифин': ['экзифин'],\n 'Андроит': ['андроит'],\n 'Прегнаферрум': ['прегнаферрум'],\n 'Полиметилсилоксана полигидрат': ['полиметилсилоксана', 'полигидрат'],\n 'Инсуман Комб 25 ГТ': ['инсуман', 'комб', '25', 'гт'],\n 'Аскорбиновой кислоты раствор для инъекций 10%': ['аскорбиновой',\n  'кислоты',\n  'раствор',\n  'для',\n  'инъекций',\n  '10%'],\n 'Бумидол': ['бумидол'],\n 'Панкреатин 20000': ['панкреатин', '20000'],\n 'Баета Лонг': ['баета', 'лонг'],\n 'Генсулин М30': ['генсулин', 'м30'],\n 'Повидон-йод': ['повидон', 'йод'],\n 'Бромкамфоры таблетки 0,25 г': ['бромкамфоры', 'таблетки', '0', '25', 'г'],\n 'Суппозитории вагинальные с синтомицином 0,25 г': ['суппозитории',\n  'вагинальные',\n  'с',\n  'синтомицином',\n  '0',\n  '25',\n  'г'],\n 'Фирмагон': ['фирмагон'],\n 'Торасемид Медисорб': ['торасемид', 'медисорб'],\n 'Липы цветков брикет круглый': ['липы', 'цветков', 'брикет', 'круглый'],\n 'Бисакодил-Хемофарм': ['бисакодил', 'хемофарм'],\n 'Желчь крупного рогатого скота сухая экстрагированная': ['желчь',\n  'крупного',\n  'рогатого',\n  'скота',\n  'сухая',\n  'экстрагированная'],\n 'Сиалис': ['сиалис'],\n 'Нормоглаукон': ['нормоглаукон'],\n 'Никофлекс': ['никофлекс'],\n 'Канамицина сульфат кислый': ['канамицина', 'сульфат', 'кислый'],\n 'Тафен назаль': ['тафен', 'назаль'],\n 'Сингулекс': ['сингулекс'],\n 'Зеленина капли': ['зеленина', 'капли'],\n 'Лерканидипин-СЗ': ['лерканидипин', 'сз'],\n 'Псоринум': ['псоринум'],\n 'Цефазолин Эльфа': ['цефазолин', 'эльфа'],\n 'Стоптуссин': ['стоптуссин'],\n 'Тербинафин': ['тербинафин'],\n 'Цефазолин-АКОС': ['цефазолин', 'акос'],\n 'Аскорбиновая кислота с сахаром': ['аскорбиновая', 'кислота', 'с', 'сахаром'],\n 'Таксакад': ['таксакад'],\n 'Новитропан': ['новитропан'],\n 'ЭГИТРОМБ': ['эгитромб'],\n 'Асинак': ['асинак'],\n 'Прегабалин Медисорб': ['прегабалин', 'медисорб'],\n 'Генератор технеция-99м типа КСУ-3-ФХИ': ['генератор',\n  'технеция',\n  '99м',\n  'типа',\n  'ксу',\n  '3',\n  'фхи'],\n 'Кальципарин': ['кальципарин'],\n 'Инфлюнорм': ['инфлюнорм'],\n 'Цитиколин натрия': ['цитиколин', 'натрия'],\n 'Ципролет А': ['ципролет', 'а'],\n 'Цилазаприл': ['цилазаприл'],\n 'Левофлоксацин': ['левофлоксацин'],\n 'Иммусан': ['иммусан'],\n 'Вестибо': ['вестибо'],\n 'Дексаметазон-Виал': ['дексаметазон', 'виал'],\n 'Гинкор гель': ['гинкор', 'гель'],\n 'Диетпласт гомеопатический пластырь для похудания': ['диетпласт',\n  'гомеопатический',\n  'пластырь',\n  'для',\n  'похудания'],\n 'Гастрика-ГФ': ['гастрика', 'гф'],\n 'Убидекаренон': ['убидекаренон'],\n 'Офтолик': ['офтолик'],\n 'Эвкабал Бальзам С': ['эвкабал', 'бальзам', 'с'],\n 'Мульти-табс Юниор': ['мульти', 'табс', 'юниор'],\n 'Стоматофит А': ['стоматофит', 'а'],\n 'Эфир для наркоза стабилизированный': ['эфир',\n  'для',\n  'наркоза',\n  'стабилизированный'],\n 'Пралуэнт': ['пралуэнт'],\n 'Вернисон': ['вернисон'],\n 'Ко-Вамлосет': ['ко', 'вамлосет'],\n 'Хондролон': ['хондролон'],\n 'Рисперидон-ВЕРТЕКС': ['рисперидон', 'вертекс'],\n 'Доппельгерц Женьшень': ['доппельгерц', 'женьшень'],\n 'Лобелия Эдас-133': ['лобелия', 'эдас', '133'],\n 'Теноретик': ['теноретик'],\n 'Торасемид Канон': ['торасемид', 'канон'],\n 'Валидол Авексима': ['валидол', 'авексима'],\n 'Изоптин СР 240': ['изоптин', 'ср', '240'],\n 'Доктор Тайсс Ринотайсс': ['доктор', 'тайсс', 'ринотайсс'],\n 'Амлодивел': ['амлодивел'],\n 'Овипол Клио': ['овипол', 'клио'],\n 'Гозерелина ацетат': ['гозерелина', 'ацетат'],\n 'Декскетопрофен КЕРН ФАРМА': ['декскетопрофен', 'керн', 'фарма'],\n 'Церпехол': ['церпехол'],\n 'Акт-ХИБ': ['акт', 'хиб'],\n 'Клапитакс': ['клапитакс'],\n 'Морадол': ['морадол'],\n 'Дексонал': ['дексонал'],\n 'Кормагнезин': ['кормагнезин'],\n 'Афонилум СР': ['афонилум', 'ср'],\n 'Генсулин Н': ['генсулин', 'н'],\n 'Эпилаптон': ['эпилаптон'],\n 'Росинсулин Р': ['росинсулин', 'р'],\n 'Тамсулон-ФС': ['тамсулон', 'фс'],\n 'Витрум Пренатал форте': ['витрум', 'пренатал', 'форте'],\n 'Вентолин': ['вентолин'],\n 'Альгерика': ['альгерика'],\n 'Добутрекс™': ['добутрекс™'],\n 'Гербион сироп первоцвета': ['гербион', 'сироп', 'первоцвета'],\n 'Нифлурил': ['нифлурил'],\n 'Сульпирид Белупо': ['сульпирид', 'белупо'],\n 'Пульсатилла пратенсис': ['пульсатилла', 'пратенсис'],\n 'Фемибион Наталкер I': ['фемибион', 'наталкер', 'i'],\n 'Цинобак': ['цинобак'],\n 'Ульцэп': ['ульцэп'],\n 'Римекор': ['римекор'],\n 'Лендацин': ['лендацин'],\n 'КЕТАНОВ МД': ['кетанов', 'мд'],\n 'Водорода перекись медицинская': ['водорода', 'перекись', 'медицинская'],\n 'Гонадотропин хорионический': ['гонадотропин', 'хорионический'],\n 'КамРОУ': ['камроу'],\n 'Проскар': ['проскар'],\n 'Аминазина драже': ['аминазина', 'драже'],\n 'Воздушно-ксеноновая смесь с радиоизотопом ксенон-133': ['воздушно',\n  'ксеноновая',\n  'смесь',\n  'с',\n  'радиоизотопом',\n  'ксенон',\n  '133'],\n 'Аимафикс': ['аимафикс'],\n 'Циклоферон': ['циклоферон'],\n 'Леналидомид-натив': ['леналидомид', 'натив'],\n 'Бифидумбактерин форте': ['бифидумбактерин', 'форте'],\n 'Фимасартана калия тригидрат': ['фимасартана', 'калия', 'тригидрат'],\n 'Дакарбазин-ЛЭНС': ['дакарбазин', 'лэнс'],\n 'Зеффикс': ['зеффикс'],\n 'Зитролид': ['зитролид'],\n 'Оксиэтиламмония метилфеноксиацетат': ['оксиэтиламмония',\n  'метилфеноксиацетат'],\n 'Берлоцид 480': ['берлоцид', '480'],\n 'Вокацит': ['вокацит'],\n 'Бупикаин': ['бупикаин'],\n 'Предизин': ['предизин'],\n 'Хели-стоп': ['хели', 'стоп'],\n 'Кетоцеф': ['кетоцеф'],\n 'Миноциклина гидрохлорида дигидрат': ['миноциклина',\n  'гидрохлорида',\n  'дигидрат'],\n 'Левофлоксацин Эколевид': ['левофлоксацин', 'эколевид'],\n 'Мукосат': ['мукосат'],\n 'Женьшень с витамином С': ['женьшень', 'с', 'витамином', 'с'],\n 'Эвкалипта лист': ['эвкалипта', 'лист'],\n 'Йодбаланс': ['йодбаланс'],\n 'Ливолюк-ПБ': ['ливолюк', 'пб'],\n 'ФениВейт': ['фенивейт'],\n 'Веро-Эналаприл': ['веро', 'эналаприл'],\n 'Ранитидина гидрохлорид': ['ранитидина', 'гидрохлорид'],\n 'Нордитропин НордиЛет': ['нордитропин', 'нордилет'],\n 'Тифим Ви': ['тифим', 'ви'],\n 'Кларитромицин Санофи': ['кларитромицин', 'санофи'],\n 'Небиволол-ВЕРТЕКС': ['небиволол', 'вертекс'],\n 'Карнитина хлорид': ['карнитина', 'хлорид'],\n 'Пантопразол-ВЕРТЕКС': ['пантопразол', 'вертекс'],\n 'Вераплекс': ['вераплекс'],\n 'Бесалол': ['бесалол'],\n 'Листрил Плюс': ['листрил', 'плюс'],\n 'Лизиноприла гранулят': ['лизиноприла', 'гранулят'],\n 'Хайтрин': ['хайтрин'],\n 'Амарил': ['амарил'],\n 'Амол': ['амол'],\n 'Фенорелаксан': ['фенорелаксан'],\n 'Монокомпонентные препараты минерального происхождения': ['монокомпонентные',\n  'препараты',\n  'минерального',\n  'происхождения'],\n 'Корвалол': ['корвалол'],\n 'Коффедон': ['коффедон'],\n 'Пронокогнил': ['пронокогнил'],\n 'Неоскапан': ['неоскапан'],\n 'Оксидевита капсулы': ['оксидевита', 'капсулы'],\n 'Панатус Форте': ['панатус', 'форте'],\n 'Хумодар К25-100': ['хумодар', 'к25', '100'],\n 'Провайв': ['провайв'],\n 'Адалат СЛ': ['адалат', 'сл'],\n 'Тартефедрель Н': ['тартефедрель', 'н'],\n 'Халиксол': ['халиксол'],\n 'Делуфен': ['делуфен'],\n 'Амлодипин+Периндоприл': ['амлодипин+периндоприл'],\n 'Кветитекс': ['кветитекс'],\n 'Суматриптан Адифарм': ['суматриптан', 'адифарм'],\n 'Пироксикам-OBL': ['пироксикам', 'obl'],\n 'Тациллин Дж': ['тациллин', 'дж'],\n 'Эрексезил': ['эрексезил'],\n 'Орунгал': ['орунгал'],\n 'Зокардис 7,5': ['зокардис', '7', '5'],\n 'Цефоперазон и Сульбактам Спенсер': ['цефоперазон',\n  'и',\n  'сульбактам',\n  'спенсер'],\n 'Хелидониум-Гомаккорд Н': ['хелидониум', 'гомаккорд', 'н'],\n 'Пирантела эмбонат': ['пирантела', 'эмбонат'],\n 'Метотрексат натрия': ['метотрексат', 'натрия'],\n 'Бикалутамид': ['бикалутамид'],\n 'Алфавит Антистресс': ['алфавит', 'антистресс'],\n 'Эпклюза': ['эпклюза'],\n 'Валсартан Санофи': ['валсартан', 'санофи'],\n 'Пропазин': ['пропазин'],\n 'Микрофлокс': ['микрофлокс'],\n 'Турбослим кофе капучино саше пор': ['турбослим',\n  'кофе',\n  'капучино',\n  'саше',\n  'пор'],\n 'НайЛинг-Тропфен': ['найлинг', 'тропфен'],\n 'Неомицина сульфат': ['неомицина', 'сульфат'],\n 'Артроцин': ['артроцин'],\n 'Сутент': ['сутент'],\n 'Тербинокс': ['тербинокс'],\n 'Лейковорин-Тева': ['лейковорин', 'тева'],\n 'Лидаза-М': ['лидаза', 'м'],\n 'Мардил Цинк Макс': ['мардил', 'цинк', 'макс'],\n 'Рибофлавин Хай Флоу 100': ['рибофлавин', 'хай', 'флоу', '100'],\n 'Орсотен слим': ['орсотен', 'слим'],\n 'Бронхикум С': ['бронхикум', 'с'],\n 'Амбизом': ['амбизом'],\n 'Дигоксин': ['дигоксин'],\n 'Метформин Канон': ['метформин', 'канон'],\n 'Кислород жидкий медицинский': ['кислород', 'жидкий', 'медицинский'],\n 'Мирелль': ['мирелль'],\n 'Релвар Эллипта': ['релвар', 'эллипта'],\n 'Амоксициллина тригидрат + Клавуланат калия': ['амоксициллина',\n  'тригидрат',\n  '+',\n  'клавуланат',\n  'калия'],\n 'Ангиохран гранулы гомеопатические': ['ангиохран',\n  'гранулы',\n  'гомеопатические'],\n 'АЦЦ Актив': ['ацц', 'актив'],\n 'Эллигамин': ['эллигамин'],\n 'Опдиво': ['опдиво'],\n 'Туя комп': ['туя', 'комп'],\n 'Некст Уно Экспресс': ['некст', 'уно', 'экспресс'],\n 'Рыбий жир-Тева': ['рыбий', 'жир', 'тева'],\n 'Карбамазепин': ['карбамазепин'],\n 'Темпалгин': ['темпалгин'],\n 'Кветиапин-СЗ': ['кветиапин', 'сз'],\n 'Сингуляр': ['сингуляр'],\n 'Берокка Плюс': ['берокка', 'плюс'],\n 'Камадол': ['камадол'],\n 'Мерифатин': ['мерифатин'],\n 'Доктор Тайсс Шведская горечь': ['доктор', 'тайсс', 'шведская', 'горечь'],\n 'Децитана': ['децитана'],\n 'Хеверт панкреатикум': ['хеверт', 'панкреатикум'],\n 'Земигло': ['земигло'],\n 'Амид фенилгексаноилглицил триптофана': ['амид',\n  'фенилгексаноилглицил',\n  'триптофана'],\n 'Кленил': ['кленил'],\n 'Альбумин человеческий 20%': ['альбумин', 'человеческий', '20%'],\n 'Пегилированный рекомбинантный гранулоцитарный колониестимулирующий фактор человека': ['пегилированный',\n  'рекомбинантный',\n  'гранулоцитарный',\n  'колониестимулирующий',\n  'фактор',\n  'человека'],\n 'Супрастин': ['супрастин'],\n 'Лортенза': ['лортенза'],\n 'Амброксол-Верте': ['амброксол', 'верте'],\n 'Валосердин': ['валосердин'],\n 'Аспинат Кардио': ['аспинат', 'кардио'],\n 'Теравит Тоник': ['теравит', 'тоник'],\n 'Силицея ДН': ['силицея', 'дн'],\n 'Аминофиллин-Эском': ['аминофиллин', 'эском'],\n 'Парнасан': ['парнасан'],\n 'Кордафлекс РД': ['кордафлекс', 'рд'],\n 'Эритропоэтин альфа человеческий рекомбинантный': ['эритропоэтин',\n  'альфа',\n  'человеческий',\n  'рекомбинантный'],\n 'Онкокристин': ['онкокристин'],\n 'Гепарин натрия': ['гепарин', 'натрия'],\n 'Иммуноглобулин, обогащенный IgM человеческий': ['иммуноглобулин',\n  'обогащенный',\n  'igm',\n  'человеческий'],\n 'Тиапридал': ['тиапридал'],\n 'Квамател мини': ['квамател', 'мини'],\n 'Пропофол-Медарго': ['пропофол', 'медарго'],\n 'Анастрозол-ТЛ': ['анастрозол', 'тл'],\n 'Фуксин': ['фуксин'],\n 'Эфавиренз': ['эфавиренз'],\n 'Амписид': ['амписид'],\n 'Абраксан': ['абраксан'],\n 'Дротаверин-АЛСИ': ['дротаверин', 'алси'],\n 'Сулотрим': ['сулотрим'],\n 'Норвир': ['норвир'],\n 'Цитиколина мононатриевая соль': ['цитиколина', 'мононатриевая', 'соль'],\n 'Персен Ночь': ['персен', 'ночь'],\n 'Энафарм-Н': ['энафарм', 'н'],\n 'Веномил Эдас-920': ['веномил', 'эдас', '920'],\n 'Тонзилгон Н': ['тонзилгон', 'н'],\n 'Сальбутамол-СОЛОфарм': ['сальбутамол', 'солофарм'],\n 'Азитроцин 0,25 г в капсулах': ['азитроцин', '0', '25', 'г', 'в', 'капсулах'],\n 'Дитамал': ['дитамал'],\n 'Амброксола гидрохлорид': ['амброксола', 'гидрохлорид'],\n 'Цефтриаксона натриевая соль стерильная': ['цефтриаксона',\n  'натриевая',\n  'соль',\n  'стерильная'],\n 'БРИВИАК': ['бривиак'],\n 'Спаздользин для детей': ['спаздользин', 'для', 'детей'],\n 'Лизиноприл Органика': ['лизиноприл', 'органика'],\n 'Рекомбинантный человеческий инсулин': ['рекомбинантный',\n  'человеческий',\n  'инсулин'],\n 'Хиберикс': ['хиберикс'],\n 'Гипозоль': ['гипозоль'],\n 'Интровиз': ['интровиз'],\n 'Матрикария ДН': ['матрикария', 'дн'],\n 'Ретапрес': ['ретапрес'],\n 'Валерианы корневищ с корнями брикет': ['валерианы',\n  'корневищ',\n  'с',\n  'корнями',\n  'брикет'],\n 'Флутотера': ['флутотера'],\n 'Уреакапс, 14С': ['уреакапс', '14с'],\n 'Леветинол': ['леветинол'],\n 'Гепарина натриевая соль': ['гепарина', 'натриевая', 'соль'],\n 'Омнопон': ['омнопон'],\n 'Клофелина таблетки': ['клофелина', 'таблетки'],\n 'Викс Актив Бальзам с ментолом и эвкалиптом': ['викс',\n  'актив',\n  'бальзам',\n  'с',\n  'ментолом',\n  'и',\n  'эвкалиптом'],\n 'Фламин': ['фламин'],\n 'Имозимаза': ['имозимаза'],\n 'Рута пахучая': ['рута', 'пахучая'],\n 'Анальгина раствор в ампулах': ['анальгина', 'раствор', 'в', 'ампулах'],\n 'Оксациллина натриевая соль 0,25 г в капсулах': ['оксациллина',\n  'натриевая',\n  'соль',\n  '0',\n  '25',\n  'г',\n  'в',\n  'капсулах'],\n 'Пропофол-ЭГЕН': ['пропофол', 'эген'],\n 'Инванз': ['инванз'],\n 'Цифран': ['цифран'],\n 'Гамунекс-С': ['гамунекс', 'с'],\n 'Клацид': ['клацид'],\n 'Куркумы экстракт сухой': ['куркумы', 'экстракт', 'сухой'],\n 'Лозартан-Тева': ['лозартан', 'тева'],\n 'Трийодтиронин 50 Берлин-Хеми': ['трийодтиронин', '50', 'берлин', 'хеми'],\n 'Фасоли обыкновенной плодов створки': ['фасоли',\n  'обыкновенной',\n  'плодов',\n  'створки'],\n 'Лефлобакт Форте': ['лефлобакт', 'форте'],\n 'Фито Ново-Сед': ['фито', 'ново', 'сед'],\n 'Бриканил': ['бриканил'],\n 'Лейкопластырь': ['лейкопластырь'],\n 'Диабрезид™': ['диабрезид™'],\n 'Артра МСМ форте': ['артра', 'мсм', 'форте'],\n 'Тиамина хлорид-ЭХО': ['тиамина', 'хлорид', 'эхо'],\n 'Гликлазид': ['гликлазид'],\n 'Эфтиллин': ['эфтиллин'],\n 'Тромбитал Форте': ['тромбитал', 'форте'],\n 'Детромб': ['детромб'],\n 'Феринжект': ['феринжект'],\n 'Ксалаком': ['ксалаком'],\n 'Натемилле': ['натемилле'],\n 'Бифиформ Малыш': ['бифиформ', 'малыш'],\n 'Рилептид': ['рилептид'],\n 'Лазаран ВМ': ['лазаран', 'вм'],\n 'Меркуриус солюбилис': ['меркуриус', 'солюбилис'],\n 'ВАП 500': ['вап', '500'],\n 'Интерфераль': ['интерфераль'],\n 'Кеторолак Ромфарм': ['кеторолак', 'ромфарм'],\n 'Силкарен': ['силкарен'],\n 'Ибертан Плюс': ['ибертан', 'плюс'],\n 'Цефоперазон и Сульбактам Джодас': ['цефоперазон',\n  'и',\n  'сульбактам',\n  'джодас'],\n 'Золиспан': ['золиспан'],\n 'Валидол': ['валидол'],\n 'Карветренд': ['карветренд'],\n 'Праксбайнд': ['праксбайнд'],\n 'Апранакс': ['апранакс'],\n 'Кальция хлорид кристаллический': ['кальция', 'хлорид', 'кристаллический'],\n 'Лопинавир+Ритонавир': ['лопинавир+ритонавир'],\n 'Дофамин-Бинергия': ['дофамин', 'бинергия'],\n 'Соматулин Аутожель': ['соматулин', 'аутожель'],\n 'Аллерген из овсяной крупы для диагностики': ['аллерген',\n  'из',\n  'овсяной',\n  'крупы',\n  'для',\n  'диагностики'],\n 'Перлитол ПФ': ['перлитол', 'пф'],\n 'Флавамед форте': ['флавамед', 'форте'],\n 'Адемпас': ['адемпас'],\n 'Алоэ экстракт сухой': ['алоэ', 'экстракт', 'сухой'],\n 'Элисо': ['элисо'],\n 'Дортимол Антиглау ЭКО': ['дортимол', 'антиглау', 'эко'],\n 'НОК': ['нок'],\n 'Тенофовира дизопроксил фумарат': ['тенофовира', 'дизопроксил', 'фумарат'],\n 'Кордиамин - Эко': ['кордиамин', 'эко'],\n ...}"
     },
     "execution_count": 96,
     "metadata": {},
     "output_type": "execute_result"
    }
   ],
   "source": [
    "medsis_cache"
   ],
   "metadata": {
    "collapsed": false,
    "pycharm": {
     "name": "#%%\n"
    }
   }
  },
  {
   "cell_type": "code",
   "execution_count": null,
   "outputs": [],
   "source": [],
   "metadata": {
    "collapsed": false,
    "pycharm": {
     "name": "#%%\n"
    }
   }
  }
 ],
 "metadata": {
  "kernelspec": {
   "display_name": "Python 3",
   "language": "python",
   "name": "python3"
  },
  "language_info": {
   "codemirror_mode": {
    "name": "ipython",
    "version": 2
   },
   "file_extension": ".py",
   "mimetype": "text/x-python",
   "name": "python",
   "nbconvert_exporter": "python",
   "pygments_lexer": "ipython2",
   "version": "2.7.6"
  }
 },
 "nbformat": 4,
 "nbformat_minor": 0
}